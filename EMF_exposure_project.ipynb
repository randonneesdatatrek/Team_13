{
  "nbformat": 4,
  "nbformat_minor": 0,
  "metadata": {
    "colab": {
      "name": "EMF exposure project.ipynb",
      "provenance": []
    },
    "kernelspec": {
      "name": "python3",
      "display_name": "Python 3"
    }
  },
  "cells": [
    {
      "cell_type": "code",
      "metadata": {
        "colab": {
          "base_uri": "https://localhost:8080/"
        },
        "id": "gSWRp-HnWc_5",
        "outputId": "0a7ac013-b71a-472c-adc7-9e2e8aba2194"
      },
      "source": [
        "print('a coeur vaillant rien d impossible ')"
      ],
      "execution_count": 1,
      "outputs": [
        {
          "output_type": "stream",
          "text": [
            "a coeur vaillant rien d impossible \n"
          ],
          "name": "stdout"
        }
      ]
    },
    {
      "cell_type": "code",
      "metadata": {
        "colab": {
          "base_uri": "https://localhost:8080/"
        },
        "id": "B1H94DhLWltq",
        "outputId": "4727c789-01ea-44ee-f350-d6cbde49a9ed"
      },
      "source": [
        "!pip install --upgrade gspread"
      ],
      "execution_count": 2,
      "outputs": [
        {
          "output_type": "stream",
          "text": [
            "Collecting gspread\n",
            "  Downloading https://files.pythonhosted.org/packages/9c/ba/bc8de4f5077bd34bc873bdd67a89cb29c4f181abba8a836d2c6a0a142365/gspread-3.6.0-py3-none-any.whl\n",
            "Requirement already satisfied, skipping upgrade: google-auth>=1.12.0 in /usr/local/lib/python3.6/dist-packages (from gspread) (1.24.0)\n",
            "Requirement already satisfied, skipping upgrade: requests>=2.2.1 in /usr/local/lib/python3.6/dist-packages (from gspread) (2.23.0)\n",
            "Requirement already satisfied, skipping upgrade: google-auth-oauthlib>=0.4.1 in /usr/local/lib/python3.6/dist-packages (from gspread) (0.4.2)\n",
            "Requirement already satisfied, skipping upgrade: rsa<5,>=3.1.4; python_version >= \"3.6\" in /usr/local/lib/python3.6/dist-packages (from google-auth>=1.12.0->gspread) (4.7)\n",
            "Requirement already satisfied, skipping upgrade: six>=1.9.0 in /usr/local/lib/python3.6/dist-packages (from google-auth>=1.12.0->gspread) (1.15.0)\n",
            "Requirement already satisfied, skipping upgrade: pyasn1-modules>=0.2.1 in /usr/local/lib/python3.6/dist-packages (from google-auth>=1.12.0->gspread) (0.2.8)\n",
            "Requirement already satisfied, skipping upgrade: setuptools>=40.3.0 in /usr/local/lib/python3.6/dist-packages (from google-auth>=1.12.0->gspread) (53.0.0)\n",
            "Requirement already satisfied, skipping upgrade: cachetools<5.0,>=2.0.0 in /usr/local/lib/python3.6/dist-packages (from google-auth>=1.12.0->gspread) (4.2.1)\n",
            "Requirement already satisfied, skipping upgrade: urllib3!=1.25.0,!=1.25.1,<1.26,>=1.21.1 in /usr/local/lib/python3.6/dist-packages (from requests>=2.2.1->gspread) (1.24.3)\n",
            "Requirement already satisfied, skipping upgrade: idna<3,>=2.5 in /usr/local/lib/python3.6/dist-packages (from requests>=2.2.1->gspread) (2.10)\n",
            "Requirement already satisfied, skipping upgrade: chardet<4,>=3.0.2 in /usr/local/lib/python3.6/dist-packages (from requests>=2.2.1->gspread) (3.0.4)\n",
            "Requirement already satisfied, skipping upgrade: certifi>=2017.4.17 in /usr/local/lib/python3.6/dist-packages (from requests>=2.2.1->gspread) (2020.12.5)\n",
            "Requirement already satisfied, skipping upgrade: requests-oauthlib>=0.7.0 in /usr/local/lib/python3.6/dist-packages (from google-auth-oauthlib>=0.4.1->gspread) (1.3.0)\n",
            "Requirement already satisfied, skipping upgrade: pyasn1>=0.1.3 in /usr/local/lib/python3.6/dist-packages (from rsa<5,>=3.1.4; python_version >= \"3.6\"->google-auth>=1.12.0->gspread) (0.4.8)\n",
            "Requirement already satisfied, skipping upgrade: oauthlib>=3.0.0 in /usr/local/lib/python3.6/dist-packages (from requests-oauthlib>=0.7.0->google-auth-oauthlib>=0.4.1->gspread) (3.1.0)\n",
            "Installing collected packages: gspread\n",
            "  Found existing installation: gspread 3.0.1\n",
            "    Uninstalling gspread-3.0.1:\n",
            "      Successfully uninstalled gspread-3.0.1\n",
            "Successfully installed gspread-3.6.0\n"
          ],
          "name": "stdout"
        }
      ]
    },
    {
      "cell_type": "code",
      "metadata": {
        "id": "bSR6-DdmWo2g"
      },
      "source": [
        "from google.colab import auth\r\n",
        "auth.authenticate_user()\r\n",
        "\r\n",
        "import gspread\r\n",
        "from oauth2client.client import GoogleCredentials\r\n",
        "\r\n",
        "gc = gspread.authorize(GoogleCredentials.get_application_default())"
      ],
      "execution_count": 3,
      "outputs": []
    },
    {
      "cell_type": "markdown",
      "metadata": {
        "id": "aaE8mNETgsd6"
      },
      "source": [
        "Importer les librairies"
      ]
    },
    {
      "cell_type": "code",
      "metadata": {
        "id": "8tM2CtykW8Om"
      },
      "source": [
        "import pandas as pd\r\n",
        "import matplotlib.pyplot as plt"
      ],
      "execution_count": 3,
      "outputs": []
    },
    {
      "cell_type": "markdown",
      "metadata": {
        "id": "ArSBw8D2gzP6"
      },
      "source": [
        "Importer mon Jeux de données: EMF Exposure Data"
      ]
    },
    {
      "cell_type": "code",
      "metadata": {
        "id": "jzeRovMiYeQ1"
      },
      "source": [
        "wb = gc.open_by_url('https://docs.google.com/spreadsheets/d/1wVN0RAiFJzCqO77-rQY7sNJdpEUzh0G7TVOHOR5Al5g/edit#gid=915060736')"
      ],
      "execution_count": 5,
      "outputs": []
    },
    {
      "cell_type": "code",
      "metadata": {
        "id": "jvUljyZ6Yk8k"
      },
      "source": [
        "sheet = wb.worksheet('Appendix A')"
      ],
      "execution_count": 6,
      "outputs": []
    },
    {
      "cell_type": "code",
      "metadata": {
        "id": "8qDR9MabYotr"
      },
      "source": [
        "data = sheet.get_all_values()"
      ],
      "execution_count": 7,
      "outputs": []
    },
    {
      "cell_type": "code",
      "metadata": {
        "id": "TuYiypy5YrHr"
      },
      "source": [
        "df = pd.DataFrame(data)\r\n",
        "df.columns = df.iloc[0]\r\n",
        "df = df.iloc[1:]"
      ],
      "execution_count": 8,
      "outputs": []
    },
    {
      "cell_type": "code",
      "metadata": {
        "colab": {
          "base_uri": "https://localhost:8080/",
          "height": 195
        },
        "id": "VtQghHxobaDQ",
        "outputId": "5ce90f63-da0f-45d2-b5e3-b2dd2eec4936"
      },
      "source": [
        "df.head()"
      ],
      "execution_count": 9,
      "outputs": [
        {
          "output_type": "execute_result",
          "data": {
            "text/html": [
              "<div>\n",
              "<style scoped>\n",
              "    .dataframe tbody tr th:only-of-type {\n",
              "        vertical-align: middle;\n",
              "    }\n",
              "\n",
              "    .dataframe tbody tr th {\n",
              "        vertical-align: top;\n",
              "    }\n",
              "\n",
              "    .dataframe thead th {\n",
              "        text-align: right;\n",
              "    }\n",
              "</style>\n",
              "<table border=\"1\" class=\"dataframe\">\n",
              "  <thead>\n",
              "    <tr style=\"text-align: right;\">\n",
              "      <th></th>\n",
              "      <th>Appendix A.  Primary Standard Occupational Classifications (SOC)</th>\n",
              "      <th></th>\n",
              "      <th></th>\n",
              "      <th></th>\n",
              "      <th></th>\n",
              "      <th></th>\n",
              "      <th></th>\n",
              "      <th></th>\n",
              "      <th></th>\n",
              "      <th></th>\n",
              "      <th></th>\n",
              "      <th></th>\n",
              "    </tr>\n",
              "  </thead>\n",
              "  <tbody>\n",
              "    <tr>\n",
              "      <th>500</th>\n",
              "      <td>bus drivers</td>\n",
              "      <td>8215</td>\n",
              "      <td>24</td>\n",
              "      <td>2</td>\n",
              "      <td>0,107</td>\n",
              "      <td>0,035</td>\n",
              "      <td>0,008</td>\n",
              "      <td>1,40</td>\n",
              "      <td>0,001</td>\n",
              "      <td>0,106</td>\n",
              "      <td>0,0036</td>\n",
              "      <td>Raw</td>\n",
              "    </tr>\n",
              "    <tr>\n",
              "      <th>501</th>\n",
              "      <td>taxicab drivers and chauffeurs</td>\n",
              "      <td>8216</td>\n",
              "      <td>45</td>\n",
              "      <td>2</td>\n",
              "      <td>0,245</td>\n",
              "      <td>0,724</td>\n",
              "      <td>5,105</td>\n",
              "      <td>2,55</td>\n",
              "      <td></td>\n",
              "      <td></td>\n",
              "      <td></td>\n",
              "      <td>Inferred</td>\n",
              "    </tr>\n",
              "    <tr>\n",
              "      <th>502</th>\n",
              "      <td>driver-sales worker</td>\n",
              "      <td>8218</td>\n",
              "      <td>45</td>\n",
              "      <td>2</td>\n",
              "      <td>0,245</td>\n",
              "      <td>0,724</td>\n",
              "      <td>5,105</td>\n",
              "      <td>2,55</td>\n",
              "      <td></td>\n",
              "      <td></td>\n",
              "      <td></td>\n",
              "      <td>Inferred</td>\n",
              "    </tr>\n",
              "    <tr>\n",
              "      <th>503</th>\n",
              "      <td>railroad brake, signal, and switch operators</td>\n",
              "      <td>8233</td>\n",
              "      <td>7</td>\n",
              "      <td>1</td>\n",
              "      <td>0,570</td>\n",
              "      <td>0,562</td>\n",
              "      <td>3,691</td>\n",
              "      <td>2,24</td>\n",
              "      <td></td>\n",
              "      <td></td>\n",
              "      <td></td>\n",
              "      <td>Inferred</td>\n",
              "    </tr>\n",
              "    <tr>\n",
              "      <th>504</th>\n",
              "      <td>rail vehicle operators, not elsewhere classified</td>\n",
              "      <td>8239</td>\n",
              "      <td>7</td>\n",
              "      <td>1</td>\n",
              "      <td>0,570</td>\n",
              "      <td>0,562</td>\n",
              "      <td>3,691</td>\n",
              "      <td>2,24</td>\n",
              "      <td></td>\n",
              "      <td></td>\n",
              "      <td></td>\n",
              "      <td>Inferred</td>\n",
              "    </tr>\n",
              "  </tbody>\n",
              "</table>\n",
              "</div>"
            ],
            "text/plain": [
              "0   Appendix A.  Primary Standard Occupational Classifications (SOC)   ...          \n",
              "500                                        bus drivers                 ...       Raw\n",
              "501                     taxicab drivers and chauffeurs                 ...  Inferred\n",
              "502                                driver-sales worker                 ...  Inferred\n",
              "503       railroad brake, signal, and switch operators                 ...  Inferred\n",
              "504   rail vehicle operators, not elsewhere classified                 ...  Inferred\n",
              "\n",
              "[5 rows x 12 columns]"
            ]
          },
          "metadata": {
            "tags": []
          },
          "execution_count": 9
        }
      ]
    },
    {
      "cell_type": "code",
      "metadata": {
        "id": "B7SluTZXcUd9"
      },
      "source": [
        "sheet = wb.worksheet('Appendix B')"
      ],
      "execution_count": 10,
      "outputs": []
    },
    {
      "cell_type": "code",
      "metadata": {
        "id": "uWrX61XZc0nT"
      },
      "source": [
        "data = sheet.get_all_values()"
      ],
      "execution_count": 11,
      "outputs": []
    },
    {
      "cell_type": "code",
      "metadata": {
        "id": "BuJBCHdac2_r"
      },
      "source": [
        "df = pd.DataFrame(data)\r\n",
        "df.columns = df.iloc[0]\r\n",
        "df = df.iloc[1:]"
      ],
      "execution_count": 12,
      "outputs": []
    },
    {
      "cell_type": "code",
      "metadata": {
        "colab": {
          "base_uri": "https://localhost:8080/",
          "height": 195
        },
        "id": "ZHJaxAkic5Hs",
        "outputId": "81c94923-cf32-4c4c-f366-5995efe9c23d"
      },
      "source": [
        "df.head()"
      ],
      "execution_count": 13,
      "outputs": [
        {
          "output_type": "execute_result",
          "data": {
            "text/html": [
              "<div>\n",
              "<style scoped>\n",
              "    .dataframe tbody tr th:only-of-type {\n",
              "        vertical-align: middle;\n",
              "    }\n",
              "\n",
              "    .dataframe tbody tr th {\n",
              "        vertical-align: top;\n",
              "    }\n",
              "\n",
              "    .dataframe thead th {\n",
              "        text-align: right;\n",
              "    }\n",
              "</style>\n",
              "<table border=\"1\" class=\"dataframe\">\n",
              "  <thead>\n",
              "    <tr style=\"text-align: right;\">\n",
              "      <th></th>\n",
              "      <th>Appendix B.  Three-digit Standard Occupational Classifications (SOC)</th>\n",
              "      <th></th>\n",
              "      <th></th>\n",
              "      <th></th>\n",
              "      <th></th>\n",
              "      <th></th>\n",
              "      <th></th>\n",
              "      <th></th>\n",
              "      <th></th>\n",
              "      <th></th>\n",
              "      <th></th>\n",
              "      <th></th>\n",
              "      <th></th>\n",
              "    </tr>\n",
              "  </thead>\n",
              "  <tbody>\n",
              "    <tr>\n",
              "      <th>1</th>\n",
              "      <td>Occupation</td>\n",
              "      <td>SOC</td>\n",
              "      <td>Subjects</td>\n",
              "      <td>Groups</td>\n",
              "      <td>AM (uT)</td>\n",
              "      <td>SD (uT)</td>\n",
              "      <td>GM (uT)</td>\n",
              "      <td>GSD</td>\n",
              "      <td>Within Var</td>\n",
              "      <td>Between Var</td>\n",
              "      <td>P for F test</td>\n",
              "      <td>Data Type</td>\n",
              "      <td>Category Type</td>\n",
              "    </tr>\n",
              "    <tr>\n",
              "      <th>2</th>\n",
              "      <td>officials and administrators, public administr...</td>\n",
              "      <td>111</td>\n",
              "      <td>15</td>\n",
              "      <td>1</td>\n",
              "      <td>0,180</td>\n",
              "      <td>0,061</td>\n",
              "      <td>0,170</td>\n",
              "      <td>1,39</td>\n",
              "      <td></td>\n",
              "      <td></td>\n",
              "      <td></td>\n",
              "      <td>Inferred</td>\n",
              "      <td>Primary</td>\n",
              "    </tr>\n",
              "    <tr>\n",
              "      <th>3</th>\n",
              "      <td>chief executives and general administrators</td>\n",
              "      <td>112</td>\n",
              "      <td>15</td>\n",
              "      <td>1</td>\n",
              "      <td>0,180</td>\n",
              "      <td>0,063</td>\n",
              "      <td>0,170</td>\n",
              "      <td>1,40</td>\n",
              "      <td>0,0039</td>\n",
              "      <td>0,0000</td>\n",
              "      <td></td>\n",
              "      <td>Raw</td>\n",
              "      <td>Primary</td>\n",
              "    </tr>\n",
              "    <tr>\n",
              "      <th>4</th>\n",
              "      <td>officials and administrators, government agencies</td>\n",
              "      <td>113</td>\n",
              "      <td>15</td>\n",
              "      <td>1</td>\n",
              "      <td>0,180</td>\n",
              "      <td>0,063</td>\n",
              "      <td>0,170</td>\n",
              "      <td>1,40</td>\n",
              "      <td>0,0039</td>\n",
              "      <td>0,0000</td>\n",
              "      <td></td>\n",
              "      <td>Raw</td>\n",
              "      <td>Group</td>\n",
              "    </tr>\n",
              "    <tr>\n",
              "      <th>5</th>\n",
              "      <td>general managers and other top executives</td>\n",
              "      <td>121</td>\n",
              "      <td>8</td>\n",
              "      <td>1</td>\n",
              "      <td>0,190</td>\n",
              "      <td>0,203</td>\n",
              "      <td>0,130</td>\n",
              "      <td>2,39</td>\n",
              "      <td>0,0410</td>\n",
              "      <td>0,0000</td>\n",
              "      <td></td>\n",
              "      <td>Raw</td>\n",
              "      <td>Primary</td>\n",
              "    </tr>\n",
              "  </tbody>\n",
              "</table>\n",
              "</div>"
            ],
            "text/plain": [
              "0 Appendix B.  Three-digit Standard Occupational Classifications (SOC)   ...               \n",
              "1                                       Occupation                       ...  Category Type\n",
              "2  officials and administrators, public administr...                     ...        Primary\n",
              "3        chief executives and general administrators                     ...        Primary\n",
              "4  officials and administrators, government agencies                     ...          Group\n",
              "5          general managers and other top executives                     ...        Primary\n",
              "\n",
              "[5 rows x 13 columns]"
            ]
          },
          "metadata": {
            "tags": []
          },
          "execution_count": 13
        }
      ]
    },
    {
      "cell_type": "code",
      "metadata": {
        "id": "Yrd5fXGOc7h6"
      },
      "source": [
        "\r\n",
        "sheet = wb.worksheet('Appendix C')"
      ],
      "execution_count": 19,
      "outputs": []
    },
    {
      "cell_type": "code",
      "metadata": {
        "id": "bc5iMOTJdCvS"
      },
      "source": [
        "data = sheet.get_all_values()\r\n"
      ],
      "execution_count": 20,
      "outputs": []
    },
    {
      "cell_type": "code",
      "metadata": {
        "id": "ovQaUqNzdwjp"
      },
      "source": [
        "df = pd.DataFrame(data)\r\n",
        "df.columns = df.iloc[0]\r\n",
        "df = df.iloc[1:]"
      ],
      "execution_count": 21,
      "outputs": []
    },
    {
      "cell_type": "code",
      "metadata": {
        "colab": {
          "base_uri": "https://localhost:8080/",
          "height": 195
        },
        "id": "DxqEur6NdymA",
        "outputId": "112f81ac-cb19-4909-85cc-8927a4c51bb1"
      },
      "source": [
        "df.head()"
      ],
      "execution_count": 22,
      "outputs": [
        {
          "output_type": "execute_result",
          "data": {
            "text/html": [
              "<div>\n",
              "<style scoped>\n",
              "    .dataframe tbody tr th:only-of-type {\n",
              "        vertical-align: middle;\n",
              "    }\n",
              "\n",
              "    .dataframe tbody tr th {\n",
              "        vertical-align: top;\n",
              "    }\n",
              "\n",
              "    .dataframe thead th {\n",
              "        text-align: right;\n",
              "    }\n",
              "</style>\n",
              "<table border=\"1\" class=\"dataframe\">\n",
              "  <thead>\n",
              "    <tr style=\"text-align: right;\">\n",
              "      <th></th>\n",
              "      <th>Appendix C.  Two-digit Standard Occupational Classifications (SOC)</th>\n",
              "      <th></th>\n",
              "      <th></th>\n",
              "      <th></th>\n",
              "      <th></th>\n",
              "      <th></th>\n",
              "      <th></th>\n",
              "      <th></th>\n",
              "      <th></th>\n",
              "      <th></th>\n",
              "      <th></th>\n",
              "      <th></th>\n",
              "      <th></th>\n",
              "    </tr>\n",
              "  </thead>\n",
              "  <tbody>\n",
              "    <tr>\n",
              "      <th>1</th>\n",
              "      <td>Occupation</td>\n",
              "      <td>SOC</td>\n",
              "      <td>Subjects</td>\n",
              "      <td>Groups</td>\n",
              "      <td>AM (uT)</td>\n",
              "      <td>SD (uT)</td>\n",
              "      <td>GM (uT)</td>\n",
              "      <td>GSD</td>\n",
              "      <td>Within Var</td>\n",
              "      <td>Between Var</td>\n",
              "      <td>P for F test</td>\n",
              "      <td>Data Type</td>\n",
              "      <td>Category Type</td>\n",
              "    </tr>\n",
              "    <tr>\n",
              "      <th>2</th>\n",
              "      <td>officials and administrators, public administr...</td>\n",
              "      <td>11</td>\n",
              "      <td>15</td>\n",
              "      <td>1</td>\n",
              "      <td>0,180</td>\n",
              "      <td>0,063</td>\n",
              "      <td>0,170</td>\n",
              "      <td>1,40</td>\n",
              "      <td>0,0039</td>\n",
              "      <td>0,0000</td>\n",
              "      <td></td>\n",
              "      <td>Raw</td>\n",
              "      <td>Group</td>\n",
              "    </tr>\n",
              "    <tr>\n",
              "      <th>3</th>\n",
              "      <td>officials and administrators, other</td>\n",
              "      <td>12-13</td>\n",
              "      <td>126</td>\n",
              "      <td>16</td>\n",
              "      <td>0,186</td>\n",
              "      <td>0,200</td>\n",
              "      <td>0,143</td>\n",
              "      <td>1,96</td>\n",
              "      <td>0,0364</td>\n",
              "      <td>0,0035</td>\n",
              "      <td>0,7646</td>\n",
              "      <td>Raw</td>\n",
              "      <td>Group</td>\n",
              "    </tr>\n",
              "    <tr>\n",
              "      <th>4</th>\n",
              "      <td>management related occupations</td>\n",
              "      <td>14</td>\n",
              "      <td>87</td>\n",
              "      <td>9</td>\n",
              "      <td>0,156</td>\n",
              "      <td>0,101</td>\n",
              "      <td>0,131</td>\n",
              "      <td>1,79</td>\n",
              "      <td>0,0098</td>\n",
              "      <td>0,0005</td>\n",
              "      <td>0,8829</td>\n",
              "      <td>Raw</td>\n",
              "      <td>Group</td>\n",
              "    </tr>\n",
              "    <tr>\n",
              "      <th>5</th>\n",
              "      <td>engineers, surveyors and architects</td>\n",
              "      <td>16</td>\n",
              "      <td>182</td>\n",
              "      <td>10</td>\n",
              "      <td>0,246</td>\n",
              "      <td>0,257</td>\n",
              "      <td>0,175</td>\n",
              "      <td>2,19</td>\n",
              "      <td>0,0613</td>\n",
              "      <td>0,0046</td>\n",
              "      <td>0,1828</td>\n",
              "      <td>Raw</td>\n",
              "      <td>Group</td>\n",
              "    </tr>\n",
              "  </tbody>\n",
              "</table>\n",
              "</div>"
            ],
            "text/plain": [
              "0 Appendix C.  Two-digit Standard Occupational Classifications (SOC)   ...               \n",
              "1                                       Occupation                     ...  Category Type\n",
              "2  officials and administrators, public administr...                   ...          Group\n",
              "3                officials and administrators, other                   ...          Group\n",
              "4                     management related occupations                   ...          Group\n",
              "5                engineers, surveyors and architects                   ...          Group\n",
              "\n",
              "[5 rows x 13 columns]"
            ]
          },
          "metadata": {
            "tags": []
          },
          "execution_count": 22
        }
      ]
    },
    {
      "cell_type": "code",
      "metadata": {
        "id": "iWTlFZB4d1KY"
      },
      "source": [
        "\r\n",
        "sheet = wb.worksheet('Appendix D')"
      ],
      "execution_count": 23,
      "outputs": []
    },
    {
      "cell_type": "code",
      "metadata": {
        "id": "LWMPc0RAd--Y"
      },
      "source": [
        "data = sheet.get_all_values()"
      ],
      "execution_count": 24,
      "outputs": []
    },
    {
      "cell_type": "code",
      "metadata": {
        "id": "oTP4Kc1ZeA6Q"
      },
      "source": [
        "df = pd.DataFrame(data)\r\n",
        "df.columns = df.iloc[0]\r\n",
        "df = df.iloc[1:]"
      ],
      "execution_count": 25,
      "outputs": []
    },
    {
      "cell_type": "code",
      "metadata": {
        "colab": {
          "base_uri": "https://localhost:8080/",
          "height": 195
        },
        "id": "OaH3pkMYeEDQ",
        "outputId": "caa61e90-490d-46e9-a77d-817d212f9eb6"
      },
      "source": [
        "df.head()"
      ],
      "execution_count": 26,
      "outputs": [
        {
          "output_type": "execute_result",
          "data": {
            "text/html": [
              "<div>\n",
              "<style scoped>\n",
              "    .dataframe tbody tr th:only-of-type {\n",
              "        vertical-align: middle;\n",
              "    }\n",
              "\n",
              "    .dataframe tbody tr th {\n",
              "        vertical-align: top;\n",
              "    }\n",
              "\n",
              "    .dataframe thead th {\n",
              "        text-align: right;\n",
              "    }\n",
              "</style>\n",
              "<table border=\"1\" class=\"dataframe\">\n",
              "  <thead>\n",
              "    <tr style=\"text-align: right;\">\n",
              "      <th></th>\n",
              "      <th>Appendix D.  Bureau of Census (BOC) occupations</th>\n",
              "      <th></th>\n",
              "      <th></th>\n",
              "      <th></th>\n",
              "      <th></th>\n",
              "      <th></th>\n",
              "      <th></th>\n",
              "      <th></th>\n",
              "      <th></th>\n",
              "    </tr>\n",
              "  </thead>\n",
              "  <tbody>\n",
              "    <tr>\n",
              "      <th>1</th>\n",
              "      <td>Occupation</td>\n",
              "      <td>BOC</td>\n",
              "      <td>Subjects</td>\n",
              "      <td>Groups</td>\n",
              "      <td>AM (uT)</td>\n",
              "      <td>SD (uT)</td>\n",
              "      <td>GM (uT)</td>\n",
              "      <td>GSD</td>\n",
              "      <td>Data Type</td>\n",
              "    </tr>\n",
              "    <tr>\n",
              "      <th>2</th>\n",
              "      <td>Legislators</td>\n",
              "      <td>3</td>\n",
              "      <td>15</td>\n",
              "      <td>1</td>\n",
              "      <td>0,180</td>\n",
              "      <td>0,061</td>\n",
              "      <td>0,170</td>\n",
              "      <td>1,39</td>\n",
              "      <td>Inferred</td>\n",
              "    </tr>\n",
              "    <tr>\n",
              "      <th>3</th>\n",
              "      <td>Chief executives and general administrators, p...</td>\n",
              "      <td>4</td>\n",
              "      <td>15</td>\n",
              "      <td>1</td>\n",
              "      <td>0,180</td>\n",
              "      <td>0,063</td>\n",
              "      <td>0,170</td>\n",
              "      <td>1,40</td>\n",
              "      <td>Raw</td>\n",
              "    </tr>\n",
              "    <tr>\n",
              "      <th>4</th>\n",
              "      <td>Administrators, and officials, public administ...</td>\n",
              "      <td>5</td>\n",
              "      <td>15</td>\n",
              "      <td>1</td>\n",
              "      <td>0,180</td>\n",
              "      <td>0,061</td>\n",
              "      <td>0,170</td>\n",
              "      <td>1,39</td>\n",
              "      <td>Inferred</td>\n",
              "    </tr>\n",
              "    <tr>\n",
              "      <th>5</th>\n",
              "      <td>Administrators, protective services</td>\n",
              "      <td>6</td>\n",
              "      <td>15</td>\n",
              "      <td>1</td>\n",
              "      <td>0,180</td>\n",
              "      <td>0,061</td>\n",
              "      <td>0,170</td>\n",
              "      <td>1,39</td>\n",
              "      <td>Inferred</td>\n",
              "    </tr>\n",
              "  </tbody>\n",
              "</table>\n",
              "</div>"
            ],
            "text/plain": [
              "0    Appendix D.  Bureau of Census (BOC) occupations       ...                 \n",
              "1                                        Occupation   BOC  ...   GSD  Data Type\n",
              "2                                        Legislators    3  ...  1,39   Inferred\n",
              "3  Chief executives and general administrators, p...    4  ...  1,40        Raw\n",
              "4  Administrators, and officials, public administ...    5  ...  1,39   Inferred\n",
              "5                Administrators, protective services    6  ...  1,39   Inferred\n",
              "\n",
              "[5 rows x 9 columns]"
            ]
          },
          "metadata": {
            "tags": []
          },
          "execution_count": 26
        }
      ]
    },
    {
      "cell_type": "code",
      "metadata": {
        "id": "FTdfuIf1gkVa"
      },
      "source": [
        "from google.colab import auth\r\n",
        "auth.authenticate_user()\r\n",
        "\r\n",
        "import gspread\r\n",
        "from oauth2client.client import GoogleCredentials\r\n",
        "\r\n",
        "gc = gspread.authorize(GoogleCredentials.get_application_default())"
      ],
      "execution_count": 2,
      "outputs": []
    },
    {
      "cell_type": "code",
      "metadata": {
        "id": "tYRhiks5xuuI"
      },
      "source": [
        "import pandas as pd\r\n",
        "import matplotlib.pyplot as plt"
      ],
      "execution_count": 4,
      "outputs": []
    },
    {
      "cell_type": "markdown",
      "metadata": {
        "id": "wqzgK4x3yPEW"
      },
      "source": [
        "Importer mon Jeux de données: Exposure limits EMF by WHO\r\n"
      ]
    },
    {
      "cell_type": "code",
      "metadata": {
        "id": "z2iTLGhcyl8M"
      },
      "source": [
        "wb = gc.open_by_url('https://docs.google.com/spreadsheets/d/1KldlICLvvCr5kcSJwh5C-aQwAFUdjGfYtNwU-ux-YJ4/edit#gid=355849079')"
      ],
      "execution_count": 7,
      "outputs": []
    },
    {
      "cell_type": "code",
      "metadata": {
        "id": "z5oJAzorywi7"
      },
      "source": [
        "sheet = wb.worksheet('Exposure limits for static fields (public)')"
      ],
      "execution_count": 8,
      "outputs": []
    },
    {
      "cell_type": "code",
      "metadata": {
        "id": "BvAOAurCy4TD"
      },
      "source": [
        "data = sheet.get_all_values()\r\n"
      ],
      "execution_count": 9,
      "outputs": []
    },
    {
      "cell_type": "code",
      "metadata": {
        "id": "0uhUQ7cLy92T"
      },
      "source": [
        "df = pd.DataFrame(data)\r\n",
        "df.columns = df.iloc[0]\r\n",
        "df = df.iloc[1:]"
      ],
      "execution_count": 10,
      "outputs": []
    },
    {
      "cell_type": "code",
      "metadata": {
        "colab": {
          "base_uri": "https://localhost:8080/",
          "height": 195
        },
        "id": "DMH75eMxzAZj",
        "outputId": "011638e4-b4a4-4443-9840-124d567f41c4"
      },
      "source": [
        "df.head()"
      ],
      "execution_count": 11,
      "outputs": [
        {
          "output_type": "execute_result",
          "data": {
            "text/html": [
              "<div>\n",
              "<style scoped>\n",
              "    .dataframe tbody tr th:only-of-type {\n",
              "        vertical-align: middle;\n",
              "    }\n",
              "\n",
              "    .dataframe tbody tr th {\n",
              "        vertical-align: top;\n",
              "    }\n",
              "\n",
              "    .dataframe thead th {\n",
              "        text-align: right;\n",
              "    }\n",
              "</style>\n",
              "<table border=\"1\" class=\"dataframe\">\n",
              "  <thead>\n",
              "    <tr style=\"text-align: right;\">\n",
              "      <th></th>\n",
              "      <th></th>\n",
              "      <th></th>\n",
              "      <th>Static</th>\n",
              "      <th>Static</th>\n",
              "    </tr>\n",
              "  </thead>\n",
              "  <tbody>\n",
              "    <tr>\n",
              "      <th>1</th>\n",
              "      <td>Country</td>\n",
              "      <td>Year</td>\n",
              "      <td>Electric field (kV/m)</td>\n",
              "      <td>Magnetic flux density (microT)</td>\n",
              "    </tr>\n",
              "    <tr>\n",
              "      <th>2</th>\n",
              "      <td>Austria</td>\n",
              "      <td>2017</td>\n",
              "      <td></td>\n",
              "      <td>[40,000]</td>\n",
              "    </tr>\n",
              "    <tr>\n",
              "      <th>3</th>\n",
              "      <td>Bahrain</td>\n",
              "      <td>2017</td>\n",
              "      <td></td>\n",
              "      <td>40</td>\n",
              "    </tr>\n",
              "    <tr>\n",
              "      <th>4</th>\n",
              "      <td>Croatia</td>\n",
              "      <td>2018</td>\n",
              "      <td></td>\n",
              "      <td>400</td>\n",
              "    </tr>\n",
              "    <tr>\n",
              "      <th>5</th>\n",
              "      <td>Cyprus</td>\n",
              "      <td>2017</td>\n",
              "      <td></td>\n",
              "      <td>40</td>\n",
              "    </tr>\n",
              "  </tbody>\n",
              "</table>\n",
              "</div>"
            ],
            "text/plain": [
              "0                                Static                          Static\n",
              "1  Country  Year  Electric field (kV/m)  Magnetic flux density (microT)\n",
              "2  Austria  2017                                               [40,000]\n",
              "3  Bahrain  2017                                                     40\n",
              "4  Croatia  2018                                                    400\n",
              "5   Cyprus  2017                                                     40"
            ]
          },
          "metadata": {
            "tags": []
          },
          "execution_count": 11
        }
      ]
    },
    {
      "cell_type": "code",
      "metadata": {
        "id": "94ton70szDPr"
      },
      "source": [
        "sheet = wb.worksheet('Exposure limits for low-frequency fields (public)')"
      ],
      "execution_count": 15,
      "outputs": []
    },
    {
      "cell_type": "code",
      "metadata": {
        "id": "Ujrdj7DozNkz"
      },
      "source": [
        "data = sheet.get_all_values()\r\n"
      ],
      "execution_count": 16,
      "outputs": []
    },
    {
      "cell_type": "code",
      "metadata": {
        "id": "iJWBZG3Bze7q"
      },
      "source": [
        "df = pd.DataFrame(data)\r\n",
        "df.columns = df.iloc[0]\r\n",
        "df = df.iloc[1:]"
      ],
      "execution_count": 17,
      "outputs": []
    },
    {
      "cell_type": "code",
      "metadata": {
        "colab": {
          "base_uri": "https://localhost:8080/",
          "height": 195
        },
        "id": "wT-zcazXziAi",
        "outputId": "c3c9732e-b9db-4598-a2da-9f9172dcfbb5"
      },
      "source": [
        "df.head()"
      ],
      "execution_count": 18,
      "outputs": [
        {
          "output_type": "execute_result",
          "data": {
            "text/html": [
              "<div>\n",
              "<style scoped>\n",
              "    .dataframe tbody tr th:only-of-type {\n",
              "        vertical-align: middle;\n",
              "    }\n",
              "\n",
              "    .dataframe tbody tr th {\n",
              "        vertical-align: top;\n",
              "    }\n",
              "\n",
              "    .dataframe thead th {\n",
              "        text-align: right;\n",
              "    }\n",
              "</style>\n",
              "<table border=\"1\" class=\"dataframe\">\n",
              "  <thead>\n",
              "    <tr style=\"text-align: right;\">\n",
              "      <th></th>\n",
              "      <th></th>\n",
              "      <th></th>\n",
              "      <th>Low-frequency</th>\n",
              "      <th>Low-frequency</th>\n",
              "      <th>Low-frequency</th>\n",
              "    </tr>\n",
              "  </thead>\n",
              "  <tbody>\n",
              "    <tr>\n",
              "      <th>1</th>\n",
              "      <td>Country</td>\n",
              "      <td>Year</td>\n",
              "      <td>Electric field (kV/m)</td>\n",
              "      <td>Magnetic flux density (microT)</td>\n",
              "      <td>Power frequency (Hz)</td>\n",
              "    </tr>\n",
              "    <tr>\n",
              "      <th>2</th>\n",
              "      <td>Argentina</td>\n",
              "      <td>2017</td>\n",
              "      <td>3</td>\n",
              "      <td>25</td>\n",
              "      <td>50</td>\n",
              "    </tr>\n",
              "    <tr>\n",
              "      <th>3</th>\n",
              "      <td>Australia</td>\n",
              "      <td>2017</td>\n",
              "      <td>[5]/[10]</td>\n",
              "      <td>[100]/[1000]</td>\n",
              "      <td>50</td>\n",
              "    </tr>\n",
              "    <tr>\n",
              "      <th>4</th>\n",
              "      <td>Austria</td>\n",
              "      <td>2017</td>\n",
              "      <td>[5]</td>\n",
              "      <td>[100]</td>\n",
              "      <td>50</td>\n",
              "    </tr>\n",
              "    <tr>\n",
              "      <th>5</th>\n",
              "      <td>Bahrain</td>\n",
              "      <td>2017</td>\n",
              "      <td>5</td>\n",
              "      <td>100</td>\n",
              "      <td>50</td>\n",
              "    </tr>\n",
              "  </tbody>\n",
              "</table>\n",
              "</div>"
            ],
            "text/plain": [
              "0                   ...                   Low-frequency         Low-frequency\n",
              "1    Country  Year  ...  Magnetic flux density (microT)  Power frequency (Hz)\n",
              "2  Argentina  2017  ...                              25                    50\n",
              "3  Australia  2017  ...                    [100]/[1000]                    50\n",
              "4    Austria  2017  ...                           [100]                    50\n",
              "5    Bahrain  2017  ...                             100                    50\n",
              "\n",
              "[5 rows x 5 columns]"
            ]
          },
          "metadata": {
            "tags": []
          },
          "execution_count": 18
        }
      ]
    },
    {
      "cell_type": "code",
      "metadata": {
        "id": "Hu1qA-Iuzjmq"
      },
      "source": [
        "sheet = wb.worksheet('Exposure limits for radio-frequency fields (public)')"
      ],
      "execution_count": 41,
      "outputs": []
    },
    {
      "cell_type": "code",
      "metadata": {
        "id": "ZFUJgDB9zua5"
      },
      "source": [
        "data = sheet.get_all_values()"
      ],
      "execution_count": 42,
      "outputs": []
    },
    {
      "cell_type": "code",
      "metadata": {
        "id": "SQ9JKirVzxLZ"
      },
      "source": [
        "df = pd.DataFrame(data)\r\n",
        "df.columns = df.iloc[0]\r\n",
        "df = df.iloc[1:]"
      ],
      "execution_count": 43,
      "outputs": []
    },
    {
      "cell_type": "code",
      "metadata": {
        "colab": {
          "base_uri": "https://localhost:8080/",
          "height": 212
        },
        "id": "0dC5E1aSzzk5",
        "outputId": "2b1bc93a-8531-408f-cb8f-a97edb1972dd"
      },
      "source": [
        "df.head()"
      ],
      "execution_count": 44,
      "outputs": [
        {
          "output_type": "execute_result",
          "data": {
            "text/html": [
              "<div>\n",
              "<style scoped>\n",
              "    .dataframe tbody tr th:only-of-type {\n",
              "        vertical-align: middle;\n",
              "    }\n",
              "\n",
              "    .dataframe tbody tr th {\n",
              "        vertical-align: top;\n",
              "    }\n",
              "\n",
              "    .dataframe thead th {\n",
              "        text-align: right;\n",
              "    }\n",
              "</style>\n",
              "<table border=\"1\" class=\"dataframe\">\n",
              "  <thead>\n",
              "    <tr style=\"text-align: right;\">\n",
              "      <th></th>\n",
              "      <th></th>\n",
              "      <th></th>\n",
              "      <th>Radiofrequency</th>\n",
              "      <th>Radiofrequency</th>\n",
              "      <th>Radiofrequency</th>\n",
              "      <th>Radiofrequency</th>\n",
              "      <th>Radiofrequency</th>\n",
              "      <th>Radiofrequency</th>\n",
              "      <th>Radiofrequency</th>\n",
              "    </tr>\n",
              "  </thead>\n",
              "  <tbody>\n",
              "    <tr>\n",
              "      <th>1</th>\n",
              "      <td></td>\n",
              "      <td></td>\n",
              "      <td>Electric field (V/m)</td>\n",
              "      <td>Electric field (V/m)</td>\n",
              "      <td>Power density (W/m^2)</td>\n",
              "      <td>Power density (W/m^2)</td>\n",
              "      <td>Specific absorption rate (SAR) (W/kg)</td>\n",
              "      <td>Specific absorption rate (SAR) (W/kg)</td>\n",
              "      <td>Specific absorption rate (SAR) (W/kg)</td>\n",
              "    </tr>\n",
              "    <tr>\n",
              "      <th>2</th>\n",
              "      <td></td>\n",
              "      <td></td>\n",
              "      <td>900 MHz</td>\n",
              "      <td>1800 MHz</td>\n",
              "      <td>900 MHz</td>\n",
              "      <td>1800 MHz</td>\n",
              "      <td></td>\n",
              "      <td></td>\n",
              "      <td></td>\n",
              "    </tr>\n",
              "    <tr>\n",
              "      <th>3</th>\n",
              "      <td>Country</td>\n",
              "      <td>Year</td>\n",
              "      <td></td>\n",
              "      <td></td>\n",
              "      <td></td>\n",
              "      <td></td>\n",
              "      <td>Whole body</td>\n",
              "      <td>Head and trunk</td>\n",
              "      <td>Limbs</td>\n",
              "    </tr>\n",
              "    <tr>\n",
              "      <th>4</th>\n",
              "      <td>Argentina</td>\n",
              "      <td>2017</td>\n",
              "      <td>41.25</td>\n",
              "      <td>58.36</td>\n",
              "      <td>4.5</td>\n",
              "      <td>9</td>\n",
              "      <td>0.08</td>\n",
              "      <td>2</td>\n",
              "      <td>4</td>\n",
              "    </tr>\n",
              "    <tr>\n",
              "      <th>5</th>\n",
              "      <td>Australia</td>\n",
              "      <td>2017</td>\n",
              "      <td>41.1</td>\n",
              "      <td>58.1</td>\n",
              "      <td>4.5</td>\n",
              "      <td>9</td>\n",
              "      <td>0.08</td>\n",
              "      <td>2</td>\n",
              "      <td>4</td>\n",
              "    </tr>\n",
              "  </tbody>\n",
              "</table>\n",
              "</div>"
            ],
            "text/plain": [
              "0             ...                         Radiofrequency\n",
              "1             ...  Specific absorption rate (SAR) (W/kg)\n",
              "2             ...                                       \n",
              "3    Country  ...                                  Limbs\n",
              "4  Argentina  ...                                      4\n",
              "5  Australia  ...                                      4\n",
              "\n",
              "[5 rows x 9 columns]"
            ]
          },
          "metadata": {
            "tags": []
          },
          "execution_count": 44
        }
      ]
    },
    {
      "cell_type": "code",
      "metadata": {
        "id": "XoRkyJWvz8Sa"
      },
      "source": [
        "sheet = wb.worksheet('Exposure limits for static fields (worker)')"
      ],
      "execution_count": 45,
      "outputs": []
    },
    {
      "cell_type": "code",
      "metadata": {
        "id": "voNVZWYl0IyB"
      },
      "source": [
        "data = sheet.get_all_values()"
      ],
      "execution_count": 46,
      "outputs": []
    },
    {
      "cell_type": "code",
      "metadata": {
        "id": "OzcksTHi0MDZ"
      },
      "source": [
        "df = pd.DataFrame(data)\r\n",
        "df.columns = df.iloc[0]\r\n",
        "df = df.iloc[1:]"
      ],
      "execution_count": 47,
      "outputs": []
    },
    {
      "cell_type": "code",
      "metadata": {
        "colab": {
          "base_uri": "https://localhost:8080/",
          "height": 195
        },
        "id": "7kQFnqhx0M1B",
        "outputId": "0a64f62f-a974-47e0-e6dc-7eff5e7820d2"
      },
      "source": [
        "df.head()"
      ],
      "execution_count": 48,
      "outputs": [
        {
          "output_type": "execute_result",
          "data": {
            "text/html": [
              "<div>\n",
              "<style scoped>\n",
              "    .dataframe tbody tr th:only-of-type {\n",
              "        vertical-align: middle;\n",
              "    }\n",
              "\n",
              "    .dataframe tbody tr th {\n",
              "        vertical-align: top;\n",
              "    }\n",
              "\n",
              "    .dataframe thead th {\n",
              "        text-align: right;\n",
              "    }\n",
              "</style>\n",
              "<table border=\"1\" class=\"dataframe\">\n",
              "  <thead>\n",
              "    <tr style=\"text-align: right;\">\n",
              "      <th></th>\n",
              "      <th></th>\n",
              "      <th></th>\n",
              "      <th>Static</th>\n",
              "      <th>Static</th>\n",
              "    </tr>\n",
              "  </thead>\n",
              "  <tbody>\n",
              "    <tr>\n",
              "      <th>1</th>\n",
              "      <td>Country</td>\n",
              "      <td>Year</td>\n",
              "      <td>Electric field (kV/m)</td>\n",
              "      <td>Magnetic flux density (microT)</td>\n",
              "    </tr>\n",
              "    <tr>\n",
              "      <th>2</th>\n",
              "      <td>Argentina</td>\n",
              "      <td>2017</td>\n",
              "      <td>25</td>\n",
              "      <td>60,000/2,000,000</td>\n",
              "    </tr>\n",
              "    <tr>\n",
              "      <th>3</th>\n",
              "      <td>Austria</td>\n",
              "      <td>2017</td>\n",
              "      <td></td>\n",
              "      <td>2,000,000/8,000,000</td>\n",
              "    </tr>\n",
              "    <tr>\n",
              "      <th>4</th>\n",
              "      <td>Bahrain</td>\n",
              "      <td>2017</td>\n",
              "      <td></td>\n",
              "      <td>200</td>\n",
              "    </tr>\n",
              "    <tr>\n",
              "      <th>5</th>\n",
              "      <td>Belgium</td>\n",
              "      <td>2017</td>\n",
              "      <td></td>\n",
              "      <td>2,000,000/8,000,000</td>\n",
              "    </tr>\n",
              "  </tbody>\n",
              "</table>\n",
              "</div>"
            ],
            "text/plain": [
              "0                                  Static                          Static\n",
              "1    Country  Year  Electric field (kV/m)  Magnetic flux density (microT)\n",
              "2  Argentina  2017                     25                60,000/2,000,000\n",
              "3    Austria  2017                                    2,000,000/8,000,000\n",
              "4    Bahrain  2017                                                    200\n",
              "5    Belgium  2017                                    2,000,000/8,000,000"
            ]
          },
          "metadata": {
            "tags": []
          },
          "execution_count": 48
        }
      ]
    },
    {
      "cell_type": "code",
      "metadata": {
        "id": "vQHDZW4z0Omi"
      },
      "source": [
        "sheet = wb.worksheet('Exposure limits for low-frequency fields (worker)')"
      ],
      "execution_count": 30,
      "outputs": []
    },
    {
      "cell_type": "code",
      "metadata": {
        "id": "czAkd1QJ0W7g"
      },
      "source": [
        "data = sheet.get_all_values()"
      ],
      "execution_count": 31,
      "outputs": []
    },
    {
      "cell_type": "code",
      "metadata": {
        "id": "1mEyfhPm0a5A"
      },
      "source": [
        "df = pd.DataFrame(data)\r\n",
        "df.columns = df.iloc[0]\r\n",
        "df = df.iloc[1:]"
      ],
      "execution_count": 32,
      "outputs": []
    },
    {
      "cell_type": "code",
      "metadata": {
        "colab": {
          "base_uri": "https://localhost:8080/",
          "height": 195
        },
        "id": "RImidQb50eIQ",
        "outputId": "95b2bd8b-e6d4-46be-da1f-7830d69d461a"
      },
      "source": [
        "df.head()"
      ],
      "execution_count": 33,
      "outputs": [
        {
          "output_type": "execute_result",
          "data": {
            "text/html": [
              "<div>\n",
              "<style scoped>\n",
              "    .dataframe tbody tr th:only-of-type {\n",
              "        vertical-align: middle;\n",
              "    }\n",
              "\n",
              "    .dataframe tbody tr th {\n",
              "        vertical-align: top;\n",
              "    }\n",
              "\n",
              "    .dataframe thead th {\n",
              "        text-align: right;\n",
              "    }\n",
              "</style>\n",
              "<table border=\"1\" class=\"dataframe\">\n",
              "  <thead>\n",
              "    <tr style=\"text-align: right;\">\n",
              "      <th></th>\n",
              "      <th></th>\n",
              "      <th></th>\n",
              "      <th>Low-frequency</th>\n",
              "      <th>Low-frequency</th>\n",
              "      <th>Low-frequency</th>\n",
              "    </tr>\n",
              "  </thead>\n",
              "  <tbody>\n",
              "    <tr>\n",
              "      <th>1</th>\n",
              "      <td>Country</td>\n",
              "      <td>Year</td>\n",
              "      <td>Electric field (kV/m)</td>\n",
              "      <td>Magnetic flux density (microT)</td>\n",
              "      <td>Power frequency (Hz)</td>\n",
              "    </tr>\n",
              "    <tr>\n",
              "      <th>2</th>\n",
              "      <td>Argentina</td>\n",
              "      <td>2017</td>\n",
              "      <td>25</td>\n",
              "      <td>1,2</td>\n",
              "      <td>50</td>\n",
              "    </tr>\n",
              "    <tr>\n",
              "      <th>3</th>\n",
              "      <td>Australia</td>\n",
              "      <td>2017</td>\n",
              "      <td>[10-30]</td>\n",
              "      <td>[500]/[5,000]/[25,000]</td>\n",
              "      <td>50</td>\n",
              "    </tr>\n",
              "    <tr>\n",
              "      <th>4</th>\n",
              "      <td>Austria</td>\n",
              "      <td>2017</td>\n",
              "      <td>10/20</td>\n",
              "      <td>1,000/6,000/18,000</td>\n",
              "      <td>50</td>\n",
              "    </tr>\n",
              "    <tr>\n",
              "      <th>5</th>\n",
              "      <td>Bahrain</td>\n",
              "      <td>2017</td>\n",
              "      <td>10</td>\n",
              "      <td>500</td>\n",
              "      <td>50</td>\n",
              "    </tr>\n",
              "  </tbody>\n",
              "</table>\n",
              "</div>"
            ],
            "text/plain": [
              "0                   ...                   Low-frequency         Low-frequency\n",
              "1    Country  Year  ...  Magnetic flux density (microT)  Power frequency (Hz)\n",
              "2  Argentina  2017  ...                             1,2                    50\n",
              "3  Australia  2017  ...          [500]/[5,000]/[25,000]                    50\n",
              "4    Austria  2017  ...              1,000/6,000/18,000                    50\n",
              "5    Bahrain  2017  ...                             500                    50\n",
              "\n",
              "[5 rows x 5 columns]"
            ]
          },
          "metadata": {
            "tags": []
          },
          "execution_count": 33
        }
      ]
    },
    {
      "cell_type": "code",
      "metadata": {
        "id": "Mi3Tee8v0faY"
      },
      "source": [
        "sheet = wb.worksheet('Exposure limits for radio-frequency fields (worker)')\r\n"
      ],
      "execution_count": 37,
      "outputs": []
    },
    {
      "cell_type": "code",
      "metadata": {
        "id": "cH0cLz3A0ikg"
      },
      "source": [
        "data = sheet.get_all_values()"
      ],
      "execution_count": 38,
      "outputs": []
    },
    {
      "cell_type": "code",
      "metadata": {
        "id": "GyhJNVRC0ly4"
      },
      "source": [
        "df = pd.DataFrame(data)\r\n",
        "df.columns = df.iloc[0]\r\n",
        "df = df.iloc[1:]"
      ],
      "execution_count": 39,
      "outputs": []
    },
    {
      "cell_type": "code",
      "metadata": {
        "colab": {
          "base_uri": "https://localhost:8080/",
          "height": 212
        },
        "id": "KqxLrMaM0mMQ",
        "outputId": "b8a1536e-6c9e-4004-a3b4-5148209f85ed"
      },
      "source": [
        "df.head()"
      ],
      "execution_count": 40,
      "outputs": [
        {
          "output_type": "execute_result",
          "data": {
            "text/html": [
              "<div>\n",
              "<style scoped>\n",
              "    .dataframe tbody tr th:only-of-type {\n",
              "        vertical-align: middle;\n",
              "    }\n",
              "\n",
              "    .dataframe tbody tr th {\n",
              "        vertical-align: top;\n",
              "    }\n",
              "\n",
              "    .dataframe thead th {\n",
              "        text-align: right;\n",
              "    }\n",
              "</style>\n",
              "<table border=\"1\" class=\"dataframe\">\n",
              "  <thead>\n",
              "    <tr style=\"text-align: right;\">\n",
              "      <th></th>\n",
              "      <th></th>\n",
              "      <th></th>\n",
              "      <th>Radiofrequency</th>\n",
              "      <th>Radiofrequency</th>\n",
              "      <th>Radiofrequency</th>\n",
              "      <th>Radiofrequency</th>\n",
              "      <th>Radiofrequency</th>\n",
              "      <th>Radiofrequency</th>\n",
              "      <th>Radiofrequency</th>\n",
              "    </tr>\n",
              "  </thead>\n",
              "  <tbody>\n",
              "    <tr>\n",
              "      <th>1</th>\n",
              "      <td></td>\n",
              "      <td></td>\n",
              "      <td>Electric field (V/m)</td>\n",
              "      <td>Electric field (V/m)</td>\n",
              "      <td>Power density (W/m^2)</td>\n",
              "      <td>Power density (W/m^2)</td>\n",
              "      <td>Specific absorption rate (SAR) (W/kg)</td>\n",
              "      <td>Specific absorption rate (SAR) (W/kg)</td>\n",
              "      <td>Specific absorption rate (SAR) (W/kg)</td>\n",
              "    </tr>\n",
              "    <tr>\n",
              "      <th>2</th>\n",
              "      <td></td>\n",
              "      <td></td>\n",
              "      <td>900 MHz</td>\n",
              "      <td>1800 MHz</td>\n",
              "      <td>900 MHz</td>\n",
              "      <td>1800 MHz</td>\n",
              "      <td></td>\n",
              "      <td></td>\n",
              "      <td></td>\n",
              "    </tr>\n",
              "    <tr>\n",
              "      <th>3</th>\n",
              "      <td>Country</td>\n",
              "      <td>Year</td>\n",
              "      <td></td>\n",
              "      <td></td>\n",
              "      <td></td>\n",
              "      <td></td>\n",
              "      <td>Whole body</td>\n",
              "      <td>Head and trunk</td>\n",
              "      <td>Limbs</td>\n",
              "    </tr>\n",
              "    <tr>\n",
              "      <th>4</th>\n",
              "      <td>Argentina</td>\n",
              "      <td>2017</td>\n",
              "      <td>106.35</td>\n",
              "      <td>150.4</td>\n",
              "      <td>30</td>\n",
              "      <td>60</td>\n",
              "      <td>0.4</td>\n",
              "      <td></td>\n",
              "      <td></td>\n",
              "    </tr>\n",
              "    <tr>\n",
              "      <th>5</th>\n",
              "      <td>Australia</td>\n",
              "      <td>2017</td>\n",
              "      <td>92.1</td>\n",
              "      <td>130</td>\n",
              "      <td>22.5</td>\n",
              "      <td>45</td>\n",
              "      <td>0.4</td>\n",
              "      <td>10</td>\n",
              "      <td>20</td>\n",
              "    </tr>\n",
              "  </tbody>\n",
              "</table>\n",
              "</div>"
            ],
            "text/plain": [
              "0             ...                         Radiofrequency\n",
              "1             ...  Specific absorption rate (SAR) (W/kg)\n",
              "2             ...                                       \n",
              "3    Country  ...                                  Limbs\n",
              "4  Argentina  ...                                       \n",
              "5  Australia  ...                                     20\n",
              "\n",
              "[5 rows x 9 columns]"
            ]
          },
          "metadata": {
            "tags": []
          },
          "execution_count": 40
        }
      ]
    },
    {
      "cell_type": "code",
      "metadata": {
        "id": "xZd_C-KF0vmH"
      },
      "source": [
        ""
      ],
      "execution_count": null,
      "outputs": []
    }
  ]
}
