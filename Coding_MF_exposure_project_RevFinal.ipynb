{
  "nbformat": 4,
  "nbformat_minor": 0,
  "metadata": {
    "colab": {
      "name": "Coding-MF exposure_project_RevFinal.ipynb",
      "provenance": [],
      "collapsed_sections": []
    },
    "kernelspec": {
      "name": "python3",
      "display_name": "Python 3"
    },
    "language_info": {
      "name": "python"
    }
  },
  "cells": [
    {
      "cell_type": "code",
      "metadata": {
        "colab": {
          "base_uri": "https://localhost:8080/"
        },
        "id": "g1VEh9XjiZEZ",
        "outputId": "489b4f2e-239e-4fca-e798-6f5efc0994bf"
      },
      "source": [
        "# pip is the standard package manager for Python. It allows you to install and manage additional packages that are not part of the Python standard library.\n",
        "!pip install --upgrade gspread"
      ],
      "execution_count": 1,
      "outputs": [
        {
          "output_type": "stream",
          "text": [
            "Collecting gspread\n",
            "  Downloading https://files.pythonhosted.org/packages/df/f0/e345e7159c89b898f183cc40ed9909619475492bb000652d709f395f096a/gspread-3.7.0-py3-none-any.whl\n",
            "Requirement already satisfied, skipping upgrade: google-auth-oauthlib>=0.4.1 in /usr/local/lib/python3.7/dist-packages (from gspread) (0.4.4)\n",
            "Requirement already satisfied, skipping upgrade: google-auth>=1.12.0 in /usr/local/lib/python3.7/dist-packages (from gspread) (1.30.0)\n",
            "Requirement already satisfied, skipping upgrade: requests-oauthlib>=0.7.0 in /usr/local/lib/python3.7/dist-packages (from google-auth-oauthlib>=0.4.1->gspread) (1.3.0)\n",
            "Requirement already satisfied, skipping upgrade: setuptools>=40.3.0 in /usr/local/lib/python3.7/dist-packages (from google-auth>=1.12.0->gspread) (56.1.0)\n",
            "Requirement already satisfied, skipping upgrade: pyasn1-modules>=0.2.1 in /usr/local/lib/python3.7/dist-packages (from google-auth>=1.12.0->gspread) (0.2.8)\n",
            "Requirement already satisfied, skipping upgrade: cachetools<5.0,>=2.0.0 in /usr/local/lib/python3.7/dist-packages (from google-auth>=1.12.0->gspread) (4.2.2)\n",
            "Requirement already satisfied, skipping upgrade: rsa<5,>=3.1.4; python_version >= \"3.6\" in /usr/local/lib/python3.7/dist-packages (from google-auth>=1.12.0->gspread) (4.7.2)\n",
            "Requirement already satisfied, skipping upgrade: six>=1.9.0 in /usr/local/lib/python3.7/dist-packages (from google-auth>=1.12.0->gspread) (1.15.0)\n",
            "Requirement already satisfied, skipping upgrade: oauthlib>=3.0.0 in /usr/local/lib/python3.7/dist-packages (from requests-oauthlib>=0.7.0->google-auth-oauthlib>=0.4.1->gspread) (3.1.0)\n",
            "Requirement already satisfied, skipping upgrade: requests>=2.0.0 in /usr/local/lib/python3.7/dist-packages (from requests-oauthlib>=0.7.0->google-auth-oauthlib>=0.4.1->gspread) (2.23.0)\n",
            "Requirement already satisfied, skipping upgrade: pyasn1<0.5.0,>=0.4.6 in /usr/local/lib/python3.7/dist-packages (from pyasn1-modules>=0.2.1->google-auth>=1.12.0->gspread) (0.4.8)\n",
            "Requirement already satisfied, skipping upgrade: idna<3,>=2.5 in /usr/local/lib/python3.7/dist-packages (from requests>=2.0.0->requests-oauthlib>=0.7.0->google-auth-oauthlib>=0.4.1->gspread) (2.10)\n",
            "Requirement already satisfied, skipping upgrade: chardet<4,>=3.0.2 in /usr/local/lib/python3.7/dist-packages (from requests>=2.0.0->requests-oauthlib>=0.7.0->google-auth-oauthlib>=0.4.1->gspread) (3.0.4)\n",
            "Requirement already satisfied, skipping upgrade: urllib3!=1.25.0,!=1.25.1,<1.26,>=1.21.1 in /usr/local/lib/python3.7/dist-packages (from requests>=2.0.0->requests-oauthlib>=0.7.0->google-auth-oauthlib>=0.4.1->gspread) (1.24.3)\n",
            "Requirement already satisfied, skipping upgrade: certifi>=2017.4.17 in /usr/local/lib/python3.7/dist-packages (from requests>=2.0.0->requests-oauthlib>=0.7.0->google-auth-oauthlib>=0.4.1->gspread) (2020.12.5)\n",
            "Installing collected packages: gspread\n",
            "  Found existing installation: gspread 3.0.1\n",
            "    Uninstalling gspread-3.0.1:\n",
            "      Successfully uninstalled gspread-3.0.1\n",
            "Successfully installed gspread-3.7.0\n"
          ],
          "name": "stdout"
        }
      ]
    },
    {
      "cell_type": "code",
      "metadata": {
        "id": "jtHTFnGuJ6HR"
      },
      "source": [
        "#Colab is a Python development environment that runs in the browser using Google Cloud, in order to use the Drive API, we must first authenticate and construct an API client.\n",
        "from google.colab import auth\n",
        "auth.authenticate_user()\n",
        "\n",
        "# Use the open-source gspread library for interacting with Google Sheets.\n",
        "import gspread\n",
        "from oauth2client.client import GoogleCredentials\n",
        "\n",
        "gc = gspread.authorize(GoogleCredentials.get_application_default())"
      ],
      "execution_count": 2,
      "outputs": []
    },
    {
      "cell_type": "markdown",
      "metadata": {
        "id": "-BWid1Kiih82"
      },
      "source": [
        "# **INSTALLATION DES LIBRAIRIES**"
      ]
    },
    {
      "cell_type": "code",
      "metadata": {
        "id": "YQ8j02DtjHEX"
      },
      "source": [
        "# Simply imports the library the current namespace, but rather than using the name pandas , it's instructed to use the name pd instead. This is just so you can do pd.whatever instead of having to type out pandas, samething for matplotlib.\n",
        "# Pandas library. pandas is an open source Python library that provides “high-performance, easy-to-use data structures and data analysis tools.”\n",
        "# Matplotlib is a Python package used for data plotting and visualisation. It is a useful complement to Pandas, and like Pandas, is a very feature-rich library which can produce a large variety of plots, charts, maps, and other visualisations.\n",
        "import pandas as pd\n",
        "import matplotlib.pyplot as plt\n",
        "import numpy as np\n"
      ],
      "execution_count": 3,
      "outputs": []
    },
    {
      "cell_type": "code",
      "metadata": {
        "id": "zS0rmuFUjMxG"
      },
      "source": [
        "#Executing the cell above, gspread will interact with the google sheets i choose.\n",
        "wb = gc.open_by_url('https://docs.google.com/spreadsheets/d/1__ZgEvVfi1h5CSKOZ6zTrQyEvGdHxXFeArn_Ej2jy4Y/edit#gid=1298731864')"
      ],
      "execution_count": 4,
      "outputs": []
    },
    {
      "cell_type": "code",
      "metadata": {
        "id": "iVyMlcwnjPVt"
      },
      "source": [
        "#Executing this cell above, gspread will interact with the worksheet with data i need.\n",
        "sheet = wb.worksheet('Appendix A. Primary Standard Occupational Classifications (SOC)')"
      ],
      "execution_count": 5,
      "outputs": []
    },
    {
      "cell_type": "code",
      "metadata": {
        "id": "yE9ELdJZjTuF"
      },
      "source": [
        "#Getting All Values From a Row or a Column\n",
        "data = sheet.get_all_values()\n",
        "\n"
      ],
      "execution_count": 6,
      "outputs": []
    },
    {
      "cell_type": "code",
      "metadata": {
        "id": "XbLZFhNbjWY1"
      },
      "source": [
        "df = pd.DataFrame(data)\n",
        "df.columns = df.iloc[0]\n",
        "df = df.iloc[1:]\n"
      ],
      "execution_count": 7,
      "outputs": []
    },
    {
      "cell_type": "code",
      "metadata": {
        "colab": {
          "base_uri": "https://localhost:8080/",
          "height": 402
        },
        "id": "0WfMU1sEja-1",
        "outputId": "35c21440-900a-4b52-8637-e106bd5616e9"
      },
      "source": [
        "#afficher les 538 lignes du jeu de données\n",
        "df.head(538)"
      ],
      "execution_count": 8,
      "outputs": [
        {
          "output_type": "execute_result",
          "data": {
            "text/html": [
              "<div>\n",
              "<style scoped>\n",
              "    .dataframe tbody tr th:only-of-type {\n",
              "        vertical-align: middle;\n",
              "    }\n",
              "\n",
              "    .dataframe tbody tr th {\n",
              "        vertical-align: top;\n",
              "    }\n",
              "\n",
              "    .dataframe thead th {\n",
              "        text-align: right;\n",
              "    }\n",
              "</style>\n",
              "<table border=\"1\" class=\"dataframe\">\n",
              "  <thead>\n",
              "    <tr style=\"text-align: right;\">\n",
              "      <th></th>\n",
              "      <th>Description</th>\n",
              "      <th>SOC</th>\n",
              "      <th>SOC DIVISION</th>\n",
              "      <th>Subjects</th>\n",
              "      <th>AM (uT)</th>\n",
              "      <th>SD (uT)</th>\n",
              "      <th>GM (uT)</th>\n",
              "      <th>GSD</th>\n",
              "      <th>Data Type</th>\n",
              "    </tr>\n",
              "  </thead>\n",
              "  <tbody>\n",
              "    <tr>\n",
              "      <th>1</th>\n",
              "      <td>legislators</td>\n",
              "      <td>1110</td>\n",
              "      <td>Executive, Administrative, and Managerial Occu...</td>\n",
              "      <td>15</td>\n",
              "      <td>0.180</td>\n",
              "      <td>0.061</td>\n",
              "      <td>0.039</td>\n",
              "      <td>1.39</td>\n",
              "      <td>Inferred</td>\n",
              "    </tr>\n",
              "    <tr>\n",
              "      <th>2</th>\n",
              "      <td>chief executives and general administrators</td>\n",
              "      <td>1120</td>\n",
              "      <td>Executive, Administrative, and Managerial Occu...</td>\n",
              "      <td>15</td>\n",
              "      <td>0.180</td>\n",
              "      <td>0.063</td>\n",
              "      <td>0.039</td>\n",
              "      <td>1.40</td>\n",
              "      <td>Raw</td>\n",
              "    </tr>\n",
              "    <tr>\n",
              "      <th>3</th>\n",
              "      <td>judicial, public safety and corrections admini...</td>\n",
              "      <td>1131</td>\n",
              "      <td>Executive, Administrative, and Managerial Occu...</td>\n",
              "      <td>15</td>\n",
              "      <td>0.180</td>\n",
              "      <td>0.061</td>\n",
              "      <td>0.039</td>\n",
              "      <td>1.39</td>\n",
              "      <td>Inferred</td>\n",
              "    </tr>\n",
              "    <tr>\n",
              "      <th>4</th>\n",
              "      <td>human resources program administrators</td>\n",
              "      <td>1132</td>\n",
              "      <td>Executive, Administrative, and Managerial Occu...</td>\n",
              "      <td>15</td>\n",
              "      <td>0.180</td>\n",
              "      <td>0.061</td>\n",
              "      <td>0.039</td>\n",
              "      <td>1.39</td>\n",
              "      <td>Inferred</td>\n",
              "    </tr>\n",
              "    <tr>\n",
              "      <th>5</th>\n",
              "      <td>natural resources program administrators</td>\n",
              "      <td>1133</td>\n",
              "      <td>Executive, Administrative, and Managerial Occu...</td>\n",
              "      <td>15</td>\n",
              "      <td>0.180</td>\n",
              "      <td>0.061</td>\n",
              "      <td>0.039</td>\n",
              "      <td>1.39</td>\n",
              "      <td>Inferred</td>\n",
              "    </tr>\n",
              "    <tr>\n",
              "      <th>...</th>\n",
              "      <td>...</td>\n",
              "      <td>...</td>\n",
              "      <td>...</td>\n",
              "      <td>...</td>\n",
              "      <td>...</td>\n",
              "      <td>...</td>\n",
              "      <td>...</td>\n",
              "      <td>...</td>\n",
              "      <td>...</td>\n",
              "    </tr>\n",
              "    <tr>\n",
              "      <th>534</th>\n",
              "      <td>garage and service station related occupations</td>\n",
              "      <td>8730</td>\n",
              "      <td>Handlers, Equipment Cleaners, Helpers, and Lab...</td>\n",
              "      <td>6</td>\n",
              "      <td>0.236</td>\n",
              "      <td>0.123</td>\n",
              "      <td>0.146</td>\n",
              "      <td>1.68</td>\n",
              "      <td>Raw</td>\n",
              "    </tr>\n",
              "    <tr>\n",
              "      <th>535</th>\n",
              "      <td>parking lot attendants</td>\n",
              "      <td>8740</td>\n",
              "      <td>Handlers, Equipment Cleaners, Helpers, and Lab...</td>\n",
              "      <td>6</td>\n",
              "      <td>0.236</td>\n",
              "      <td>0.112</td>\n",
              "      <td>0.146</td>\n",
              "      <td>1.60</td>\n",
              "      <td>Inferred</td>\n",
              "    </tr>\n",
              "    <tr>\n",
              "      <th>536</th>\n",
              "      <td>hand packers and packagers</td>\n",
              "      <td>8761</td>\n",
              "      <td>Handlers, Equipment Cleaners, Helpers, and Lab...</td>\n",
              "      <td>5</td>\n",
              "      <td>0.363</td>\n",
              "      <td>0.235</td>\n",
              "      <td>0.499</td>\n",
              "      <td>1.94</td>\n",
              "      <td>Raw</td>\n",
              "    </tr>\n",
              "    <tr>\n",
              "      <th>537</th>\n",
              "      <td>manual occupations, not elsewhere classified</td>\n",
              "      <td>8769</td>\n",
              "      <td>Handlers, Equipment Cleaners, Helpers, and Lab...</td>\n",
              "      <td>5</td>\n",
              "      <td>0.360</td>\n",
              "      <td>0.433</td>\n",
              "      <td>1.879</td>\n",
              "      <td>2.58</td>\n",
              "      <td>Raw</td>\n",
              "    </tr>\n",
              "    <tr>\n",
              "      <th>538</th>\n",
              "      <td>military occupations</td>\n",
              "      <td>9100</td>\n",
              "      <td>Military Occupations</td>\n",
              "      <td>4</td>\n",
              "      <td>0.170</td>\n",
              "      <td>0.061</td>\n",
              "      <td>0.037</td>\n",
              "      <td>1.42</td>\n",
              "      <td>Raw</td>\n",
              "    </tr>\n",
              "  </tbody>\n",
              "</table>\n",
              "<p>538 rows × 9 columns</p>\n",
              "</div>"
            ],
            "text/plain": [
              "0                                          Description   SOC  ...   GSD Data Type\n",
              "1                                          legislators  1110  ...  1.39  Inferred\n",
              "2          chief executives and general administrators  1120  ...  1.40       Raw\n",
              "3    judicial, public safety and corrections admini...  1131  ...  1.39  Inferred\n",
              "4               human resources program administrators  1132  ...  1.39  Inferred\n",
              "5             natural resources program administrators  1133  ...  1.39  Inferred\n",
              "..                                                 ...   ...  ...   ...       ...\n",
              "534     garage and service station related occupations  8730  ...  1.68       Raw\n",
              "535                             parking lot attendants  8740  ...  1.60  Inferred\n",
              "536                         hand packers and packagers  8761  ...  1.94       Raw\n",
              "537       manual occupations, not elsewhere classified  8769  ...  2.58       Raw\n",
              "538                               military occupations  9100  ...  1.42       Raw\n",
              "\n",
              "[538 rows x 9 columns]"
            ]
          },
          "metadata": {
            "tags": []
          },
          "execution_count": 8
        }
      ]
    },
    {
      "cell_type": "code",
      "metadata": {
        "colab": {
          "base_uri": "https://localhost:8080/"
        },
        "id": "ZRh2EvtHje70",
        "outputId": "4c74336c-3808-45fd-fd8a-55aca0142a6f"
      },
      "source": [
        "#dimensions : nombre de lignes, nombre de colonnes\n",
        "#la ligne d'en-tête n'est pas comptabilisée\n",
        "#dans le nombre de lignes\n",
        "print(df.shape)"
      ],
      "execution_count": 9,
      "outputs": [
        {
          "output_type": "stream",
          "text": [
            "(538, 9)\n"
          ],
          "name": "stdout"
        }
      ]
    },
    {
      "cell_type": "markdown",
      "metadata": {
        "id": "6eimtaJyjirE"
      },
      "source": [
        "# **NETTOYAGE DE DONNÉES**\n"
      ]
    },
    {
      "cell_type": "code",
      "metadata": {
        "id": "qZ_tQ1Lpj9A1"
      },
      "source": [
        "#Quels sont les types de données attendus (int, float, string, boolean)?\n",
        "df['Description'] = df['Description'].astype(str)\n",
        "df['SOC'] = df['SOC'].astype(str)\n",
        "df['SOC DIVISION'] = df['SOC DIVISION'].astype(str)\n",
        "df['Subjects'] = df['Subjects'].astype(int)\n",
        "df['AM (uT)'] = df['AM (uT)'].astype(float)\n",
        "df['SD (uT)'] = df['SD (uT)'].astype(float)\n",
        "df['GM (uT)'] = df['GM (uT)'].astype(float)\n",
        "df['GSD'] = df['GSD'].astype(float)\n",
        "df['Data Type'] = df['Data Type'].astype(str)"
      ],
      "execution_count": 10,
      "outputs": []
    },
    {
      "cell_type": "code",
      "metadata": {
        "colab": {
          "base_uri": "https://localhost:8080/"
        },
        "id": "XTK9HXekkAUs",
        "outputId": "5d45cc08-b2b7-436c-cdc6-40068137be27"
      },
      "source": [
        "#Quelles sont les caractéristiques?\n",
        "#énumération des colonnes\n",
        "print(df.columns)\n",
        "#type de chaque colonne\n",
        "print(df.dtypes)\n"
      ],
      "execution_count": 11,
      "outputs": [
        {
          "output_type": "stream",
          "text": [
            "Index(['Description', 'SOC', 'SOC DIVISION', 'Subjects', 'AM (uT)', 'SD (uT)',\n",
            "       'GM (uT)', 'GSD', 'Data Type'],\n",
            "      dtype='object', name=0)\n",
            "0\n",
            "Description      object\n",
            "SOC              object\n",
            "SOC DIVISION     object\n",
            "Subjects          int64\n",
            "AM (uT)         float64\n",
            "SD (uT)         float64\n",
            "GM (uT)         float64\n",
            "GSD             float64\n",
            "Data Type        object\n",
            "dtype: object\n"
          ],
          "name": "stdout"
        }
      ]
    },
    {
      "cell_type": "code",
      "metadata": {
        "colab": {
          "base_uri": "https://localhost:8080/"
        },
        "id": "H5I23g8-kDrj",
        "outputId": "88f4ea7f-13d6-463c-e7c2-eb0e84a62898"
      },
      "source": [
        "#Y a-t-il des valeurs manquantes évidentes via informations sur les données\n",
        "#informations sur les données\n",
        "df.info()\n"
      ],
      "execution_count": 12,
      "outputs": [
        {
          "output_type": "stream",
          "text": [
            "<class 'pandas.core.frame.DataFrame'>\n",
            "RangeIndex: 538 entries, 1 to 538\n",
            "Data columns (total 9 columns):\n",
            " #   Column        Non-Null Count  Dtype  \n",
            "---  ------        --------------  -----  \n",
            " 0   Description   538 non-null    object \n",
            " 1   SOC           538 non-null    object \n",
            " 2   SOC DIVISION  538 non-null    object \n",
            " 3   Subjects      538 non-null    int64  \n",
            " 4   AM (uT)       538 non-null    float64\n",
            " 5   SD (uT)       538 non-null    float64\n",
            " 6   GM (uT)       538 non-null    float64\n",
            " 7   GSD           538 non-null    float64\n",
            " 8   Data Type     538 non-null    object \n",
            "dtypes: float64(4), int64(1), object(4)\n",
            "memory usage: 38.0+ KB\n"
          ],
          "name": "stdout"
        }
      ]
    },
    {
      "cell_type": "markdown",
      "metadata": {
        "id": "4FlB21ZqkOtr"
      },
      "source": [
        "# **MANIPULATIONS DE DONNÉES**"
      ]
    },
    {
      "cell_type": "code",
      "metadata": {
        "colab": {
          "base_uri": "https://localhost:8080/"
        },
        "id": "EipXQjh1kQ9D",
        "outputId": "3beeacf9-cef2-491b-d45e-67253647ba8a"
      },
      "source": [
        "#Combien y a t-il de valeurs inférrées versus mesurées.?\n",
        "#comptage des valeurs\n",
        "print(df['Data Type'].value_counts())"
      ],
      "execution_count": 13,
      "outputs": [
        {
          "output_type": "stream",
          "text": [
            "Inferred    287\n",
            "Raw         251\n",
            "Name: Data Type, dtype: int64\n"
          ],
          "name": "stdout"
        }
      ]
    },
    {
      "cell_type": "code",
      "metadata": {
        "colab": {
          "base_uri": "https://localhost:8080/"
        },
        "id": "V4YvCz7iT3p1",
        "outputId": "559d5871-bfdc-4376-85e3-59e60fbba273"
      },
      "source": [
        "#accès à la valeur située en (0,0): On peut accéder aux valeurs du DataFrame via des indices ou plages d'indice. La structure se comporte alors comme une matrice. La cellule en haut et à gauche est de coordonnées (0,0).\n",
        "print(df.iloc[0,0])"
      ],
      "execution_count": 14,
      "outputs": [
        {
          "output_type": "stream",
          "text": [
            "legislators\n"
          ],
          "name": "stdout"
        }
      ]
    },
    {
      "cell_type": "code",
      "metadata": {
        "colab": {
          "base_uri": "https://localhost:8080/"
        },
        "id": "hmG3xno5kVXT",
        "outputId": "78f9e1b9-e6c6-4322-8e73-54b71dbe9f5d"
      },
      "source": [
        "# imprime le nom de la colonne\n",
        "for x in df:\n",
        "  print(x) "
      ],
      "execution_count": 15,
      "outputs": [
        {
          "output_type": "stream",
          "text": [
            "Description\n",
            "SOC\n",
            "SOC DIVISION\n",
            "Subjects\n",
            "AM (uT)\n",
            "SD (uT)\n",
            "GM (uT)\n",
            "GSD\n",
            "Data Type\n"
          ],
          "name": "stdout"
        }
      ]
    },
    {
      "cell_type": "code",
      "metadata": {
        "colab": {
          "base_uri": "https://localhost:8080/"
        },
        "id": "PcuOr-U0kYSD",
        "outputId": "01bec0cb-3c3d-4723-995a-a74f33b9ee71"
      },
      "source": [
        "#accès à une colonne\n",
        "print(df['Data Type'])"
      ],
      "execution_count": 16,
      "outputs": [
        {
          "output_type": "stream",
          "text": [
            "1      Inferred\n",
            "2           Raw\n",
            "3      Inferred\n",
            "4      Inferred\n",
            "5      Inferred\n",
            "         ...   \n",
            "534         Raw\n",
            "535    Inferred\n",
            "536         Raw\n",
            "537         Raw\n",
            "538         Raw\n",
            "Name: Data Type, Length: 538, dtype: object\n"
          ],
          "name": "stdout"
        }
      ]
    },
    {
      "cell_type": "code",
      "metadata": {
        "colab": {
          "base_uri": "https://localhost:8080/"
        },
        "id": "I-ZVrefYkvDE",
        "outputId": "68bb91b8-0f2f-4118-c75e-23ec5ab5c9dc"
      },
      "source": [
        "#un type Series (colonne) est un vecteur, il est possible d'utiliser des indices\n",
        "#3 premières valeurs\n",
        "print(df['SOC DIVISION'][0:3])"
      ],
      "execution_count": 17,
      "outputs": [
        {
          "output_type": "stream",
          "text": [
            "1    Executive, Administrative, and Managerial Occu...\n",
            "2    Executive, Administrative, and Managerial Occu...\n",
            "3    Executive, Administrative, and Managerial Occu...\n",
            "Name: SOC DIVISION, dtype: object\n"
          ],
          "name": "stdout"
        }
      ]
    },
    {
      "cell_type": "code",
      "metadata": {
        "colab": {
          "base_uri": "https://localhost:8080/"
        },
        "id": "jd5Lyz37k1Y6",
        "outputId": "1b94136e-2f0b-4bf1-9ba0-fe7c0551e272"
      },
      "source": [
        "#trier les valeurs d'une variable de manière croissante\n",
        "print(df['GM (uT)'].sort_values())"
      ],
      "execution_count": 18,
      "outputs": [
        {
          "output_type": "stream",
          "text": [
            "89        0.000\n",
            "243       0.000\n",
            "241       0.000\n",
            "238       0.000\n",
            "236       0.000\n",
            "         ...   \n",
            "391     211.083\n",
            "382     211.083\n",
            "383     211.083\n",
            "331     593.403\n",
            "371    1147.146\n",
            "Name: GM (uT), Length: 538, dtype: float64\n"
          ],
          "name": "stdout"
        }
      ]
    },
    {
      "cell_type": "code",
      "metadata": {
        "colab": {
          "base_uri": "https://localhost:8080/"
        },
        "id": "yQFRfBWQOC2H",
        "outputId": "97fbfee0-2028-49ad-83fa-13c8caf4386e"
      },
      "source": [
        "#comptage des valeurs\n",
        "print(df['Subjects'].value_counts())\n",
        "\n"
      ],
      "execution_count": 19,
      "outputs": [
        {
          "output_type": "stream",
          "text": [
            "1      49\n",
            "4      45\n",
            "7      40\n",
            "5      39\n",
            "18     36\n",
            "       ..\n",
            "33      1\n",
            "37      1\n",
            "38      1\n",
            "44      1\n",
            "192     1\n",
            "Name: Subjects, Length: 62, dtype: int64\n"
          ],
          "name": "stdout"
        }
      ]
    },
    {
      "cell_type": "code",
      "metadata": {
        "colab": {
          "base_uri": "https://localhost:8080/",
          "height": 314
        },
        "id": "LQ5FxdT3VxRp",
        "outputId": "60ba8701-d68d-4dc8-b0af-dbeb04edd1c8"
      },
      "source": [
        " #histogrammes du nombre du Subjects selon le Data Type\n",
        "df.hist(column='Subjects')"
      ],
      "execution_count": 20,
      "outputs": [
        {
          "output_type": "execute_result",
          "data": {
            "text/plain": [
              "array([[<matplotlib.axes._subplots.AxesSubplot object at 0x7f89a4839c90>]],\n",
              "      dtype=object)"
            ]
          },
          "metadata": {
            "tags": []
          },
          "execution_count": 20
        },
        {
          "output_type": "display_data",
          "data": {
            "image/png": "[encoded data removed]",
            "text/plain": [
              "<Figure size 432x288 with 1 Axes>"
            ]
          },
          "metadata": {
            "tags": [],
            "needs_background": "light"
          }
        }
      ]
    },
    {
      "cell_type": "markdown",
      "metadata": {
        "id": "DPhINi28k4MC"
      },
      "source": [
        "# IF CONDITION (ACTIONS CONDITIONNELLES)\n",
        "Restrictions avec les conditions - Les requêtes\n",
        "Nous pouvons isoler les sous-ensembles d'observations répondant à des critères définis sur les champs. Nous utiliserons\n",
        "préférentiellement la méthode .loc[,] dans ce cadre.\n"
      ]
    },
    {
      "cell_type": "code",
      "metadata": {
        "colab": {
          "base_uri": "https://localhost:8080/"
        },
        "id": "Cq2ko5cLlEqv",
        "outputId": "221f1979-2cb2-425b-e10a-b92f8326f610"
      },
      "source": [
        "#liste des occupation dont les moyennes AM (uT) et GM (uT) sont mesurées et non inférées, mesurées= vrai et inférées= faux\n",
        "print(df.loc[df['Data Type']==\"Raw\",:])\n",
        "print(df['Data Type']==\"Raw\")\n",
        "print((df['Data Type']==\"Raw\").value_counts())"
      ],
      "execution_count": 21,
      "outputs": [
        {
          "output_type": "stream",
          "text": [
            "0                                       Description   SOC  ...   GSD  Data Type\n",
            "2       chief executives and general administrators  1120  ...  1.40        Raw\n",
            "9         general managers and other top executives  1210  ...  2.39        Raw\n",
            "10                               financial managers  1220  ...  2.22        Raw\n",
            "11           personnel and labor relations managers  1230  ...  2.07        Raw\n",
            "12                              purchasing managers  1240  ...  2.09        Raw\n",
            "..                                              ...   ...  ...   ...        ...\n",
            "531                      stock handlers and baggers  8724  ...  1.74        Raw\n",
            "534  garage and service station related occupations  8730  ...  1.68        Raw\n",
            "536                      hand packers and packagers  8761  ...  1.94        Raw\n",
            "537    manual occupations, not elsewhere classified  8769  ...  2.58        Raw\n",
            "538                            military occupations  9100  ...  1.42        Raw\n",
            "\n",
            "[251 rows x 9 columns]\n",
            "1      False\n",
            "2       True\n",
            "3      False\n",
            "4      False\n",
            "5      False\n",
            "       ...  \n",
            "534     True\n",
            "535    False\n",
            "536     True\n",
            "537     True\n",
            "538     True\n",
            "Name: Data Type, Length: 538, dtype: bool\n",
            "False    287\n",
            "True     251\n",
            "Name: Data Type, dtype: int64\n"
          ],
          "name": "stdout"
        }
      ]
    },
    {
      "cell_type": "markdown",
      "metadata": {
        "id": "IoebcJ1dr0ej"
      },
      "source": [
        "Des opérateurs logiques permettent de combiner les conditions. Nous utilisons respectivement : & pour ET, | pour OU, et\n",
        "~ pour la négation."
      ]
    },
    {
      "cell_type": "code",
      "metadata": {
        "colab": {
          "base_uri": "https://localhost:8080/"
        },
        "id": "JWe65TtrsHsy",
        "outputId": "9fe72d9f-cb54-41a2-8d0c-0689317374fc"
      },
      "source": [
        "#liste des occupation dont les moyennes  GM (uT) sont mesurées et non inférées et qui ont une exposition supérieure à 1000 (uT) comme moyenne GM (uT)\n",
        "print(df.loc[(df['GM (uT)'] > 1000) & (df['Data Type'] == \"Raw\"),:])"
      ],
      "execution_count": 22,
      "outputs": [
        {
          "output_type": "stream",
          "text": [
            "0                                  Description   SOC  ...   GSD  Data Type\n",
            "371  electrical power installers and repairers  6433  ...  4.34        Raw\n",
            "\n",
            "[1 rows x 9 columns]\n"
          ],
          "name": "stdout"
        }
      ]
    },
    {
      "cell_type": "code",
      "metadata": {
        "colab": {
          "base_uri": "https://localhost:8080/",
          "height": 106
        },
        "id": "AnXJvZXUk8bB",
        "outputId": "5ea3d8fe-451b-4f00-f30f-3176bd9482ab"
      },
      "source": [
        "#Accès au ligne selon une condition\n",
        "df[df['GM (uT)'] > 500]"
      ],
      "execution_count": 23,
      "outputs": [
        {
          "output_type": "execute_result",
          "data": {
            "text/html": [
              "<div>\n",
              "<style scoped>\n",
              "    .dataframe tbody tr th:only-of-type {\n",
              "        vertical-align: middle;\n",
              "    }\n",
              "\n",
              "    .dataframe tbody tr th {\n",
              "        vertical-align: top;\n",
              "    }\n",
              "\n",
              "    .dataframe thead th {\n",
              "        text-align: right;\n",
              "    }\n",
              "</style>\n",
              "<table border=\"1\" class=\"dataframe\">\n",
              "  <thead>\n",
              "    <tr style=\"text-align: right;\">\n",
              "      <th></th>\n",
              "      <th>Description</th>\n",
              "      <th>SOC</th>\n",
              "      <th>SOC DIVISION</th>\n",
              "      <th>Subjects</th>\n",
              "      <th>AM (uT)</th>\n",
              "      <th>SD (uT)</th>\n",
              "      <th>GM (uT)</th>\n",
              "      <th>GSD</th>\n",
              "      <th>Data Type</th>\n",
              "    </tr>\n",
              "  </thead>\n",
              "  <tbody>\n",
              "    <tr>\n",
              "      <th>331</th>\n",
              "      <td>timber cutting and related occupations</td>\n",
              "      <td>5730</td>\n",
              "      <td>Agricultural, Forestry, and Fishing Occupations</td>\n",
              "      <td>9</td>\n",
              "      <td>2.480</td>\n",
              "      <td>7.703</td>\n",
              "      <td>593.403</td>\n",
              "      <td>4.66</td>\n",
              "      <td>Raw</td>\n",
              "    </tr>\n",
              "    <tr>\n",
              "      <th>371</th>\n",
              "      <td>electrical power installers and repairers</td>\n",
              "      <td>6433</td>\n",
              "      <td>Construction and Extractive Occupations</td>\n",
              "      <td>156</td>\n",
              "      <td>3.474</td>\n",
              "      <td>10.731</td>\n",
              "      <td>1147.146</td>\n",
              "      <td>4.34</td>\n",
              "      <td>Raw</td>\n",
              "    </tr>\n",
              "  </tbody>\n",
              "</table>\n",
              "</div>"
            ],
            "text/plain": [
              "0                                  Description   SOC  ...   GSD  Data Type\n",
              "331     timber cutting and related occupations  5730  ...  4.66        Raw\n",
              "371  electrical power installers and repairers  6433  ...  4.34        Raw\n",
              "\n",
              "[2 rows x 9 columns]"
            ]
          },
          "metadata": {
            "tags": []
          },
          "execution_count": 23
        }
      ]
    },
    {
      "cell_type": "markdown",
      "metadata": {
        "id": "fKMLrIGkQpnk"
      },
      "source": [
        "**RISQUE POUR LA SANTÉ SELON LIMITES D'EXPOSITION** \n",
        "\n",
        "Dans le code ci-dessus j'ai utilisé une structure conditionnelle if. Je lui ai fournit un test et SI le test est validé, alors on exécute un code. Le code à exécuter dépend du résultat du test"
      ]
    },
    {
      "cell_type": "code",
      "metadata": {
        "colab": {
          "base_uri": "https://localhost:8080/",
          "height": 402
        },
        "id": "YDziQOG6uGXJ",
        "outputId": "f4946ae7-a5ac-4ded-830f-b94a5ff4828e"
      },
      "source": [
        "# Créer la liste de conditions pour déterminer si oui ou non l'occupation SOC a une GM (uT) dépasse la limite reocmmandée par ICNIRP\n",
        "conditions = [\n",
        "    (df['GM (uT)'] <= 1000),\n",
        "    (df['GM (uT)'] > 1000)]\n",
        "\n",
        "# Créer la liste des valeurs que je veux assigner à chaque condition\n",
        "values = ['NO', 'YES']\n",
        "\n",
        "# Je crée une nouvelle colonne et j'utilise la fonction de bas np.select via librairie Numpy des valeurs en utilisant nos listes comme arguments.\n",
        "df['HEALTH RISK'] = np.select(conditions, values)\n",
        "\n",
        "# display updated DataFrame\n",
        "df.head(371)"
      ],
      "execution_count": 24,
      "outputs": [
        {
          "output_type": "execute_result",
          "data": {
            "text/html": [
              "<div>\n",
              "<style scoped>\n",
              "    .dataframe tbody tr th:only-of-type {\n",
              "        vertical-align: middle;\n",
              "    }\n",
              "\n",
              "    .dataframe tbody tr th {\n",
              "        vertical-align: top;\n",
              "    }\n",
              "\n",
              "    .dataframe thead th {\n",
              "        text-align: right;\n",
              "    }\n",
              "</style>\n",
              "<table border=\"1\" class=\"dataframe\">\n",
              "  <thead>\n",
              "    <tr style=\"text-align: right;\">\n",
              "      <th></th>\n",
              "      <th>Description</th>\n",
              "      <th>SOC</th>\n",
              "      <th>SOC DIVISION</th>\n",
              "      <th>Subjects</th>\n",
              "      <th>AM (uT)</th>\n",
              "      <th>SD (uT)</th>\n",
              "      <th>GM (uT)</th>\n",
              "      <th>GSD</th>\n",
              "      <th>Data Type</th>\n",
              "      <th>HEALTH RISK</th>\n",
              "    </tr>\n",
              "  </thead>\n",
              "  <tbody>\n",
              "    <tr>\n",
              "      <th>1</th>\n",
              "      <td>legislators</td>\n",
              "      <td>1110</td>\n",
              "      <td>Executive, Administrative, and Managerial Occu...</td>\n",
              "      <td>15</td>\n",
              "      <td>0.180</td>\n",
              "      <td>0.061</td>\n",
              "      <td>0.039</td>\n",
              "      <td>1.39</td>\n",
              "      <td>Inferred</td>\n",
              "      <td>NO</td>\n",
              "    </tr>\n",
              "    <tr>\n",
              "      <th>2</th>\n",
              "      <td>chief executives and general administrators</td>\n",
              "      <td>1120</td>\n",
              "      <td>Executive, Administrative, and Managerial Occu...</td>\n",
              "      <td>15</td>\n",
              "      <td>0.180</td>\n",
              "      <td>0.063</td>\n",
              "      <td>0.039</td>\n",
              "      <td>1.40</td>\n",
              "      <td>Raw</td>\n",
              "      <td>NO</td>\n",
              "    </tr>\n",
              "    <tr>\n",
              "      <th>3</th>\n",
              "      <td>judicial, public safety and corrections admini...</td>\n",
              "      <td>1131</td>\n",
              "      <td>Executive, Administrative, and Managerial Occu...</td>\n",
              "      <td>15</td>\n",
              "      <td>0.180</td>\n",
              "      <td>0.061</td>\n",
              "      <td>0.039</td>\n",
              "      <td>1.39</td>\n",
              "      <td>Inferred</td>\n",
              "      <td>NO</td>\n",
              "    </tr>\n",
              "    <tr>\n",
              "      <th>4</th>\n",
              "      <td>human resources program administrators</td>\n",
              "      <td>1132</td>\n",
              "      <td>Executive, Administrative, and Managerial Occu...</td>\n",
              "      <td>15</td>\n",
              "      <td>0.180</td>\n",
              "      <td>0.061</td>\n",
              "      <td>0.039</td>\n",
              "      <td>1.39</td>\n",
              "      <td>Inferred</td>\n",
              "      <td>NO</td>\n",
              "    </tr>\n",
              "    <tr>\n",
              "      <th>5</th>\n",
              "      <td>natural resources program administrators</td>\n",
              "      <td>1133</td>\n",
              "      <td>Executive, Administrative, and Managerial Occu...</td>\n",
              "      <td>15</td>\n",
              "      <td>0.180</td>\n",
              "      <td>0.061</td>\n",
              "      <td>0.039</td>\n",
              "      <td>1.39</td>\n",
              "      <td>Inferred</td>\n",
              "      <td>NO</td>\n",
              "    </tr>\n",
              "    <tr>\n",
              "      <th>...</th>\n",
              "      <td>...</td>\n",
              "      <td>...</td>\n",
              "      <td>...</td>\n",
              "      <td>...</td>\n",
              "      <td>...</td>\n",
              "      <td>...</td>\n",
              "      <td>...</td>\n",
              "      <td>...</td>\n",
              "      <td>...</td>\n",
              "      <td>...</td>\n",
              "    </tr>\n",
              "    <tr>\n",
              "      <th>367</th>\n",
              "      <td>tile setters, hard</td>\n",
              "      <td>6414</td>\n",
              "      <td>Construction and Extractive Occupations</td>\n",
              "      <td>19</td>\n",
              "      <td>0.125</td>\n",
              "      <td>0.100</td>\n",
              "      <td>0.107</td>\n",
              "      <td>1.87</td>\n",
              "      <td>Inferred</td>\n",
              "      <td>NO</td>\n",
              "    </tr>\n",
              "    <tr>\n",
              "      <th>368</th>\n",
              "      <td>carpenters</td>\n",
              "      <td>6422</td>\n",
              "      <td>Construction and Extractive Occupations</td>\n",
              "      <td>20</td>\n",
              "      <td>0.219</td>\n",
              "      <td>0.157</td>\n",
              "      <td>0.171</td>\n",
              "      <td>2.03</td>\n",
              "      <td>Raw</td>\n",
              "      <td>NO</td>\n",
              "    </tr>\n",
              "    <tr>\n",
              "      <th>369</th>\n",
              "      <td>drywall installers</td>\n",
              "      <td>6424</td>\n",
              "      <td>Construction and Extractive Occupations</td>\n",
              "      <td>20</td>\n",
              "      <td>0.219</td>\n",
              "      <td>0.153</td>\n",
              "      <td>0.171</td>\n",
              "      <td>1.99</td>\n",
              "      <td>Inferred</td>\n",
              "      <td>NO</td>\n",
              "    </tr>\n",
              "    <tr>\n",
              "      <th>370</th>\n",
              "      <td>electricians</td>\n",
              "      <td>6432</td>\n",
              "      <td>Construction and Extractive Occupations</td>\n",
              "      <td>26</td>\n",
              "      <td>0.366</td>\n",
              "      <td>0.322</td>\n",
              "      <td>1.037</td>\n",
              "      <td>1.61</td>\n",
              "      <td>Raw</td>\n",
              "      <td>NO</td>\n",
              "    </tr>\n",
              "    <tr>\n",
              "      <th>371</th>\n",
              "      <td>electrical power installers and repairers</td>\n",
              "      <td>6433</td>\n",
              "      <td>Construction and Extractive Occupations</td>\n",
              "      <td>156</td>\n",
              "      <td>3.474</td>\n",
              "      <td>10.731</td>\n",
              "      <td>1147.146</td>\n",
              "      <td>4.34</td>\n",
              "      <td>Raw</td>\n",
              "      <td>YES</td>\n",
              "    </tr>\n",
              "  </tbody>\n",
              "</table>\n",
              "<p>371 rows × 10 columns</p>\n",
              "</div>"
            ],
            "text/plain": [
              "0                                          Description  ... HEALTH RISK\n",
              "1                                          legislators  ...          NO\n",
              "2          chief executives and general administrators  ...          NO\n",
              "3    judicial, public safety and corrections admini...  ...          NO\n",
              "4               human resources program administrators  ...          NO\n",
              "5             natural resources program administrators  ...          NO\n",
              "..                                                 ...  ...         ...\n",
              "367                                 tile setters, hard  ...          NO\n",
              "368                                         carpenters  ...          NO\n",
              "369                                 drywall installers  ...          NO\n",
              "370                                       electricians  ...          NO\n",
              "371          electrical power installers and repairers  ...         YES\n",
              "\n",
              "[371 rows x 10 columns]"
            ]
          },
          "metadata": {
            "tags": []
          },
          "execution_count": 24
        }
      ]
    },
    {
      "cell_type": "code",
      "metadata": {
        "colab": {
          "base_uri": "https://localhost:8080/",
          "height": 77
        },
        "id": "inU5daeRlupO",
        "outputId": "7ff19e90-9bdf-491b-81c3-57ecf82e1cb5"
      },
      "source": [
        "#Accès au ligne selon une condition\n",
        "df[df['GM (uT)'] > 1000]"
      ],
      "execution_count": 25,
      "outputs": [
        {
          "output_type": "execute_result",
          "data": {
            "text/html": [
              "<div>\n",
              "<style scoped>\n",
              "    .dataframe tbody tr th:only-of-type {\n",
              "        vertical-align: middle;\n",
              "    }\n",
              "\n",
              "    .dataframe tbody tr th {\n",
              "        vertical-align: top;\n",
              "    }\n",
              "\n",
              "    .dataframe thead th {\n",
              "        text-align: right;\n",
              "    }\n",
              "</style>\n",
              "<table border=\"1\" class=\"dataframe\">\n",
              "  <thead>\n",
              "    <tr style=\"text-align: right;\">\n",
              "      <th></th>\n",
              "      <th>Description</th>\n",
              "      <th>SOC</th>\n",
              "      <th>SOC DIVISION</th>\n",
              "      <th>Subjects</th>\n",
              "      <th>AM (uT)</th>\n",
              "      <th>SD (uT)</th>\n",
              "      <th>GM (uT)</th>\n",
              "      <th>GSD</th>\n",
              "      <th>Data Type</th>\n",
              "      <th>HEALTH RISK</th>\n",
              "    </tr>\n",
              "  </thead>\n",
              "  <tbody>\n",
              "    <tr>\n",
              "      <th>371</th>\n",
              "      <td>electrical power installers and repairers</td>\n",
              "      <td>6433</td>\n",
              "      <td>Construction and Extractive Occupations</td>\n",
              "      <td>156</td>\n",
              "      <td>3.474</td>\n",
              "      <td>10.731</td>\n",
              "      <td>1147.146</td>\n",
              "      <td>4.34</td>\n",
              "      <td>Raw</td>\n",
              "      <td>YES</td>\n",
              "    </tr>\n",
              "  </tbody>\n",
              "</table>\n",
              "</div>"
            ],
            "text/plain": [
              "0                                  Description   SOC  ... Data Type  HEALTH RISK\n",
              "371  electrical power installers and repairers  6433  ...       Raw          YES\n",
              "\n",
              "[1 rows x 10 columns]"
            ]
          },
          "metadata": {
            "tags": []
          },
          "execution_count": 25
        }
      ]
    },
    {
      "cell_type": "markdown",
      "metadata": {
        "id": "wy1gnAvYAQGI"
      },
      "source": [
        "**Créer une colonne de DataFrame en fonction d'une condition donnée dans Pandas**\n",
        "Nous pouvons créer les colonnes DataFrame basées sur une condition donnée dans les Pandas en utilisant la compréhension de liste, les méthodes NumPy, la méthode apply() et la méthode map() de l’objet DataFrame."
      ]
    },
    {
      "cell_type": "markdown",
      "metadata": {
        "id": "ZNdCi7rilCMq"
      },
      "source": [
        "# **VISUALISATION avec API MATPLOTLIB:CRÉER DEUX FIGURES**  \n",
        "Quelles est la proportion de données mesurées vs inférées? Comment mes données sont-elles distribuées ? Mon jeu de données contient-ils des points aberrants ? Quelles sont les variations dans la dispersion de plusieurs séries au sein du jeu de données ?"
      ]
    },
    {
      "cell_type": "code",
      "metadata": {
        "colab": {
          "base_uri": "https://localhost:8080/",
          "height": 281
        },
        "id": "ffE6XqQTlYeR",
        "outputId": "2e44e55b-a5f3-4822-909f-81e68a07b097"
      },
      "source": [
        "import matplotlib.pyplot as plt\n",
        "#diagramme à secteurs - Visualiser la proportion des occupations par types de données: mesurées versus inferrées\n",
        "df['Data Type'].value_counts().plot.pie()\n",
        "plt.title('Proportion des occupations par type de données')\n",
        "\n"
      ],
      "execution_count": 26,
      "outputs": [
        {
          "output_type": "execute_result",
          "data": {
            "text/plain": [
              "Text(0.5, 1.0, 'Proportion des occupations par type de données')"
            ]
          },
          "metadata": {
            "tags": []
          },
          "execution_count": 26
        },
        {
          "output_type": "display_data",
          "data": {
            "image/png": "[encoded data removed]",
            "text/plain": [
              "<Figure size 432x288 with 1 Axes>"
            ]
          },
          "metadata": {
            "tags": []
          }
        }
      ]
    },
    {
      "cell_type": "code",
      "metadata": {
        "colab": {
          "base_uri": "https://localhost:8080/",
          "height": 300
        },
        "id": "wQ6GQd430Ke2",
        "outputId": "b9d6c88f-6358-4a29-9b52-048f93ea7650"
      },
      "source": [
        "#scatterplot : SOC vs. Subjects\n",
        "df.plot.scatter(x='SOC DIVISION',y='GM (uT)')"
      ],
      "execution_count": null,
      "outputs": [
        {
          "output_type": "execute_result",
          "data": {
            "text/plain": [
              "<matplotlib.axes._subplots.AxesSubplot at 0x7f712298d490>"
            ]
          },
          "metadata": {
            "tags": []
          },
          "execution_count": 30
        },
        {
          "output_type": "display_data",
          "data": {
            "image/png": "[encoded data removed]",
            "text/plain": [
              "<Figure size 432x288 with 1 Axes>"
            ]
          },
          "metadata": {
            "tags": [],
            "needs_background": "light"
          }
        }
      ]
    },
    {
      "cell_type": "code",
      "metadata": {
        "colab": {
          "base_uri": "https://localhost:8080/",
          "height": 275
        },
        "id": "mj6ZFxlM1Xuz",
        "outputId": "1258e02d-afbb-47e2-fb7a-c9c4eda1cb83"
      },
      "source": [
        "#grille à la carte de Kohonen - permet de voir la densité des points ici\n",
        "df.plot.hexbin(x='Subjects',y='GM (uT)',gridsize=25)"
      ],
      "execution_count": null,
      "outputs": [
        {
          "output_type": "execute_result",
          "data": {
            "text/plain": [
              "<matplotlib.axes._subplots.AxesSubplot at 0x7f712288bd10>"
            ]
          },
          "metadata": {
            "tags": []
          },
          "execution_count": 31
        },
        {
          "output_type": "display_data",
          "data": {
            "image/png": "[encoded data removed]",
            "text/plain": [
              "<Figure size 432x288 with 2 Axes>"
            ]
          },
          "metadata": {
            "tags": [],
            "needs_background": "light"
          }
        }
      ]
    },
    {
      "cell_type": "markdown",
      "metadata": {
        "id": "ZSK_8d9Ax2IS"
      },
      "source": [
        "**Visualiser la distribution: graphique à barres.**"
      ]
    },
    {
      "cell_type": "code",
      "metadata": {
        "colab": {
          "base_uri": "https://localhost:8080/",
          "height": 320
        },
        "id": "bDQDhPAoyapK",
        "outputId": "07126aa0-52c8-4338-ea24-fc0e2ce1fee1"
      },
      "source": [
        " #histogrammes du nombre du Subjects selon le Data Type\n",
        "df.hist(column='Subjects',by='Data Type')\n",
        "plt.xlabel('Nbre de pers./jours monitorée par occupation')\n",
        "plt.ylabel('Fréquence ')\n"
      ],
      "execution_count": 34,
      "outputs": [
        {
          "output_type": "execute_result",
          "data": {
            "text/plain": [
              "Text(0, 0.5, 'Fréquence ')"
            ]
          },
          "metadata": {
            "tags": []
          },
          "execution_count": 34
        },
        {
          "output_type": "display_data",
          "data": {
            "image/png": "[encoded data removed]",
            "text/plain": [
              "<Figure size 432x288 with 2 Axes>"
            ]
          },
          "metadata": {
            "tags": [],
            "needs_background": "light"
          }
        }
      ]
    },
    {
      "cell_type": "code",
      "metadata": {
        "colab": {
          "base_uri": "https://localhost:8080/",
          "height": 269
        },
        "id": "TP1b7HTi2Qw0",
        "outputId": "6b680ea7-eb80-4ca9-a336-0a2d70f5d863"
      },
      "source": [
        "#comparaison des distributions avec un boxplot des moyennes arithmétiques et géométriques pour les  champs magnétiques moyen pondéré dans le temps.\n",
        "for column in df:\n",
        "    boxplot = df.boxplot(column=['GM (uT)'])"
      ],
      "execution_count": null,
      "outputs": [
        {
          "output_type": "display_data",
          "data": {
            "image/png": "[encoded data removed]",
            "text/plain": [
              "<Figure size 432x288 with 1 Axes>"
            ]
          },
          "metadata": {
            "tags": [],
            "needs_background": "light"
          }
        }
      ]
    },
    {
      "cell_type": "markdown",
      "metadata": {
        "id": "CyNWbTOnti0k"
      },
      "source": [
        "# **MODÈLE DESCRIPTIF** \n",
        "** Selon ICNIRP,  les Limites d'exposition aux champs électriques de 60 Hz pour les travailleurs sont de 1000 (uT).**\n",
        "\n",
        "Mon modèle DESCRIPTIF va donc s'intéresser aux occupations SOC ayant une valeurs aberrantes comme moyenne gémométrique de l'exposition moyenne quotidienne à un champs magnétique en micro Tesla (uT) d'un employé dans un milieu de travail exposé aux champs électromagnétiques à fréquences industrielles 50-60 hertz (Différents milieux industriels) \n",
        "\n",
        "Sources:\n",
        "ICNIRP. Guidelines for limiting exposure to time-varying electric and magnetic fields (1 Hz to 100 kHz)This link will redirect you to an external site.. [PDF] International Commission on Non-Ionizing Radiation Protection. 2010.\n"
      ]
    },
    {
      "cell_type": "code",
      "metadata": {
        "colab": {
          "base_uri": "https://localhost:8080/",
          "height": 77
        },
        "id": "YpYy8MI2vpcj",
        "outputId": "cde79811-4018-430f-d206-0c101f7d19d0"
      },
      "source": [
        "#Accès au ligne selon une condition\n",
        "df[df['GM (uT)'] >= 1000]"
      ],
      "execution_count": null,
      "outputs": [
        {
          "output_type": "execute_result",
          "data": {
            "text/html": [
              "<div>\n",
              "<style scoped>\n",
              "    .dataframe tbody tr th:only-of-type {\n",
              "        vertical-align: middle;\n",
              "    }\n",
              "\n",
              "    .dataframe tbody tr th {\n",
              "        vertical-align: top;\n",
              "    }\n",
              "\n",
              "    .dataframe thead th {\n",
              "        text-align: right;\n",
              "    }\n",
              "</style>\n",
              "<table border=\"1\" class=\"dataframe\">\n",
              "  <thead>\n",
              "    <tr style=\"text-align: right;\">\n",
              "      <th></th>\n",
              "      <th>Description</th>\n",
              "      <th>SOC</th>\n",
              "      <th>SOC DIVISION</th>\n",
              "      <th>Subjects</th>\n",
              "      <th>AM (uT)</th>\n",
              "      <th>SD (uT)</th>\n",
              "      <th>GM (uT)</th>\n",
              "      <th>GSD</th>\n",
              "      <th>Data Type</th>\n",
              "      <th>HEALTH RISK</th>\n",
              "    </tr>\n",
              "  </thead>\n",
              "  <tbody>\n",
              "    <tr>\n",
              "      <th>371</th>\n",
              "      <td>electrical power installers and repairers</td>\n",
              "      <td>6433</td>\n",
              "      <td>Construction and Extractive Occupations</td>\n",
              "      <td>156</td>\n",
              "      <td>3.474</td>\n",
              "      <td>10.731</td>\n",
              "      <td>1147.146</td>\n",
              "      <td>4.34</td>\n",
              "      <td>Raw</td>\n",
              "      <td>YES</td>\n",
              "    </tr>\n",
              "  </tbody>\n",
              "</table>\n",
              "</div>"
            ],
            "text/plain": [
              "0                                  Description   SOC  ... Data Type  HEALTH RISK\n",
              "371  electrical power installers and repairers  6433  ...       Raw          YES\n",
              "\n",
              "[1 rows x 10 columns]"
            ]
          },
          "metadata": {
            "tags": []
          },
          "execution_count": 34
        }
      ]
    },
    {
      "cell_type": "markdown",
      "metadata": {
        "id": "rFX0KZN-utmg"
      },
      "source": [
        "# **STATISTIQUES DESCRIPTIVES**"
      ]
    },
    {
      "cell_type": "markdown",
      "metadata": {
        "id": "Qox13-tLvYFW"
      },
      "source": [
        "**1) Générer des statistiques descriptives**\n",
        "**Variables numériques**\n",
        "\n",
        "*Les indicateurs statistiques choisis ne sont valables que pour les variables numérique donc j'ai exclus toutes les collonnes ayant des données de type objet"
      ]
    },
    {
      "cell_type": "markdown",
      "metadata": {
        "id": "YCFFof0-whUO"
      },
      "source": [
        "**A.Mesures de tendance centrale: médiane, moyenne**                            \n"
      ]
    },
    {
      "cell_type": "markdown",
      "metadata": {
        "id": "nM8J9VWdxWgd"
      },
      "source": [
        "**B.Mesures de dispersion: étendue (max - min), écart interquartile, écart-type**"
      ]
    },
    {
      "cell_type": "code",
      "metadata": {
        "colab": {
          "base_uri": "https://localhost:8080/",
          "height": 128
        },
        "id": "Fip75W7svi1W",
        "outputId": "b44157f4-194b-480c-9dbd-bd1530634bf3"
      },
      "source": [
        "#description des données de toutes les colonnes saufs celles exclues\n",
        "print(df.describe(exclude='Objects')\n",
        "\n"
      ],
      "execution_count": 44,
      "outputs": [
        {
          "output_type": "error",
          "ename": "SyntaxError",
          "evalue": "ignored",
          "traceback": [
            "\u001b[0;36m  File \u001b[0;32m\"<ipython-input-44-74ae5d04da37>\"\u001b[0;36m, line \u001b[0;32m2\u001b[0m\n\u001b[0;31m    print(df.describe(exclude='Objects')\u001b[0m\n\u001b[0m                                        ^\u001b[0m\n\u001b[0;31mSyntaxError\u001b[0m\u001b[0;31m:\u001b[0m unexpected EOF while parsing\n"
          ]
        }
      ]
    },
    {
      "cell_type": "code",
      "metadata": {
        "colab": {
          "base_uri": "https://localhost:8080/"
        },
        "id": "_B7F7cZTvnf2",
        "outputId": "ddd153b2-fee2-47cb-89d4-24b3e82e4585"
      },
      "source": [
        "#statistique descriptive pour une seule colonne\n",
        "print(df['GM (uT)'].describe())"
      ],
      "execution_count": 28,
      "outputs": [
        {
          "output_type": "stream",
          "text": [
            "count     538.000000\n",
            "mean        6.868658\n",
            "std        58.907171\n",
            "min         0.000000\n",
            "25%         0.013000\n",
            "50%         0.075000\n",
            "75%         0.726000\n",
            "max      1147.146000\n",
            "Name: GM (uT), dtype: float64\n"
          ],
          "name": "stdout"
        }
      ]
    },
    {
      "cell_type": "code",
      "metadata": {
        "colab": {
          "base_uri": "https://localhost:8080/"
        },
        "id": "V6SMG2YZvsZu",
        "outputId": "ab29b0d6-a2fa-4f16-a217-c44bc0686fbf"
      },
      "source": [
        "#statistique descriptive pour une seule colonne\n",
        "print(df['AM (uT)'].describe())"
      ],
      "execution_count": null,
      "outputs": [
        {
          "output_type": "stream",
          "text": [
            "count    538.000000\n",
            "mean       0.275225\n",
            "std        0.324072\n",
            "min        0.049000\n",
            "25%        0.131250\n",
            "50%        0.200000\n",
            "75%        0.270000\n",
            "max        3.474000\n",
            "Name: AM (uT), dtype: float64\n"
          ],
          "name": "stdout"
        }
      ]
    },
    {
      "cell_type": "code",
      "metadata": {
        "colab": {
          "base_uri": "https://localhost:8080/",
          "height": 286
        },
        "id": "8Xdn7Hkcm1Kg",
        "outputId": "11d53500-551d-4a5b-8cb1-b31123521b38"
      },
      "source": [
        "#comparaison des distributions avec un boxplot de toutes les colonnes avec variable continues et discontinues\n",
        "df.plot(kind='box')\n",
        "\n"
      ],
      "execution_count": null,
      "outputs": [
        {
          "output_type": "execute_result",
          "data": {
            "text/plain": [
              "<matplotlib.axes._subplots.AxesSubplot at 0x7f71224f3250>"
            ]
          },
          "metadata": {
            "tags": []
          },
          "execution_count": 38
        },
        {
          "output_type": "display_data",
          "data": {
            "image/png": "[encoded data removed]",
            "text/plain": [
              "<Figure size 432x288 with 1 Axes>"
            ]
          },
          "metadata": {
            "tags": [],
            "needs_background": "light"
          }
        }
      ]
    },
    {
      "cell_type": "code",
      "metadata": {
        "colab": {
          "base_uri": "https://localhost:8080/",
          "height": 261
        },
        "id": "_ASS7mxPnupV",
        "outputId": "0269a3f3-775c-4a44-ac4c-4d92216da5ad"
      },
      "source": [
        "#comparaison des distributions avec un boxplot des moyennes arithmétiques et géométriques pour les  champs magnétiques moyen pondéré dans le temps.\n",
        "for column in df:\n",
        "    boxplot = df.boxplot(column=['GM (uT)', 'AM (uT)'])\n",
        "    plt.title('Comparaison des distribution GM (uT) vs AM (uT)')\n",
        "plt.subplots_adjust(bottom=0.25)\n",
        "plt.xticks(rotation=25)\n",
        "plt.show()"
      ],
      "execution_count": null,
      "outputs": [
        {
          "output_type": "display_data",
          "data": {
            "image/png": "[encoded data removed]",
            "text/plain": [
              "<Figure size 432x288 with 1 Axes>"
            ]
          },
          "metadata": {
            "tags": [],
            "needs_background": "light"
          }
        }
      ]
    },
    {
      "cell_type": "markdown",
      "metadata": {
        "id": "cks082zGUNY1"
      },
      "source": [
        "**Résultats pour le choix entre moyenne arithmétique ou moyenne Géométrique pour le suivi de l'exposition Champs magnétique TWA en micro Tesla (uT), La relation attendue est A.M. > G.M. **: Médiane de la GM (uT) à 0.075000 (uT) est < que la Médiane de la AM (uT) à 0.20 (uT). ce qui est normal dans une distribution log-normale, c'est ce qui est attendu.  "
      ]
    },
    {
      "cell_type": "markdown",
      "metadata": {
        "id": "rafDjLLpxrYT"
      },
      "source": [
        "**2) Générer des statistiques descriptives Variables Catégorielles**"
      ]
    },
    {
      "cell_type": "markdown",
      "metadata": {
        "id": "C9rf7LyfzhHB"
      },
      "source": [
        "**Variable nominale: Comme tendance centrale, on peut seulement définir le mode (valeur la plus commune)**."
      ]
    },
    {
      "cell_type": "markdown",
      "metadata": {
        "id": "d-M0K1tozsTn"
      },
      "source": [
        "**Variable ordinale: Puisque les catégories sont ordonnées, on peut aussi définir la valeur médiane.**"
      ]
    },
    {
      "cell_type": "markdown",
      "metadata": {
        "id": "Z4VesMkmVojK"
      },
      "source": [
        "# **STATISTIQUES RÉCAPITULATIVES** : \n",
        "\n",
        "\n",
        "\n",
        "\n"
      ]
    },
    {
      "cell_type": "markdown",
      "metadata": {
        "id": "YKIVbcX40YjW"
      },
      "source": [
        "**Covariance et corrélation**"
      ]
    },
    {
      "cell_type": "code",
      "metadata": {
        "colab": {
          "base_uri": "https://localhost:8080/"
        },
        "id": "kOXw7w3Q2H56",
        "outputId": "fbb2a1da-481f-4970-e7df-f86c68ed39d8"
      },
      "source": [
        "#Pingouin for the correlation analysis\n",
        "!pip install -- Pingouin\n",
        "import numpy as np\n",
        "import pingouin as pg"
      ],
      "execution_count": null,
      "outputs": [
        {
          "output_type": "stream",
          "text": [
            "Collecting Pingouin\n",
            "\u001b[?25l  Downloading https://files.pythonhosted.org/packages/5c/40/7736d4fcb8dbb6758a1e9ca51754e60ff4efe5d7c9b5bb6166cff538513d/pingouin-0.3.11.tar.gz (204kB)\n",
            "\u001b[K     |████████████████████████████████| 204kB 2.9MB/s \n",
            "\u001b[?25hRequirement already satisfied: numpy>=1.15 in /usr/local/lib/python3.7/dist-packages (from Pingouin) (1.19.5)\n",
            "Requirement already satisfied: scipy>=1.3 in /usr/local/lib/python3.7/dist-packages (from Pingouin) (1.4.1)\n",
            "Requirement already satisfied: pandas>=0.24 in /usr/local/lib/python3.7/dist-packages (from Pingouin) (1.1.5)\n",
            "Requirement already satisfied: matplotlib>=3.0.2 in /usr/local/lib/python3.7/dist-packages (from Pingouin) (3.2.2)\n",
            "Requirement already satisfied: seaborn>=0.9.0 in /usr/local/lib/python3.7/dist-packages (from Pingouin) (0.11.1)\n",
            "Requirement already satisfied: statsmodels>=0.10.0 in /usr/local/lib/python3.7/dist-packages (from Pingouin) (0.10.2)\n",
            "Requirement already satisfied: scikit-learn in /usr/local/lib/python3.7/dist-packages (from Pingouin) (0.22.2.post1)\n",
            "Collecting pandas_flavor>=0.1.2\n",
            "  Downloading https://files.pythonhosted.org/packages/9a/57/7fbcff4c0961ed190ac5fcb0bd8194152ee1ee6487edf64fdbae16e2bc4b/pandas_flavor-0.2.0-py2.py3-none-any.whl\n",
            "Collecting outdated\n",
            "  Downloading https://files.pythonhosted.org/packages/fd/f6/95588d496e518355c33b389222c99069b1c6f2c046be64f400072fdc7cda/outdated-0.2.1-py3-none-any.whl\n",
            "Requirement already satisfied: tabulate in /usr/local/lib/python3.7/dist-packages (from Pingouin) (0.8.9)\n",
            "Requirement already satisfied: python-dateutil>=2.7.3 in /usr/local/lib/python3.7/dist-packages (from pandas>=0.24->Pingouin) (2.8.1)\n",
            "Requirement already satisfied: pytz>=2017.2 in /usr/local/lib/python3.7/dist-packages (from pandas>=0.24->Pingouin) (2018.9)\n",
            "Requirement already satisfied: pyparsing!=2.0.4,!=2.1.2,!=2.1.6,>=2.0.1 in /usr/local/lib/python3.7/dist-packages (from matplotlib>=3.0.2->Pingouin) (2.4.7)\n",
            "Requirement already satisfied: cycler>=0.10 in /usr/local/lib/python3.7/dist-packages (from matplotlib>=3.0.2->Pingouin) (0.10.0)\n",
            "Requirement already satisfied: kiwisolver>=1.0.1 in /usr/local/lib/python3.7/dist-packages (from matplotlib>=3.0.2->Pingouin) (1.3.1)\n",
            "Requirement already satisfied: patsy>=0.4.0 in /usr/local/lib/python3.7/dist-packages (from statsmodels>=0.10.0->Pingouin) (0.5.1)\n",
            "Requirement already satisfied: joblib>=0.11 in /usr/local/lib/python3.7/dist-packages (from scikit-learn->Pingouin) (1.0.1)\n",
            "Requirement already satisfied: xarray in /usr/local/lib/python3.7/dist-packages (from pandas_flavor>=0.1.2->Pingouin) (0.15.1)\n",
            "Collecting littleutils\n",
            "  Downloading https://files.pythonhosted.org/packages/4e/b1/bb4e06f010947d67349f863b6a2ad71577f85590180a935f60543f622652/littleutils-0.2.2.tar.gz\n",
            "Requirement already satisfied: requests in /usr/local/lib/python3.7/dist-packages (from outdated->Pingouin) (2.23.0)\n",
            "Requirement already satisfied: six>=1.5 in /usr/local/lib/python3.7/dist-packages (from python-dateutil>=2.7.3->pandas>=0.24->Pingouin) (1.15.0)\n",
            "Requirement already satisfied: setuptools>=41.2 in /usr/local/lib/python3.7/dist-packages (from xarray->pandas_flavor>=0.1.2->Pingouin) (56.0.0)\n",
            "Requirement already satisfied: chardet<4,>=3.0.2 in /usr/local/lib/python3.7/dist-packages (from requests->outdated->Pingouin) (3.0.4)\n",
            "Requirement already satisfied: urllib3!=1.25.0,!=1.25.1,<1.26,>=1.21.1 in /usr/local/lib/python3.7/dist-packages (from requests->outdated->Pingouin) (1.24.3)\n",
            "Requirement already satisfied: idna<3,>=2.5 in /usr/local/lib/python3.7/dist-packages (from requests->outdated->Pingouin) (2.10)\n",
            "Requirement already satisfied: certifi>=2017.4.17 in /usr/local/lib/python3.7/dist-packages (from requests->outdated->Pingouin) (2020.12.5)\n",
            "Building wheels for collected packages: Pingouin, littleutils\n",
            "  Building wheel for Pingouin (setup.py) ... \u001b[?25l\u001b[?25hdone\n",
            "  Created wheel for Pingouin: filename=pingouin-0.3.11-cp37-none-any.whl size=203325 sha256=a5e6cd7ed69332d8d5ff899ec03db1a1b01a639fd9eeffca86b1ab993c1ce3ed\n",
            "  Stored in directory: /root/.cache/pip/wheels/79/46/ef/e377eb45c86f278f660d31c4a30e3f733063d28c89462f1aea\n",
            "  Building wheel for littleutils (setup.py) ... \u001b[?25l\u001b[?25hdone\n",
            "  Created wheel for littleutils: filename=littleutils-0.2.2-cp37-none-any.whl size=7051 sha256=1e90766777adcdcb8ab52926a9423f4f6ea3294006289a5bc3a8e7e8763d15e1\n",
            "  Stored in directory: /root/.cache/pip/wheels/53/16/9f/ac67d15c40243754fd73f620e1b9b6dedc20492ecc19a2bae1\n",
            "Successfully built Pingouin littleutils\n",
            "Installing collected packages: pandas-flavor, littleutils, outdated, Pingouin\n",
            "Successfully installed Pingouin-0.3.11 littleutils-0.2.2 outdated-0.2.1 pandas-flavor-0.2.0\n"
          ],
          "name": "stdout"
        }
      ]
    },
    {
      "cell_type": "markdown",
      "metadata": {
        "id": "FF8HIqOhzxvX"
      },
      "source": [
        "**Vérifier si la relation linéaire entre les variables AM(uT) et la GM (uT), s'il la corrélation est démontrée, on \n"
      ]
    },
    {
      "cell_type": "code",
      "metadata": {
        "colab": {
          "base_uri": "https://localhost:8080/",
          "height": 296
        },
        "id": "UpC_n8GS0Dl9",
        "outputId": "b9229ae9-c242-4e63-b67e-b5af3a3a2525"
      },
      "source": [
        "#scatterplot : AM (uT) vs. GM (uT)\n",
        "df.plot.scatter(x='GM (uT)',y='AM (uT)')"
      ],
      "execution_count": null,
      "outputs": [
        {
          "output_type": "execute_result",
          "data": {
            "text/plain": [
              "<matplotlib.axes._subplots.AxesSubplot at 0x7f71130dff10>"
            ]
          },
          "metadata": {
            "tags": []
          },
          "execution_count": 41
        },
        {
          "output_type": "display_data",
          "data": {
            "image/png": "[encoded data removed]",
            "text/plain": [
              "<Figure size 432x288 with 1 Axes>"
            ]
          },
          "metadata": {
            "tags": [],
            "needs_background": "light"
          }
        }
      ]
    },
    {
      "cell_type": "code",
      "metadata": {
        "colab": {
          "base_uri": "https://localhost:8080/",
          "height": 77
        },
        "id": "F1BTSOeA3swy",
        "outputId": "2d6603d8-d5ed-42e8-ac72-bc36aa4ba4cd"
      },
      "source": [
        "from pingouin import corr\n",
        "# Test de corrélatio de Person, HO: pas de corrélation entre les variables si r= 0\n",
        "corr(df['AM (uT)'], df['GM (uT)'])"
      ],
      "execution_count": null,
      "outputs": [
        {
          "output_type": "execute_result",
          "data": {
            "text/html": [
              "<div>\n",
              "<style scoped>\n",
              "    .dataframe tbody tr th:only-of-type {\n",
              "        vertical-align: middle;\n",
              "    }\n",
              "\n",
              "    .dataframe tbody tr th {\n",
              "        vertical-align: top;\n",
              "    }\n",
              "\n",
              "    .dataframe thead th {\n",
              "        text-align: right;\n",
              "    }\n",
              "</style>\n",
              "<table border=\"1\" class=\"dataframe\">\n",
              "  <thead>\n",
              "    <tr style=\"text-align: right;\">\n",
              "      <th></th>\n",
              "      <th>n</th>\n",
              "      <th>r</th>\n",
              "      <th>CI95%</th>\n",
              "      <th>r2</th>\n",
              "      <th>adj_r2</th>\n",
              "      <th>p-val</th>\n",
              "      <th>BF10</th>\n",
              "      <th>power</th>\n",
              "    </tr>\n",
              "  </thead>\n",
              "  <tbody>\n",
              "    <tr>\n",
              "      <th>pearson</th>\n",
              "      <td>538</td>\n",
              "      <td>0.674448</td>\n",
              "      <td>[0.63, 0.72]</td>\n",
              "      <td>0.45488</td>\n",
              "      <td>0.452843</td>\n",
              "      <td>1.221878e-72</td>\n",
              "      <td>1.233e+69</td>\n",
              "      <td>1.0</td>\n",
              "    </tr>\n",
              "  </tbody>\n",
              "</table>\n",
              "</div>"
            ],
            "text/plain": [
              "           n         r         CI95%  ...         p-val       BF10  power\n",
              "pearson  538  0.674448  [0.63, 0.72]  ...  1.221878e-72  1.233e+69    1.0\n",
              "\n",
              "[1 rows x 8 columns]"
            ]
          },
          "metadata": {
            "tags": []
          },
          "execution_count": 42
        }
      ]
    },
    {
      "cell_type": "markdown",
      "metadata": {
        "id": "kGarDqI2WsSQ"
      },
      "source": [
        "**CHOIX de la statistique récapitulative** \n",
        "Puisque la moyenne des échantillons est de 16  personnes/jour monitorée par occupations, et que la médianne est de 9 personnes/jour, que les échantillons sont petits il est indiqué de suivre une distribution log-normale, nous allons suivre la GM (uT). En d'autres mots,  la statistique descriptive nous montre aussi que la médiane de moyenne arithmétique  AM (uT) est plus grande la médiane de la moyenne géométrique GM (uT). Ce qui est normal et confirme que je vais utiliser la moyenne géométrique pour faire le suivi de l'exposition moyenne quotidienne à un champs magnétique en micro Tesla (uT) d'un employé dans un milieu de travail exposé aux champs électromagnétiques à fréquences industrielles 50-60 hertz (Différents milieux industriels).   Le test statistique ''Test de corrélation de pearson'' va influencer la décision si oui ou non je peux me baser sur ces statistiques récapitulative pour créer mon modèle descriptif. HO: pas de corrélation entre les variables si r= 0; Le coefficient de corrélation est de  0.6744 (P<0.0001, 95% CI 0.63, 0.72).   L'hypothèse nulle HO est donc rejetée. La relation de linéarité entre la moyenne arithmétique et géométrique assez forte : r de Pearson = 0.674448; Dans le graphique en nuage de points, la plupart  des points sont proches de la ligne, mais d'autres en sont éloignés, ce qui indique qu'il y a plusieurs valeurs aberrantes qui influencent le r. Aussi, le graphique nous montre bien que la distribution de la  GM (uT) est plus influencée par les valeurs aberrantes que la AM (uT). "
      ]
    },
    {
      "cell_type": "code",
      "metadata": {
        "colab": {
          "base_uri": "https://localhost:8080/"
        },
        "id": "el-KvsCJAzgT",
        "outputId": "3d975609-7fee-40d4-ddde-e45c3ff019b9"
      },
      "source": [
        "#statistique descriptive pour la colonne 'Subjets'représente le nombre de personnes/jours monitorées par occupation \n",
        "\n",
        "print(df['Subjects'].describe())"
      ],
      "execution_count": null,
      "outputs": [
        {
          "output_type": "stream",
          "text": [
            "count    538.000000\n",
            "mean      16.769517\n",
            "std       20.286928\n",
            "min        1.000000\n",
            "25%        4.250000\n",
            "50%        9.000000\n",
            "75%       24.000000\n",
            "max      192.000000\n",
            "Name: Subjects, dtype: float64\n"
          ],
          "name": "stdout"
        }
      ]
    },
    {
      "cell_type": "code",
      "metadata": {
        "colab": {
          "base_uri": "https://localhost:8080/"
        },
        "id": "B28bYEb2EVHb",
        "outputId": "ba3bfb08-3259-4176-bda4-9ba9293931bd"
      },
      "source": [
        "print(df['Subjects'].mean())"
      ],
      "execution_count": null,
      "outputs": [
        {
          "output_type": "stream",
          "text": [
            "16.769516728624534\n"
          ],
          "name": "stdout"
        }
      ]
    },
    {
      "cell_type": "code",
      "metadata": {
        "colab": {
          "base_uri": "https://localhost:8080/"
        },
        "id": "WEacRqeIFDOh",
        "outputId": "18e6b6cd-c843-4aac-a0fb-078a7a6caa80"
      },
      "source": [
        "print(df['Subjects'].std())"
      ],
      "execution_count": null,
      "outputs": [
        {
          "output_type": "stream",
          "text": [
            "20.28692784724278\n"
          ],
          "name": "stdout"
        }
      ]
    },
    {
      "cell_type": "code",
      "metadata": {
        "colab": {
          "base_uri": "https://localhost:8080/",
          "height": 282
        },
        "id": "w-i4IX0bGzvw",
        "outputId": "e6b6b055-faef-4413-d72c-e4264e5a9b63"
      },
      "source": [
        "#density plot\n",
        "df['Subjects'].plot.kde()"
      ],
      "execution_count": null,
      "outputs": [
        {
          "output_type": "execute_result",
          "data": {
            "text/plain": [
              "<matplotlib.axes._subplots.AxesSubplot at 0x7f7112067a50>"
            ]
          },
          "metadata": {
            "tags": []
          },
          "execution_count": 46
        },
        {
          "output_type": "display_data",
          "data": {
            "image/png": "[encoded data removed]",
            "text/plain": [
              "<Figure size 432x288 with 1 Axes>"
            ]
          },
          "metadata": {
            "tags": [],
            "needs_background": "light"
          }
        }
      ]
    },
    {
      "cell_type": "code",
      "metadata": {
        "colab": {
          "base_uri": "https://localhost:8080/",
          "height": 313
        },
        "id": "vjzU8TM-HCEV",
        "outputId": "06b75d53-785f-4d47-b9ef-2a7ce5417cec"
      },
      "source": [
        "#histogramme pour la colonne 'Subjets'représente le nombre de personnes/jours monitorées par occupation \n",
        "df.hist(column='Subjects')\n",
        "plt.xlabel('Nbre de personne/jours monitorée par occupation ')\n",
        "plt.ylabel('Fréquence ')\n",
        "plt.title('Distribution du nombre de personne/jours monitorées (échantillonnage) ')\n",
        "\n"
      ],
      "execution_count": null,
      "outputs": [
        {
          "output_type": "execute_result",
          "data": {
            "text/plain": [
              "Text(0.5, 1.0, 'Distribution du nombre de personne/jours monitorées (échantillonnage) ')"
            ]
          },
          "metadata": {
            "tags": []
          },
          "execution_count": 47
        },
        {
          "output_type": "display_data",
          "data": {
            "image/png": "[encoded data removed]",
            "text/plain": [
              "<Figure size 432x288 with 1 Axes>"
            ]
          },
          "metadata": {
            "tags": [],
            "needs_background": "light"
          }
        }
      ]
    },
    {
      "cell_type": "code",
      "metadata": {
        "colab": {
          "base_uri": "https://localhost:8080/",
          "height": 300
        },
        "id": "RSE0ZMvAJIkr",
        "outputId": "506b88c1-2628-404b-8842-a805ab21e8c1"
      },
      "source": [
        "#scatterplot : Subjects vs. GM (uT)\n",
        "df.plot.scatter(x='Subjects',y='GM (uT)')"
      ],
      "execution_count": null,
      "outputs": [
        {
          "output_type": "execute_result",
          "data": {
            "text/plain": [
              "<matplotlib.axes._subplots.AxesSubplot at 0x7f710ff21a90>"
            ]
          },
          "metadata": {
            "tags": []
          },
          "execution_count": 48
        },
        {
          "output_type": "display_data",
          "data": {
            "image/png": "[encoded data removed]",
            "text/plain": [
              "<Figure size 432x288 with 1 Axes>"
            ]
          },
          "metadata": {
            "tags": [],
            "needs_background": "light"
          }
        }
      ]
    },
    {
      "cell_type": "code",
      "metadata": {
        "colab": {
          "base_uri": "https://localhost:8080/",
          "height": 312
        },
        "id": "0tZQlyb2KQk3",
        "outputId": "5313e726-3a24-4ff8-ee4a-ecbb15ee4997"
      },
      "source": [
        "df.plot.scatter(x='GM (uT)',y='GSD')\n",
        "plt.title('GM (uT) et  ')\n"
      ],
      "execution_count": null,
      "outputs": [
        {
          "output_type": "execute_result",
          "data": {
            "text/plain": [
              "Text(0.5, 1.0, 'GM (uT) et  ')"
            ]
          },
          "metadata": {
            "tags": []
          },
          "execution_count": 49
        },
        {
          "output_type": "display_data",
          "data": {
            "image/png": "[encoded data removed]",
            "text/plain": [
              "<Figure size 432x288 with 1 Axes>"
            ]
          },
          "metadata": {
            "tags": [],
            "needs_background": "light"
          }
        }
      ]
    },
    {
      "cell_type": "code",
      "metadata": {
        "colab": {
          "base_uri": "https://localhost:8080/",
          "height": 402
        },
        "id": "g8Ox-mwBCUBI",
        "outputId": "bba329e1-1c73-4d4f-ca5a-31f4ed5ad4e3"
      },
      "source": [
        "#Accès au ligne selon une condition, Si n >= 25 utilise la loi de Laplace Gauss\n",
        "df[df['Subjects'] >= 25]"
      ],
      "execution_count": null,
      "outputs": [
        {
          "output_type": "execute_result",
          "data": {
            "text/html": [
              "<div>\n",
              "<style scoped>\n",
              "    .dataframe tbody tr th:only-of-type {\n",
              "        vertical-align: middle;\n",
              "    }\n",
              "\n",
              "    .dataframe tbody tr th {\n",
              "        vertical-align: top;\n",
              "    }\n",
              "\n",
              "    .dataframe thead th {\n",
              "        text-align: right;\n",
              "    }\n",
              "</style>\n",
              "<table border=\"1\" class=\"dataframe\">\n",
              "  <thead>\n",
              "    <tr style=\"text-align: right;\">\n",
              "      <th></th>\n",
              "      <th>Description</th>\n",
              "      <th>SOC</th>\n",
              "      <th>SOC DIVISION</th>\n",
              "      <th>Subjects</th>\n",
              "      <th>AM (uT)</th>\n",
              "      <th>SD (uT)</th>\n",
              "      <th>GM (uT)</th>\n",
              "      <th>GSD</th>\n",
              "      <th>Data Type</th>\n",
              "      <th>HEALTH RISK</th>\n",
              "    </tr>\n",
              "  </thead>\n",
              "  <tbody>\n",
              "    <tr>\n",
              "      <th>10</th>\n",
              "      <td>financial managers</td>\n",
              "      <td>1220</td>\n",
              "      <td>Executive, Administrative, and Managerial Occu...</td>\n",
              "      <td>28</td>\n",
              "      <td>0.209</td>\n",
              "      <td>0.176</td>\n",
              "      <td>0.271</td>\n",
              "      <td>2.22</td>\n",
              "      <td>Raw</td>\n",
              "      <td>NO</td>\n",
              "    </tr>\n",
              "    <tr>\n",
              "      <th>13</th>\n",
              "      <td>managers; marketing, advertising, and public r...</td>\n",
              "      <td>1250</td>\n",
              "      <td>Executive, Administrative, and Managerial Occu...</td>\n",
              "      <td>32</td>\n",
              "      <td>0.250</td>\n",
              "      <td>0.341</td>\n",
              "      <td>0.251</td>\n",
              "      <td>2.26</td>\n",
              "      <td>Raw</td>\n",
              "      <td>NO</td>\n",
              "    </tr>\n",
              "    <tr>\n",
              "      <th>19</th>\n",
              "      <td>managers; medicine and health</td>\n",
              "      <td>1310</td>\n",
              "      <td>Executive, Administrative, and Managerial Occu...</td>\n",
              "      <td>25</td>\n",
              "      <td>0.211</td>\n",
              "      <td>0.175</td>\n",
              "      <td>0.305</td>\n",
              "      <td>2.07</td>\n",
              "      <td>Raw</td>\n",
              "      <td>NO</td>\n",
              "    </tr>\n",
              "    <tr>\n",
              "      <th>24</th>\n",
              "      <td>electricity, gas, water supply, and sanitary s...</td>\n",
              "      <td>1343</td>\n",
              "      <td>Executive, Administrative, and Managerial Occu...</td>\n",
              "      <td>35</td>\n",
              "      <td>0.181</td>\n",
              "      <td>0.126</td>\n",
              "      <td>0.139</td>\n",
              "      <td>1.80</td>\n",
              "      <td>Inferred</td>\n",
              "      <td>NO</td>\n",
              "    </tr>\n",
              "    <tr>\n",
              "      <th>25</th>\n",
              "      <td>postmasters and mail superintendents</td>\n",
              "      <td>1344</td>\n",
              "      <td>Executive, Administrative, and Managerial Occu...</td>\n",
              "      <td>35</td>\n",
              "      <td>0.181</td>\n",
              "      <td>0.126</td>\n",
              "      <td>0.139</td>\n",
              "      <td>1.80</td>\n",
              "      <td>Inferred</td>\n",
              "      <td>NO</td>\n",
              "    </tr>\n",
              "    <tr>\n",
              "      <th>...</th>\n",
              "      <td>...</td>\n",
              "      <td>...</td>\n",
              "      <td>...</td>\n",
              "      <td>...</td>\n",
              "      <td>...</td>\n",
              "      <td>...</td>\n",
              "      <td>...</td>\n",
              "      <td>...</td>\n",
              "      <td>...</td>\n",
              "      <td>...</td>\n",
              "    </tr>\n",
              "    <tr>\n",
              "      <th>501</th>\n",
              "      <td>driver-sales worker</td>\n",
              "      <td>8218</td>\n",
              "      <td>Transportation and Material Moving Occupations</td>\n",
              "      <td>45</td>\n",
              "      <td>0.245</td>\n",
              "      <td>0.724</td>\n",
              "      <td>5.105</td>\n",
              "      <td>2.55</td>\n",
              "      <td>Inferred</td>\n",
              "      <td>NO</td>\n",
              "    </tr>\n",
              "    <tr>\n",
              "      <th>510</th>\n",
              "      <td>industrial truck and tractor equipment operators</td>\n",
              "      <td>8318</td>\n",
              "      <td>Transportation and Material Moving Occupations</td>\n",
              "      <td>52</td>\n",
              "      <td>0.148</td>\n",
              "      <td>0.521</td>\n",
              "      <td>2.553</td>\n",
              "      <td>2.27</td>\n",
              "      <td>Inferred</td>\n",
              "      <td>NO</td>\n",
              "    </tr>\n",
              "    <tr>\n",
              "      <th>517</th>\n",
              "      <td>helpers; industrial machinery repairers</td>\n",
              "      <td>8633</td>\n",
              "      <td>Handlers, Equipment Cleaners, Helpers, and Lab...</td>\n",
              "      <td>32</td>\n",
              "      <td>0.320</td>\n",
              "      <td>0.305</td>\n",
              "      <td>0.958</td>\n",
              "      <td>2.23</td>\n",
              "      <td>Inferred</td>\n",
              "      <td>NO</td>\n",
              "    </tr>\n",
              "    <tr>\n",
              "      <th>518</th>\n",
              "      <td>helpers; electrical and electronic equipment r...</td>\n",
              "      <td>8635</td>\n",
              "      <td>Handlers, Equipment Cleaners, Helpers, and Lab...</td>\n",
              "      <td>94</td>\n",
              "      <td>0.540</td>\n",
              "      <td>0.766</td>\n",
              "      <td>3.991</td>\n",
              "      <td>2.54</td>\n",
              "      <td>Inferred</td>\n",
              "      <td>NO</td>\n",
              "    </tr>\n",
              "    <tr>\n",
              "      <th>519</th>\n",
              "      <td>helpers; miscellaneous mechanics and repairers</td>\n",
              "      <td>8637</td>\n",
              "      <td>Handlers, Equipment Cleaners, Helpers, and Lab...</td>\n",
              "      <td>108</td>\n",
              "      <td>0.296</td>\n",
              "      <td>0.307</td>\n",
              "      <td>0.912</td>\n",
              "      <td>2.04</td>\n",
              "      <td>Inferred</td>\n",
              "      <td>NO</td>\n",
              "    </tr>\n",
              "  </tbody>\n",
              "</table>\n",
              "<p>129 rows × 10 columns</p>\n",
              "</div>"
            ],
            "text/plain": [
              "0                                          Description  ... HEALTH RISK\n",
              "10                                  financial managers  ...          NO\n",
              "13   managers; marketing, advertising, and public r...  ...          NO\n",
              "19                       managers; medicine and health  ...          NO\n",
              "24   electricity, gas, water supply, and sanitary s...  ...          NO\n",
              "25                postmasters and mail superintendents  ...          NO\n",
              "..                                                 ...  ...         ...\n",
              "501                                driver-sales worker  ...          NO\n",
              "510   industrial truck and tractor equipment operators  ...          NO\n",
              "517            helpers; industrial machinery repairers  ...          NO\n",
              "518  helpers; electrical and electronic equipment r...  ...          NO\n",
              "519     helpers; miscellaneous mechanics and repairers  ...          NO\n",
              "\n",
              "[129 rows x 10 columns]"
            ]
          },
          "metadata": {
            "tags": []
          },
          "execution_count": 50
        }
      ]
    },
    {
      "cell_type": "code",
      "metadata": {
        "colab": {
          "base_uri": "https://localhost:8080/",
          "height": 402
        },
        "id": "9UqTUef9SEmq",
        "outputId": "063df314-4ce3-4082-cf24-b2e4f1dc60ed"
      },
      "source": [
        "#Accès au ligne selon une condition, Si n < 25, on utilise la loi de Student Fisher\n",
        "df[df['Subjects'] < 10]"
      ],
      "execution_count": null,
      "outputs": [
        {
          "output_type": "execute_result",
          "data": {
            "text/html": [
              "<div>\n",
              "<style scoped>\n",
              "    .dataframe tbody tr th:only-of-type {\n",
              "        vertical-align: middle;\n",
              "    }\n",
              "\n",
              "    .dataframe tbody tr th {\n",
              "        vertical-align: top;\n",
              "    }\n",
              "\n",
              "    .dataframe thead th {\n",
              "        text-align: right;\n",
              "    }\n",
              "</style>\n",
              "<table border=\"1\" class=\"dataframe\">\n",
              "  <thead>\n",
              "    <tr style=\"text-align: right;\">\n",
              "      <th></th>\n",
              "      <th>Description</th>\n",
              "      <th>SOC</th>\n",
              "      <th>SOC DIVISION</th>\n",
              "      <th>Subjects</th>\n",
              "      <th>AM (uT)</th>\n",
              "      <th>SD (uT)</th>\n",
              "      <th>GM (uT)</th>\n",
              "      <th>GSD</th>\n",
              "      <th>Data Type</th>\n",
              "      <th>HEALTH RISK</th>\n",
              "    </tr>\n",
              "  </thead>\n",
              "  <tbody>\n",
              "    <tr>\n",
              "      <th>9</th>\n",
              "      <td>general managers and other top executives</td>\n",
              "      <td>1210</td>\n",
              "      <td>Executive, Administrative, and Managerial Occu...</td>\n",
              "      <td>8</td>\n",
              "      <td>0.190</td>\n",
              "      <td>0.203</td>\n",
              "      <td>0.410</td>\n",
              "      <td>2.39</td>\n",
              "      <td>Raw</td>\n",
              "      <td>NO</td>\n",
              "    </tr>\n",
              "    <tr>\n",
              "      <th>14</th>\n",
              "      <td>managers; engineering, mathematics, and natura...</td>\n",
              "      <td>1260</td>\n",
              "      <td>Executive, Administrative, and Managerial Occu...</td>\n",
              "      <td>2</td>\n",
              "      <td>0.065</td>\n",
              "      <td>0.005</td>\n",
              "      <td>0.000</td>\n",
              "      <td>1.08</td>\n",
              "      <td>Raw</td>\n",
              "      <td>NO</td>\n",
              "    </tr>\n",
              "    <tr>\n",
              "      <th>15</th>\n",
              "      <td>managers; social sciences and related fields</td>\n",
              "      <td>1270</td>\n",
              "      <td>Executive, Administrative, and Managerial Occu...</td>\n",
              "      <td>1</td>\n",
              "      <td>0.116</td>\n",
              "      <td>0.000</td>\n",
              "      <td>0.000</td>\n",
              "      <td>1.00</td>\n",
              "      <td>Raw</td>\n",
              "      <td>NO</td>\n",
              "    </tr>\n",
              "    <tr>\n",
              "      <th>16</th>\n",
              "      <td>administrators; colleges and universities</td>\n",
              "      <td>1281</td>\n",
              "      <td>Executive, Administrative, and Managerial Occu...</td>\n",
              "      <td>7</td>\n",
              "      <td>0.135</td>\n",
              "      <td>0.110</td>\n",
              "      <td>0.109</td>\n",
              "      <td>1.73</td>\n",
              "      <td>Inferred</td>\n",
              "      <td>NO</td>\n",
              "    </tr>\n",
              "    <tr>\n",
              "      <th>17</th>\n",
              "      <td>administrators; elementary and secondary educa...</td>\n",
              "      <td>1282</td>\n",
              "      <td>Executive, Administrative, and Managerial Occu...</td>\n",
              "      <td>6</td>\n",
              "      <td>0.190</td>\n",
              "      <td>0.148</td>\n",
              "      <td>0.218</td>\n",
              "      <td>1.99</td>\n",
              "      <td>Raw</td>\n",
              "      <td>NO</td>\n",
              "    </tr>\n",
              "    <tr>\n",
              "      <th>...</th>\n",
              "      <td>...</td>\n",
              "      <td>...</td>\n",
              "      <td>...</td>\n",
              "      <td>...</td>\n",
              "      <td>...</td>\n",
              "      <td>...</td>\n",
              "      <td>...</td>\n",
              "      <td>...</td>\n",
              "      <td>...</td>\n",
              "      <td>...</td>\n",
              "    </tr>\n",
              "    <tr>\n",
              "      <th>534</th>\n",
              "      <td>garage and service station related occupations</td>\n",
              "      <td>8730</td>\n",
              "      <td>Handlers, Equipment Cleaners, Helpers, and Lab...</td>\n",
              "      <td>6</td>\n",
              "      <td>0.236</td>\n",
              "      <td>0.123</td>\n",
              "      <td>0.146</td>\n",
              "      <td>1.68</td>\n",
              "      <td>Raw</td>\n",
              "      <td>NO</td>\n",
              "    </tr>\n",
              "    <tr>\n",
              "      <th>535</th>\n",
              "      <td>parking lot attendants</td>\n",
              "      <td>8740</td>\n",
              "      <td>Handlers, Equipment Cleaners, Helpers, and Lab...</td>\n",
              "      <td>6</td>\n",
              "      <td>0.236</td>\n",
              "      <td>0.112</td>\n",
              "      <td>0.146</td>\n",
              "      <td>1.60</td>\n",
              "      <td>Inferred</td>\n",
              "      <td>NO</td>\n",
              "    </tr>\n",
              "    <tr>\n",
              "      <th>536</th>\n",
              "      <td>hand packers and packagers</td>\n",
              "      <td>8761</td>\n",
              "      <td>Handlers, Equipment Cleaners, Helpers, and Lab...</td>\n",
              "      <td>5</td>\n",
              "      <td>0.363</td>\n",
              "      <td>0.235</td>\n",
              "      <td>0.499</td>\n",
              "      <td>1.94</td>\n",
              "      <td>Raw</td>\n",
              "      <td>NO</td>\n",
              "    </tr>\n",
              "    <tr>\n",
              "      <th>537</th>\n",
              "      <td>manual occupations, not elsewhere classified</td>\n",
              "      <td>8769</td>\n",
              "      <td>Handlers, Equipment Cleaners, Helpers, and Lab...</td>\n",
              "      <td>5</td>\n",
              "      <td>0.360</td>\n",
              "      <td>0.433</td>\n",
              "      <td>1.879</td>\n",
              "      <td>2.58</td>\n",
              "      <td>Raw</td>\n",
              "      <td>NO</td>\n",
              "    </tr>\n",
              "    <tr>\n",
              "      <th>538</th>\n",
              "      <td>military occupations</td>\n",
              "      <td>9100</td>\n",
              "      <td>Military Occupations</td>\n",
              "      <td>4</td>\n",
              "      <td>0.170</td>\n",
              "      <td>0.061</td>\n",
              "      <td>0.037</td>\n",
              "      <td>1.42</td>\n",
              "      <td>Raw</td>\n",
              "      <td>NO</td>\n",
              "    </tr>\n",
              "  </tbody>\n",
              "</table>\n",
              "<p>274 rows × 10 columns</p>\n",
              "</div>"
            ],
            "text/plain": [
              "0                                          Description  ... HEALTH RISK\n",
              "9            general managers and other top executives  ...          NO\n",
              "14   managers; engineering, mathematics, and natura...  ...          NO\n",
              "15        managers; social sciences and related fields  ...          NO\n",
              "16           administrators; colleges and universities  ...          NO\n",
              "17   administrators; elementary and secondary educa...  ...          NO\n",
              "..                                                 ...  ...         ...\n",
              "534     garage and service station related occupations  ...          NO\n",
              "535                             parking lot attendants  ...          NO\n",
              "536                         hand packers and packagers  ...          NO\n",
              "537       manual occupations, not elsewhere classified  ...          NO\n",
              "538                               military occupations  ...          NO\n",
              "\n",
              "[274 rows x 10 columns]"
            ]
          },
          "metadata": {
            "tags": []
          },
          "execution_count": 51
        }
      ]
    },
    {
      "cell_type": "markdown",
      "metadata": {
        "id": "rMFQ9PzYgAKH"
      },
      "source": [
        "# **Statistiques inférentielles: Statistiques d'erreur standard \n",
        "\n",
        "**BIAIS dans les résultats: ERREURS D'ÉCHANTILLONNAGE**\n",
        "**Erreur standard de la moyenne (SEM)** Dans ce contexte-ci j'ignore l'écart-type de la population, je vais donc utiliser l'écart-type de l'échantillon comme remplacement le plus proche. Le SEM peut ensuite être calculé à l'aide de la formule suivante. L'une des principales hypothèses ici est que les observations de l'échantillon sont statistiquement indépendantes. **Standard error of the mean (SEM) = s / √n**\n",
        "\n",
        "où\n",
        "\n",
        "s: sample standard deviation n: sample size\n",
        "\n",
        "Intervalle de confiance\n",
        "68%CI = Score ±SEM\n",
        "95%CI = Score ±(1.96*SEM)\n",
        "99%CI = Score ±(2.58*SEM)\n"
      ]
    },
    {
      "cell_type": "code",
      "metadata": {
        "colab": {
          "base_uri": "https://localhost:8080/",
          "height": 77
        },
        "id": "VnsJ_oyxgpFe",
        "outputId": "e44711fb-6b04-4a6d-b986-4db8fe0a2a3f"
      },
      "source": [
        "#Liste des ocupations plus grande que  la limite d'exposition aux champs magnétiques  en micro tesla (uT), selon les recommandations de ICNIRP\n",
        "df[df['GM (uT)'] > 1000]\n",
        "\n"
      ],
      "execution_count": null,
      "outputs": [
        {
          "output_type": "execute_result",
          "data": {
            "text/html": [
              "<div>\n",
              "<style scoped>\n",
              "    .dataframe tbody tr th:only-of-type {\n",
              "        vertical-align: middle;\n",
              "    }\n",
              "\n",
              "    .dataframe tbody tr th {\n",
              "        vertical-align: top;\n",
              "    }\n",
              "\n",
              "    .dataframe thead th {\n",
              "        text-align: right;\n",
              "    }\n",
              "</style>\n",
              "<table border=\"1\" class=\"dataframe\">\n",
              "  <thead>\n",
              "    <tr style=\"text-align: right;\">\n",
              "      <th></th>\n",
              "      <th>Description</th>\n",
              "      <th>SOC</th>\n",
              "      <th>SOC DIVISION</th>\n",
              "      <th>Subjects</th>\n",
              "      <th>AM (uT)</th>\n",
              "      <th>SD (uT)</th>\n",
              "      <th>GM (uT)</th>\n",
              "      <th>GSD</th>\n",
              "      <th>Data Type</th>\n",
              "      <th>HEALTH RISK</th>\n",
              "    </tr>\n",
              "  </thead>\n",
              "  <tbody>\n",
              "    <tr>\n",
              "      <th>371</th>\n",
              "      <td>electrical power installers and repairers</td>\n",
              "      <td>6433</td>\n",
              "      <td>Construction and Extractive Occupations</td>\n",
              "      <td>156</td>\n",
              "      <td>3.474</td>\n",
              "      <td>10.731</td>\n",
              "      <td>1147.146</td>\n",
              "      <td>4.34</td>\n",
              "      <td>Raw</td>\n",
              "      <td>YES</td>\n",
              "    </tr>\n",
              "  </tbody>\n",
              "</table>\n",
              "</div>"
            ],
            "text/plain": [
              "0                                  Description   SOC  ... Data Type  HEALTH RISK\n",
              "371  electrical power installers and repairers  6433  ...       Raw          YES\n",
              "\n",
              "[1 rows x 10 columns]"
            ]
          },
          "metadata": {
            "tags": []
          },
          "execution_count": 52
        }
      ]
    },
    {
      "cell_type": "code",
      "metadata": {
        "colab": {
          "base_uri": "https://localhost:8080/",
          "height": 106
        },
        "id": "qkUzWSOf4aE7",
        "outputId": "68b927ba-7521-4440-b9ff-1d2bd3d42c42"
      },
      "source": [
        "#Liste des ocupations plus grande ou égale à la limite d'exposition aux champs magnétiques  en micro tesla (uT), selon les limites d'exposition l'OMS pour la Finlande.\n",
        "df[df['GM (uT)'] > 500]\n"
      ],
      "execution_count": null,
      "outputs": [
        {
          "output_type": "execute_result",
          "data": {
            "text/html": [
              "<div>\n",
              "<style scoped>\n",
              "    .dataframe tbody tr th:only-of-type {\n",
              "        vertical-align: middle;\n",
              "    }\n",
              "\n",
              "    .dataframe tbody tr th {\n",
              "        vertical-align: top;\n",
              "    }\n",
              "\n",
              "    .dataframe thead th {\n",
              "        text-align: right;\n",
              "    }\n",
              "</style>\n",
              "<table border=\"1\" class=\"dataframe\">\n",
              "  <thead>\n",
              "    <tr style=\"text-align: right;\">\n",
              "      <th></th>\n",
              "      <th>Description</th>\n",
              "      <th>SOC</th>\n",
              "      <th>SOC DIVISION</th>\n",
              "      <th>Subjects</th>\n",
              "      <th>AM (uT)</th>\n",
              "      <th>SD (uT)</th>\n",
              "      <th>GM (uT)</th>\n",
              "      <th>GSD</th>\n",
              "      <th>Data Type</th>\n",
              "      <th>HEALTH RISK</th>\n",
              "    </tr>\n",
              "  </thead>\n",
              "  <tbody>\n",
              "    <tr>\n",
              "      <th>331</th>\n",
              "      <td>timber cutting and related occupations</td>\n",
              "      <td>5730</td>\n",
              "      <td>Agricultural, Forestry, and Fishing Occupations</td>\n",
              "      <td>9</td>\n",
              "      <td>2.480</td>\n",
              "      <td>7.703</td>\n",
              "      <td>593.403</td>\n",
              "      <td>4.66</td>\n",
              "      <td>Raw</td>\n",
              "      <td>NO</td>\n",
              "    </tr>\n",
              "    <tr>\n",
              "      <th>371</th>\n",
              "      <td>electrical power installers and repairers</td>\n",
              "      <td>6433</td>\n",
              "      <td>Construction and Extractive Occupations</td>\n",
              "      <td>156</td>\n",
              "      <td>3.474</td>\n",
              "      <td>10.731</td>\n",
              "      <td>1147.146</td>\n",
              "      <td>4.34</td>\n",
              "      <td>Raw</td>\n",
              "      <td>YES</td>\n",
              "    </tr>\n",
              "  </tbody>\n",
              "</table>\n",
              "</div>"
            ],
            "text/plain": [
              "0                                  Description   SOC  ... Data Type  HEALTH RISK\n",
              "331     timber cutting and related occupations  5730  ...       Raw           NO\n",
              "371  electrical power installers and repairers  6433  ...       Raw          YES\n",
              "\n",
              "[2 rows x 10 columns]"
            ]
          },
          "metadata": {
            "tags": []
          },
          "execution_count": 53
        }
      ]
    },
    {
      "cell_type": "code",
      "metadata": {
        "colab": {
          "base_uri": "https://localhost:8080/"
        },
        "id": "x_ofjCO2hBZF",
        "outputId": "99983451-8b68-48d3-8c6e-577837675f14"
      },
      "source": [
        "#Sem s: exemple avec SOC 6433 :  sample standard deviation= SD=10.731  n: sample size= 156 où Standard error of the mean (SEM) = s / √n\n",
        "sem = 10.731 /np.sqrt(156)\n",
        "print(sem)\n"
      ],
      "execution_count": null,
      "outputs": [
        {
          "output_type": "stream",
          "text": [
            "0.859167609241195\n"
          ],
          "name": "stdout"
        }
      ]
    },
    {
      "cell_type": "code",
      "metadata": {
        "colab": {
          "base_uri": "https://localhost:8080/"
        },
        "id": "BdBYMHKX0UCk",
        "outputId": "e6bcc9b0-e930-4247-a728-0b2ea25226bb"
      },
      "source": [
        "#Sem s: exemple avec SOC 5730 :  sample standard deviation= SD=7.7031  n: sample size= 9 où Standard error of the mean (SEM) = s / √n\n",
        "sem = 7.7031 /np.sqrt(9)\n",
        "print(sem)"
      ],
      "execution_count": null,
      "outputs": [
        {
          "output_type": "stream",
          "text": [
            "2.5677\n"
          ],
          "name": "stdout"
        }
      ]
    },
    {
      "cell_type": "code",
      "metadata": {
        "id": "Dn2VWMH5D2XW"
      },
      "source": [
        "def code_vigenere ( message, cle) :\n",
        "    # ...... à remplir\n",
        "    return message_code"
      ],
      "execution_count": null,
      "outputs": []
    }
  ]
}