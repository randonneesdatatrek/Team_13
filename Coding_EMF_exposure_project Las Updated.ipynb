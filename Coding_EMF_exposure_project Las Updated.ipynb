{
  "nbformat": 4,
  "nbformat_minor": 0,
  "metadata": {
    "colab": {
      "name": "Coding EMF exposure project.ipynb",
      "provenance": []
    },
    "kernelspec": {
      "name": "python3",
      "display_name": "Python 3"
    }
  },
  "cells": [
    {
      "cell_type": "code",
      "metadata": {
        "colab": {
          "base_uri": "https://localhost:8080/"
        },
        "id": "gSWRp-HnWc_5",
        "outputId": "0a7ac013-b71a-472c-adc7-9e2e8aba2194"
      },
      "source": [
        "print('a coeur vaillant rien d impossible ')"
      ],
      "execution_count": null,
      "outputs": [
        {
          "output_type": "stream",
          "text": [
            "a coeur vaillant rien d impossible \n"
          ],
          "name": "stdout"
        }
      ]
    },
    {
      "cell_type": "code",
      "metadata": {
        "colab": {
          "base_uri": "https://localhost:8080/",
          "height": 491
        },
        "id": "B1H94DhLWltq",
        "outputId": "c3c60d71-bea8-4edd-a045-26441ed12620"
      },
      "source": [
        "!pip install --upgrade gspread"
      ],
      "execution_count": 207,
      "outputs": [
        {
          "output_type": "stream",
          "text": [
            "Collecting gspread\n",
            "  Downloading https://files.pythonhosted.org/packages/9c/ba/bc8de4f5077bd34bc873bdd67a89cb29c4f181abba8a836d2c6a0a142365/gspread-3.6.0-py3-none-any.whl\n",
            "Requirement already satisfied, skipping upgrade: google-auth>=1.12.0 in /usr/local/lib/python3.6/dist-packages (from gspread) (1.24.0)\n",
            "Requirement already satisfied, skipping upgrade: requests>=2.2.1 in /usr/local/lib/python3.6/dist-packages (from gspread) (2.23.0)\n",
            "Requirement already satisfied, skipping upgrade: google-auth-oauthlib>=0.4.1 in /usr/local/lib/python3.6/dist-packages (from gspread) (0.4.2)\n",
            "Requirement already satisfied, skipping upgrade: cachetools<5.0,>=2.0.0 in /usr/local/lib/python3.6/dist-packages (from google-auth>=1.12.0->gspread) (4.2.1)\n",
            "Requirement already satisfied, skipping upgrade: setuptools>=40.3.0 in /usr/local/lib/python3.6/dist-packages (from google-auth>=1.12.0->gspread) (53.0.0)\n",
            "Requirement already satisfied, skipping upgrade: rsa<5,>=3.1.4; python_version >= \"3.6\" in /usr/local/lib/python3.6/dist-packages (from google-auth>=1.12.0->gspread) (4.7)\n",
            "Requirement already satisfied, skipping upgrade: six>=1.9.0 in /usr/local/lib/python3.6/dist-packages (from google-auth>=1.12.0->gspread) (1.15.0)\n",
            "Requirement already satisfied, skipping upgrade: pyasn1-modules>=0.2.1 in /usr/local/lib/python3.6/dist-packages (from google-auth>=1.12.0->gspread) (0.2.8)\n",
            "Requirement already satisfied, skipping upgrade: chardet<4,>=3.0.2 in /usr/local/lib/python3.6/dist-packages (from requests>=2.2.1->gspread) (3.0.4)\n",
            "Requirement already satisfied, skipping upgrade: certifi>=2017.4.17 in /usr/local/lib/python3.6/dist-packages (from requests>=2.2.1->gspread) (2020.12.5)\n",
            "Requirement already satisfied, skipping upgrade: urllib3!=1.25.0,!=1.25.1,<1.26,>=1.21.1 in /usr/local/lib/python3.6/dist-packages (from requests>=2.2.1->gspread) (1.24.3)\n",
            "Requirement already satisfied, skipping upgrade: idna<3,>=2.5 in /usr/local/lib/python3.6/dist-packages (from requests>=2.2.1->gspread) (2.10)\n",
            "Requirement already satisfied, skipping upgrade: requests-oauthlib>=0.7.0 in /usr/local/lib/python3.6/dist-packages (from google-auth-oauthlib>=0.4.1->gspread) (1.3.0)\n",
            "Requirement already satisfied, skipping upgrade: pyasn1>=0.1.3 in /usr/local/lib/python3.6/dist-packages (from rsa<5,>=3.1.4; python_version >= \"3.6\"->google-auth>=1.12.0->gspread) (0.4.8)\n",
            "Requirement already satisfied, skipping upgrade: oauthlib>=3.0.0 in /usr/local/lib/python3.6/dist-packages (from requests-oauthlib>=0.7.0->google-auth-oauthlib>=0.4.1->gspread) (3.1.0)\n",
            "Installing collected packages: gspread\n",
            "  Found existing installation: gspread 3.0.1\n",
            "    Uninstalling gspread-3.0.1:\n",
            "      Successfully uninstalled gspread-3.0.1\n",
            "Successfully installed gspread-3.6.0\n"
          ],
          "name": "stdout"
        },
        {
          "output_type": "display_data",
          "data": {
            "application/vnd.colab-display-data+json": {
              "pip_warning": {
                "packages": [
                  "gspread"
                ]
              }
            }
          },
          "metadata": {
            "tags": []
          }
        }
      ]
    },
    {
      "cell_type": "code",
      "metadata": {
        "id": "bSR6-DdmWo2g"
      },
      "source": [
        "from google.colab import auth\r\n",
        "auth.authenticate_user()\r\n",
        "\r\n",
        "import gspread\r\n",
        "from oauth2client.client import GoogleCredentials\r\n",
        "\r\n",
        "gc = gspread.authorize(GoogleCredentials.get_application_default())"
      ],
      "execution_count": 42,
      "outputs": []
    },
    {
      "cell_type": "markdown",
      "metadata": {
        "id": "aaE8mNETgsd6"
      },
      "source": [
        "Importer les librairies"
      ]
    },
    {
      "cell_type": "code",
      "metadata": {
        "id": "8tM2CtykW8Om"
      },
      "source": [
        "import pandas as pd\r\n",
        "import matplotlib.pyplot as plt"
      ],
      "execution_count": 43,
      "outputs": []
    },
    {
      "cell_type": "markdown",
      "metadata": {
        "id": "ArSBw8D2gzP6"
      },
      "source": [
        "Importer mon Jeux de données: EMF Exposure Data"
      ]
    },
    {
      "cell_type": "code",
      "metadata": {
        "id": "jzeRovMiYeQ1"
      },
      "source": [
        "wb = gc.open_by_url('https://docs.google.com/spreadsheets/d/1wVN0RAiFJzCqO77-rQY7sNJdpEUzh0G7TVOHOR5Al5g/edit#gid=915060736')"
      ],
      "execution_count": 81,
      "outputs": []
    },
    {
      "cell_type": "code",
      "metadata": {
        "id": "jvUljyZ6Yk8k"
      },
      "source": [
        "sheet = wb.worksheet('Appendix A. Primary Standard Occupational Classifications (SOC)')"
      ],
      "execution_count": 82,
      "outputs": []
    },
    {
      "cell_type": "code",
      "metadata": {
        "id": "8qDR9MabYotr"
      },
      "source": [
        "data = sheet.get_all_values()"
      ],
      "execution_count": 83,
      "outputs": []
    },
    {
      "cell_type": "code",
      "metadata": {
        "id": "TuYiypy5YrHr"
      },
      "source": [
        "df = pd.DataFrame(data)\r\n",
        "df.columns = df.iloc[0]\r\n",
        "df = df.iloc[1:]\r\n"
      ],
      "execution_count": 84,
      "outputs": []
    },
    {
      "cell_type": "code",
      "metadata": {
        "colab": {
          "base_uri": "https://localhost:8080/",
          "height": 195
        },
        "id": "5rKBMnb1gyqD",
        "outputId": "d4899167-1dbe-4b38-b151-7efe48e560da"
      },
      "source": [
        "df.head()"
      ],
      "execution_count": 85,
      "outputs": [
        {
          "output_type": "execute_result",
          "data": {
            "text/html": [
              "<div>\n",
              "<style scoped>\n",
              "    .dataframe tbody tr th:only-of-type {\n",
              "        vertical-align: middle;\n",
              "    }\n",
              "\n",
              "    .dataframe tbody tr th {\n",
              "        vertical-align: top;\n",
              "    }\n",
              "\n",
              "    .dataframe thead th {\n",
              "        text-align: right;\n",
              "    }\n",
              "</style>\n",
              "<table border=\"1\" class=\"dataframe\">\n",
              "  <thead>\n",
              "    <tr style=\"text-align: right;\">\n",
              "      <th></th>\n",
              "      <th>Description</th>\n",
              "      <th>Subjects</th>\n",
              "      <th>Groups</th>\n",
              "      <th>AM (uT)</th>\n",
              "      <th>SD (uT)</th>\n",
              "      <th>GM (uT)</th>\n",
              "      <th>GSD</th>\n",
              "      <th>Within Var</th>\n",
              "      <th>Between Var</th>\n",
              "      <th>P for F test</th>\n",
              "      <th>Data Type</th>\n",
              "    </tr>\n",
              "  </thead>\n",
              "  <tbody>\n",
              "    <tr>\n",
              "      <th>1</th>\n",
              "      <td>legislators</td>\n",
              "      <td>15</td>\n",
              "      <td>1</td>\n",
              "      <td>0,180</td>\n",
              "      <td>0,061</td>\n",
              "      <td>0,039</td>\n",
              "      <td>1,39</td>\n",
              "      <td></td>\n",
              "      <td></td>\n",
              "      <td></td>\n",
              "      <td>Inferred</td>\n",
              "    </tr>\n",
              "    <tr>\n",
              "      <th>2</th>\n",
              "      <td>chief executives and general administrators</td>\n",
              "      <td>15</td>\n",
              "      <td>1</td>\n",
              "      <td>0,180</td>\n",
              "      <td>0,063</td>\n",
              "      <td>0,039</td>\n",
              "      <td>1,40</td>\n",
              "      <td>0,004</td>\n",
              "      <td>0,000</td>\n",
              "      <td></td>\n",
              "      <td>Raw</td>\n",
              "    </tr>\n",
              "    <tr>\n",
              "      <th>3</th>\n",
              "      <td>judicial, public safety and corrections admini...</td>\n",
              "      <td>15</td>\n",
              "      <td>1</td>\n",
              "      <td>0,180</td>\n",
              "      <td>0,061</td>\n",
              "      <td>0,039</td>\n",
              "      <td>1,39</td>\n",
              "      <td></td>\n",
              "      <td></td>\n",
              "      <td></td>\n",
              "      <td>Inferred</td>\n",
              "    </tr>\n",
              "    <tr>\n",
              "      <th>4</th>\n",
              "      <td>human resources program administrators</td>\n",
              "      <td>15</td>\n",
              "      <td>1</td>\n",
              "      <td>0,180</td>\n",
              "      <td>0,061</td>\n",
              "      <td>0,039</td>\n",
              "      <td>1,39</td>\n",
              "      <td></td>\n",
              "      <td></td>\n",
              "      <td></td>\n",
              "      <td>Inferred</td>\n",
              "    </tr>\n",
              "    <tr>\n",
              "      <th>5</th>\n",
              "      <td>natural resources program administrators</td>\n",
              "      <td>15</td>\n",
              "      <td>1</td>\n",
              "      <td>0,180</td>\n",
              "      <td>0,061</td>\n",
              "      <td>0,039</td>\n",
              "      <td>1,39</td>\n",
              "      <td></td>\n",
              "      <td></td>\n",
              "      <td></td>\n",
              "      <td>Inferred</td>\n",
              "    </tr>\n",
              "  </tbody>\n",
              "</table>\n",
              "</div>"
            ],
            "text/plain": [
              "0                                        Description  ... Data Type\n",
              "1                                        legislators  ...  Inferred\n",
              "2        chief executives and general administrators  ...       Raw\n",
              "3  judicial, public safety and corrections admini...  ...  Inferred\n",
              "4             human resources program administrators  ...  Inferred\n",
              "5           natural resources program administrators  ...  Inferred\n",
              "\n",
              "[5 rows x 11 columns]"
            ]
          },
          "metadata": {
            "tags": []
          },
          "execution_count": 85
        }
      ]
    },
    {
      "cell_type": "code",
      "metadata": {
        "colab": {
          "base_uri": "https://localhost:8080/"
        },
        "id": "KJdtToeBktrk",
        "outputId": "c7bd9f4b-1154-4c9f-9910-878afa9c594f"
      },
      "source": [
        "df.info()"
      ],
      "execution_count": 86,
      "outputs": [
        {
          "output_type": "stream",
          "text": [
            "<class 'pandas.core.frame.DataFrame'>\n",
            "RangeIndex: 538 entries, 1 to 538\n",
            "Data columns (total 11 columns):\n",
            " #   Column        Non-Null Count  Dtype \n",
            "---  ------        --------------  ----- \n",
            " 0   Description   538 non-null    object\n",
            " 1   Subjects      538 non-null    object\n",
            " 2   Groups        538 non-null    object\n",
            " 3   AM (uT)       538 non-null    object\n",
            " 4   SD (uT)       538 non-null    object\n",
            " 5   GM (uT)       538 non-null    object\n",
            " 6   GSD           538 non-null    object\n",
            " 7   Within Var    538 non-null    object\n",
            " 8   Between Var   538 non-null    object\n",
            " 9   P for F test  538 non-null    object\n",
            " 10  Data Type     538 non-null    object\n",
            "dtypes: object(11)\n",
            "memory usage: 46.4+ KB\n"
          ],
          "name": "stdout"
        }
      ]
    },
    {
      "cell_type": "code",
      "metadata": {
        "colab": {
          "base_uri": "https://localhost:8080/"
        },
        "id": "-Ysg8-k621QW",
        "outputId": "cbcdba54-7fd0-487b-ce76-4faf32e2a7c9"
      },
      "source": [
        "print(df.columns)\r\n",
        "print(df.index)"
      ],
      "execution_count": 91,
      "outputs": [
        {
          "output_type": "stream",
          "text": [
            "Index(['Description', 'Subjects', 'Groups', 'AM (uT)', 'SD (uT)', 'GM (uT)',\n",
            "       'GSD', 'Within Var', 'Between Var', 'P for F test', 'Data Type'],\n",
            "      dtype='object', name=0)\n",
            "RangeIndex(start=1, stop=539, step=1)\n"
          ],
          "name": "stdout"
        }
      ]
    },
    {
      "cell_type": "code",
      "metadata": {
        "id": "B7SluTZXcUd9"
      },
      "source": [
        "sheet = wb.worksheet('Appendix B.  Three-digit Standard Occupational Classifications (SOC) ')"
      ],
      "execution_count": 92,
      "outputs": []
    },
    {
      "cell_type": "code",
      "metadata": {
        "id": "uWrX61XZc0nT"
      },
      "source": [
        "data = sheet.get_all_values()"
      ],
      "execution_count": 93,
      "outputs": []
    },
    {
      "cell_type": "code",
      "metadata": {
        "id": "BuJBCHdac2_r"
      },
      "source": [
        "df = pd.DataFrame(data)\r\n",
        "df.columns = df.iloc[0]\r\n",
        "df = df.iloc[1:]"
      ],
      "execution_count": 94,
      "outputs": []
    },
    {
      "cell_type": "code",
      "metadata": {
        "colab": {
          "base_uri": "https://localhost:8080/",
          "height": 195
        },
        "id": "ZHJaxAkic5Hs",
        "outputId": "4df51447-6f1b-46da-ec00-535403913a9a"
      },
      "source": [
        "df.head()"
      ],
      "execution_count": 95,
      "outputs": [
        {
          "output_type": "execute_result",
          "data": {
            "text/html": [
              "<div>\n",
              "<style scoped>\n",
              "    .dataframe tbody tr th:only-of-type {\n",
              "        vertical-align: middle;\n",
              "    }\n",
              "\n",
              "    .dataframe tbody tr th {\n",
              "        vertical-align: top;\n",
              "    }\n",
              "\n",
              "    .dataframe thead th {\n",
              "        text-align: right;\n",
              "    }\n",
              "</style>\n",
              "<table border=\"1\" class=\"dataframe\">\n",
              "  <thead>\n",
              "    <tr style=\"text-align: right;\">\n",
              "      <th></th>\n",
              "      <th>Occupation</th>\n",
              "      <th>Subjects</th>\n",
              "      <th>Groups</th>\n",
              "      <th>AM (uT)</th>\n",
              "      <th>SD (uT)</th>\n",
              "      <th>GM (uT)</th>\n",
              "      <th>GSD</th>\n",
              "      <th>Within Var</th>\n",
              "      <th>Between Var</th>\n",
              "      <th>P for F test</th>\n",
              "      <th>Data Type</th>\n",
              "      <th>Category Type</th>\n",
              "    </tr>\n",
              "  </thead>\n",
              "  <tbody>\n",
              "    <tr>\n",
              "      <th>1</th>\n",
              "      <td>officials and administrators, public administr...</td>\n",
              "      <td>15</td>\n",
              "      <td>1</td>\n",
              "      <td>0,180</td>\n",
              "      <td>0,061</td>\n",
              "      <td>0,170</td>\n",
              "      <td>1,39</td>\n",
              "      <td></td>\n",
              "      <td></td>\n",
              "      <td></td>\n",
              "      <td>Inferred</td>\n",
              "      <td>Primary</td>\n",
              "    </tr>\n",
              "    <tr>\n",
              "      <th>2</th>\n",
              "      <td>chief executives and general administrators</td>\n",
              "      <td>15</td>\n",
              "      <td>1</td>\n",
              "      <td>0,180</td>\n",
              "      <td>0,063</td>\n",
              "      <td>0,170</td>\n",
              "      <td>1,40</td>\n",
              "      <td>0,0039</td>\n",
              "      <td>0,0000</td>\n",
              "      <td></td>\n",
              "      <td>Raw</td>\n",
              "      <td>Primary</td>\n",
              "    </tr>\n",
              "    <tr>\n",
              "      <th>3</th>\n",
              "      <td>officials and administrators, government agencies</td>\n",
              "      <td>15</td>\n",
              "      <td>1</td>\n",
              "      <td>0,180</td>\n",
              "      <td>0,063</td>\n",
              "      <td>0,170</td>\n",
              "      <td>1,40</td>\n",
              "      <td>0,0039</td>\n",
              "      <td>0,0000</td>\n",
              "      <td></td>\n",
              "      <td>Raw</td>\n",
              "      <td>Group</td>\n",
              "    </tr>\n",
              "    <tr>\n",
              "      <th>4</th>\n",
              "      <td>general managers and other top executives</td>\n",
              "      <td>8</td>\n",
              "      <td>1</td>\n",
              "      <td>0,190</td>\n",
              "      <td>0,203</td>\n",
              "      <td>0,130</td>\n",
              "      <td>2,39</td>\n",
              "      <td>0,0410</td>\n",
              "      <td>0,0000</td>\n",
              "      <td></td>\n",
              "      <td>Raw</td>\n",
              "      <td>Primary</td>\n",
              "    </tr>\n",
              "    <tr>\n",
              "      <th>5</th>\n",
              "      <td>financial managers</td>\n",
              "      <td>28</td>\n",
              "      <td>1</td>\n",
              "      <td>0,209</td>\n",
              "      <td>0,176</td>\n",
              "      <td>0,154</td>\n",
              "      <td>2,22</td>\n",
              "      <td>0,0309</td>\n",
              "      <td>0,0000</td>\n",
              "      <td></td>\n",
              "      <td>Raw</td>\n",
              "      <td>Primary</td>\n",
              "    </tr>\n",
              "  </tbody>\n",
              "</table>\n",
              "</div>"
            ],
            "text/plain": [
              "0                                       Occupation    ... Category Type\n",
              "1  officials and administrators, public administr...  ...       Primary\n",
              "2        chief executives and general administrators  ...       Primary\n",
              "3  officials and administrators, government agencies  ...         Group\n",
              "4          general managers and other top executives  ...       Primary\n",
              "5                                 financial managers  ...       Primary\n",
              "\n",
              "[5 rows x 12 columns]"
            ]
          },
          "metadata": {
            "tags": []
          },
          "execution_count": 95
        }
      ]
    },
    {
      "cell_type": "code",
      "metadata": {
        "colab": {
          "base_uri": "https://localhost:8080/"
        },
        "id": "lFI5AU5ek2zB",
        "outputId": "8737a181-fe79-43a2-89b2-7257fe52f346"
      },
      "source": [
        "df.info()"
      ],
      "execution_count": 96,
      "outputs": [
        {
          "output_type": "stream",
          "text": [
            "<class 'pandas.core.frame.DataFrame'>\n",
            "RangeIndex: 186 entries, 1 to 186\n",
            "Data columns (total 12 columns):\n",
            " #   Column         Non-Null Count  Dtype \n",
            "---  ------         --------------  ----- \n",
            " 0   Occupation     186 non-null    object\n",
            " 1   Subjects       186 non-null    object\n",
            " 2   Groups         186 non-null    object\n",
            " 3   AM (uT)        186 non-null    object\n",
            " 4   SD (uT)        186 non-null    object\n",
            " 5   GM (uT)        186 non-null    object\n",
            " 6   GSD            186 non-null    object\n",
            " 7   Within Var     186 non-null    object\n",
            " 8   Between Var    186 non-null    object\n",
            " 9   P for F test   186 non-null    object\n",
            " 10  Data Type      186 non-null    object\n",
            " 11  Category Type  186 non-null    object\n",
            "dtypes: object(12)\n",
            "memory usage: 17.6+ KB\n"
          ],
          "name": "stdout"
        }
      ]
    },
    {
      "cell_type": "code",
      "metadata": {
        "id": "Yrd5fXGOc7h6"
      },
      "source": [
        "\r\n",
        "sheet = wb.worksheet('Appendix C.  Two-digit Standard Occupational Classifications (SOC) ')"
      ],
      "execution_count": 97,
      "outputs": []
    },
    {
      "cell_type": "code",
      "metadata": {
        "id": "bc5iMOTJdCvS"
      },
      "source": [
        "data = sheet.get_all_values()\r\n"
      ],
      "execution_count": 98,
      "outputs": []
    },
    {
      "cell_type": "code",
      "metadata": {
        "id": "ovQaUqNzdwjp"
      },
      "source": [
        "df = pd.DataFrame(data)\r\n",
        "df.columns = df.iloc[0]\r\n",
        "df = df.iloc[1:]"
      ],
      "execution_count": 99,
      "outputs": []
    },
    {
      "cell_type": "code",
      "metadata": {
        "colab": {
          "base_uri": "https://localhost:8080/",
          "height": 195
        },
        "id": "DxqEur6NdymA",
        "outputId": "19519b8c-7e01-48f4-840e-6134fb21ccb6"
      },
      "source": [
        "df.head()"
      ],
      "execution_count": 100,
      "outputs": [
        {
          "output_type": "execute_result",
          "data": {
            "text/html": [
              "<div>\n",
              "<style scoped>\n",
              "    .dataframe tbody tr th:only-of-type {\n",
              "        vertical-align: middle;\n",
              "    }\n",
              "\n",
              "    .dataframe tbody tr th {\n",
              "        vertical-align: top;\n",
              "    }\n",
              "\n",
              "    .dataframe thead th {\n",
              "        text-align: right;\n",
              "    }\n",
              "</style>\n",
              "<table border=\"1\" class=\"dataframe\">\n",
              "  <thead>\n",
              "    <tr style=\"text-align: right;\">\n",
              "      <th></th>\n",
              "      <th>Occupation</th>\n",
              "      <th>Subjects</th>\n",
              "      <th>Groups</th>\n",
              "      <th>AM (uT)</th>\n",
              "      <th>SD (uT)</th>\n",
              "      <th>GM (uT)</th>\n",
              "      <th>GSD</th>\n",
              "      <th>Within Var</th>\n",
              "      <th>Between Var</th>\n",
              "      <th>P for F test</th>\n",
              "      <th>Data Type</th>\n",
              "      <th>Category Type</th>\n",
              "    </tr>\n",
              "  </thead>\n",
              "  <tbody>\n",
              "    <tr>\n",
              "      <th>1</th>\n",
              "      <td>officials and administrators, public administr...</td>\n",
              "      <td>15</td>\n",
              "      <td>1</td>\n",
              "      <td>0,180</td>\n",
              "      <td>0,063</td>\n",
              "      <td>0,170</td>\n",
              "      <td>1,40</td>\n",
              "      <td>0,0039</td>\n",
              "      <td>0,0000</td>\n",
              "      <td></td>\n",
              "      <td>Raw</td>\n",
              "      <td>Group</td>\n",
              "    </tr>\n",
              "    <tr>\n",
              "      <th>2</th>\n",
              "      <td>officials and administrators, other</td>\n",
              "      <td>126</td>\n",
              "      <td>16</td>\n",
              "      <td>0,186</td>\n",
              "      <td>0,200</td>\n",
              "      <td>0,143</td>\n",
              "      <td>1,96</td>\n",
              "      <td>0,0364</td>\n",
              "      <td>0,0035</td>\n",
              "      <td>0,7646</td>\n",
              "      <td>Raw</td>\n",
              "      <td>Group</td>\n",
              "    </tr>\n",
              "    <tr>\n",
              "      <th>3</th>\n",
              "      <td>management related occupations</td>\n",
              "      <td>87</td>\n",
              "      <td>9</td>\n",
              "      <td>0,156</td>\n",
              "      <td>0,101</td>\n",
              "      <td>0,131</td>\n",
              "      <td>1,79</td>\n",
              "      <td>0,0098</td>\n",
              "      <td>0,0005</td>\n",
              "      <td>0,8829</td>\n",
              "      <td>Raw</td>\n",
              "      <td>Group</td>\n",
              "    </tr>\n",
              "    <tr>\n",
              "      <th>4</th>\n",
              "      <td>engineers, surveyors and architects</td>\n",
              "      <td>182</td>\n",
              "      <td>10</td>\n",
              "      <td>0,246</td>\n",
              "      <td>0,257</td>\n",
              "      <td>0,175</td>\n",
              "      <td>2,19</td>\n",
              "      <td>0,0613</td>\n",
              "      <td>0,0046</td>\n",
              "      <td>0,1828</td>\n",
              "      <td>Raw</td>\n",
              "      <td>Group</td>\n",
              "    </tr>\n",
              "    <tr>\n",
              "      <th>5</th>\n",
              "      <td>computer, mathematical, and operations researc...</td>\n",
              "      <td>31</td>\n",
              "      <td>5</td>\n",
              "      <td>0,211</td>\n",
              "      <td>0,168</td>\n",
              "      <td>0,163</td>\n",
              "      <td>2,04</td>\n",
              "      <td>0,0234</td>\n",
              "      <td>0,0048</td>\n",
              "      <td>0,2801</td>\n",
              "      <td>Raw</td>\n",
              "      <td>Group</td>\n",
              "    </tr>\n",
              "  </tbody>\n",
              "</table>\n",
              "</div>"
            ],
            "text/plain": [
              "0                                       Occupation    ... Category Type\n",
              "1  officials and administrators, public administr...  ...         Group\n",
              "2                officials and administrators, other  ...         Group\n",
              "3                     management related occupations  ...         Group\n",
              "4                engineers, surveyors and architects  ...         Group\n",
              "5  computer, mathematical, and operations researc...  ...         Group\n",
              "\n",
              "[5 rows x 12 columns]"
            ]
          },
          "metadata": {
            "tags": []
          },
          "execution_count": 100
        }
      ]
    },
    {
      "cell_type": "code",
      "metadata": {
        "colab": {
          "base_uri": "https://localhost:8080/"
        },
        "id": "V8dmM7nwlcbb",
        "outputId": "7c80d442-0c99-4d4a-9765-3ddb3f0dc907"
      },
      "source": [
        "df.info()"
      ],
      "execution_count": 101,
      "outputs": [
        {
          "output_type": "stream",
          "text": [
            "<class 'pandas.core.frame.DataFrame'>\n",
            "RangeIndex: 51 entries, 1 to 51\n",
            "Data columns (total 12 columns):\n",
            " #   Column         Non-Null Count  Dtype \n",
            "---  ------         --------------  ----- \n",
            " 0   Occupation     51 non-null     object\n",
            " 1   Subjects       51 non-null     object\n",
            " 2   Groups         51 non-null     object\n",
            " 3   AM (uT)        51 non-null     object\n",
            " 4   SD (uT)        51 non-null     object\n",
            " 5   GM (uT)        51 non-null     object\n",
            " 6   GSD            51 non-null     object\n",
            " 7   Within Var     51 non-null     object\n",
            " 8   Between Var    51 non-null     object\n",
            " 9   P for F test   51 non-null     object\n",
            " 10  Data Type      51 non-null     object\n",
            " 11  Category Type  51 non-null     object\n",
            "dtypes: object(12)\n",
            "memory usage: 4.9+ KB\n"
          ],
          "name": "stdout"
        }
      ]
    },
    {
      "cell_type": "code",
      "metadata": {
        "id": "iWTlFZB4d1KY"
      },
      "source": [
        "\r\n",
        "sheet = wb.worksheet('Appendix D.  Bureau of Census (BOC) occupations')"
      ],
      "execution_count": 103,
      "outputs": []
    },
    {
      "cell_type": "code",
      "metadata": {
        "id": "LWMPc0RAd--Y"
      },
      "source": [
        "data = sheet.get_all_values()"
      ],
      "execution_count": 104,
      "outputs": []
    },
    {
      "cell_type": "code",
      "metadata": {
        "id": "oTP4Kc1ZeA6Q"
      },
      "source": [
        "df = pd.DataFrame(data)\r\n",
        "df.columns = df.iloc[0]\r\n",
        "df = df.iloc[1:]"
      ],
      "execution_count": 105,
      "outputs": []
    },
    {
      "cell_type": "code",
      "metadata": {
        "colab": {
          "base_uri": "https://localhost:8080/",
          "height": 195
        },
        "id": "OaH3pkMYeEDQ",
        "outputId": "92f857d1-6646-4112-e965-cfd88dcd3e1e"
      },
      "source": [
        "df.head()"
      ],
      "execution_count": 106,
      "outputs": [
        {
          "output_type": "execute_result",
          "data": {
            "text/html": [
              "<div>\n",
              "<style scoped>\n",
              "    .dataframe tbody tr th:only-of-type {\n",
              "        vertical-align: middle;\n",
              "    }\n",
              "\n",
              "    .dataframe tbody tr th {\n",
              "        vertical-align: top;\n",
              "    }\n",
              "\n",
              "    .dataframe thead th {\n",
              "        text-align: right;\n",
              "    }\n",
              "</style>\n",
              "<table border=\"1\" class=\"dataframe\">\n",
              "  <thead>\n",
              "    <tr style=\"text-align: right;\">\n",
              "      <th></th>\n",
              "      <th>Occupation</th>\n",
              "      <th>Subjects</th>\n",
              "      <th>Groups</th>\n",
              "      <th>AM (uT)</th>\n",
              "      <th>SD (uT)</th>\n",
              "      <th>GM (uT)</th>\n",
              "      <th>GSD</th>\n",
              "      <th>Data Type</th>\n",
              "    </tr>\n",
              "  </thead>\n",
              "  <tbody>\n",
              "    <tr>\n",
              "      <th>1</th>\n",
              "      <td>Legislators</td>\n",
              "      <td>15</td>\n",
              "      <td>1</td>\n",
              "      <td>0,180</td>\n",
              "      <td>0,061</td>\n",
              "      <td>0,170</td>\n",
              "      <td>1,39</td>\n",
              "      <td>Inferred</td>\n",
              "    </tr>\n",
              "    <tr>\n",
              "      <th>2</th>\n",
              "      <td>Chief executives and general administrators, p...</td>\n",
              "      <td>15</td>\n",
              "      <td>1</td>\n",
              "      <td>0,180</td>\n",
              "      <td>0,063</td>\n",
              "      <td>0,170</td>\n",
              "      <td>1,40</td>\n",
              "      <td>Raw</td>\n",
              "    </tr>\n",
              "    <tr>\n",
              "      <th>3</th>\n",
              "      <td>Administrators, and officials, public administ...</td>\n",
              "      <td>15</td>\n",
              "      <td>1</td>\n",
              "      <td>0,180</td>\n",
              "      <td>0,061</td>\n",
              "      <td>0,170</td>\n",
              "      <td>1,39</td>\n",
              "      <td>Inferred</td>\n",
              "    </tr>\n",
              "    <tr>\n",
              "      <th>4</th>\n",
              "      <td>Administrators, protective services</td>\n",
              "      <td>15</td>\n",
              "      <td>1</td>\n",
              "      <td>0,180</td>\n",
              "      <td>0,061</td>\n",
              "      <td>0,170</td>\n",
              "      <td>1,39</td>\n",
              "      <td>Inferred</td>\n",
              "    </tr>\n",
              "    <tr>\n",
              "      <th>5</th>\n",
              "      <td>Financial managers</td>\n",
              "      <td>28</td>\n",
              "      <td>5</td>\n",
              "      <td>0,209</td>\n",
              "      <td>0,176</td>\n",
              "      <td>0,154</td>\n",
              "      <td>2,22</td>\n",
              "      <td>Raw</td>\n",
              "    </tr>\n",
              "  </tbody>\n",
              "</table>\n",
              "</div>"
            ],
            "text/plain": [
              "0                                        Occupation  Subjects  ...   GSD Data Type\n",
              "1                                        Legislators       15  ...  1,39  Inferred\n",
              "2  Chief executives and general administrators, p...       15  ...  1,40       Raw\n",
              "3  Administrators, and officials, public administ...       15  ...  1,39  Inferred\n",
              "4                Administrators, protective services       15  ...  1,39  Inferred\n",
              "5                                 Financial managers       28  ...  2,22       Raw\n",
              "\n",
              "[5 rows x 8 columns]"
            ]
          },
          "metadata": {
            "tags": []
          },
          "execution_count": 106
        }
      ]
    },
    {
      "cell_type": "code",
      "metadata": {
        "colab": {
          "base_uri": "https://localhost:8080/"
        },
        "id": "FK5k4_DqllWY",
        "outputId": "bba0dd95-a621-43fb-c118-7afbf2767619"
      },
      "source": [
        "df.info()"
      ],
      "execution_count": 107,
      "outputs": [
        {
          "output_type": "stream",
          "text": [
            "<class 'pandas.core.frame.DataFrame'>\n",
            "RangeIndex: 429 entries, 1 to 429\n",
            "Data columns (total 8 columns):\n",
            " #   Column       Non-Null Count  Dtype \n",
            "---  ------       --------------  ----- \n",
            " 0   Occupation   429 non-null    object\n",
            " 1   Subjects     429 non-null    object\n",
            " 2   Groups       429 non-null    object\n",
            " 3   AM (uT)      429 non-null    object\n",
            " 4   SD (uT)      429 non-null    object\n",
            " 5   GM (uT)      429 non-null    object\n",
            " 6   GSD          429 non-null    object\n",
            " 7   Data Type    429 non-null    object\n",
            "dtypes: object(8)\n",
            "memory usage: 26.9+ KB\n"
          ],
          "name": "stdout"
        }
      ]
    },
    {
      "cell_type": "code",
      "metadata": {
        "id": "FTdfuIf1gkVa"
      },
      "source": [
        "from google.colab import auth\r\n",
        "auth.authenticate_user()\r\n",
        "\r\n",
        "import gspread\r\n",
        "from oauth2client.client import GoogleCredentials\r\n",
        "\r\n",
        "gc = gspread.authorize(GoogleCredentials.get_application_default())"
      ],
      "execution_count": 108,
      "outputs": []
    },
    {
      "cell_type": "code",
      "metadata": {
        "id": "tYRhiks5xuuI"
      },
      "source": [
        "import pandas as pd\r\n",
        "import matplotlib.pyplot as plt"
      ],
      "execution_count": 109,
      "outputs": []
    },
    {
      "cell_type": "markdown",
      "metadata": {
        "id": "wqzgK4x3yPEW"
      },
      "source": [
        "Importer mon Jeux de données: Exposure limits EMF by WHO\r\n"
      ]
    },
    {
      "cell_type": "code",
      "metadata": {
        "id": "z2iTLGhcyl8M"
      },
      "source": [
        "wb = gc.open_by_url('https://docs.google.com/spreadsheets/d/1KldlICLvvCr5kcSJwh5C-aQwAFUdjGfYtNwU-ux-YJ4/edit#gid=355849079')"
      ],
      "execution_count": 110,
      "outputs": []
    },
    {
      "cell_type": "code",
      "metadata": {
        "id": "XoRkyJWvz8Sa"
      },
      "source": [
        "sheet = wb.worksheet('Exposure limits for static fields (worker)')"
      ],
      "execution_count": 28,
      "outputs": []
    },
    {
      "cell_type": "code",
      "metadata": {
        "id": "voNVZWYl0IyB"
      },
      "source": [
        "data = sheet.get_all_values()"
      ],
      "execution_count": 29,
      "outputs": []
    },
    {
      "cell_type": "code",
      "metadata": {
        "id": "OzcksTHi0MDZ"
      },
      "source": [
        "df = pd.DataFrame(data)\r\n",
        "df.columns = df.iloc[0]\r\n",
        "df = df.iloc[1:]"
      ],
      "execution_count": 30,
      "outputs": []
    },
    {
      "cell_type": "code",
      "metadata": {
        "colab": {
          "base_uri": "https://localhost:8080/",
          "height": 195
        },
        "id": "7kQFnqhx0M1B",
        "outputId": "02ebeda7-8150-4513-b027-cbb3f2a770cf"
      },
      "source": [
        "df.head()"
      ],
      "execution_count": 31,
      "outputs": [
        {
          "output_type": "execute_result",
          "data": {
            "text/html": [
              "<div>\n",
              "<style scoped>\n",
              "    .dataframe tbody tr th:only-of-type {\n",
              "        vertical-align: middle;\n",
              "    }\n",
              "\n",
              "    .dataframe tbody tr th {\n",
              "        vertical-align: top;\n",
              "    }\n",
              "\n",
              "    .dataframe thead th {\n",
              "        text-align: right;\n",
              "    }\n",
              "</style>\n",
              "<table border=\"1\" class=\"dataframe\">\n",
              "  <thead>\n",
              "    <tr style=\"text-align: right;\">\n",
              "      <th></th>\n",
              "      <th></th>\n",
              "      <th></th>\n",
              "      <th>Static</th>\n",
              "      <th>Static</th>\n",
              "    </tr>\n",
              "  </thead>\n",
              "  <tbody>\n",
              "    <tr>\n",
              "      <th>1</th>\n",
              "      <td>Country</td>\n",
              "      <td>Year</td>\n",
              "      <td>Electric field (kV/m)</td>\n",
              "      <td>Magnetic flux density (microT)</td>\n",
              "    </tr>\n",
              "    <tr>\n",
              "      <th>2</th>\n",
              "      <td>Argentina</td>\n",
              "      <td>2017</td>\n",
              "      <td>25</td>\n",
              "      <td>60,000/2,000,000</td>\n",
              "    </tr>\n",
              "    <tr>\n",
              "      <th>3</th>\n",
              "      <td>Austria</td>\n",
              "      <td>2017</td>\n",
              "      <td></td>\n",
              "      <td>2,000,000/8,000,000</td>\n",
              "    </tr>\n",
              "    <tr>\n",
              "      <th>4</th>\n",
              "      <td>Bahrain</td>\n",
              "      <td>2017</td>\n",
              "      <td></td>\n",
              "      <td>200</td>\n",
              "    </tr>\n",
              "    <tr>\n",
              "      <th>5</th>\n",
              "      <td>Belgium</td>\n",
              "      <td>2017</td>\n",
              "      <td></td>\n",
              "      <td>2,000,000/8,000,000</td>\n",
              "    </tr>\n",
              "  </tbody>\n",
              "</table>\n",
              "</div>"
            ],
            "text/plain": [
              "0                                  Static                          Static\n",
              "1    Country  Year  Electric field (kV/m)  Magnetic flux density (microT)\n",
              "2  Argentina  2017                     25                60,000/2,000,000\n",
              "3    Austria  2017                                    2,000,000/8,000,000\n",
              "4    Bahrain  2017                                                    200\n",
              "5    Belgium  2017                                    2,000,000/8,000,000"
            ]
          },
          "metadata": {
            "tags": []
          },
          "execution_count": 31
        }
      ]
    },
    {
      "cell_type": "code",
      "metadata": {
        "colab": {
          "base_uri": "https://localhost:8080/"
        },
        "id": "IVOUCkfAl8r3",
        "outputId": "662d1264-0947-4cbc-86ec-f5bfe5e69852"
      },
      "source": [
        "df.info()"
      ],
      "execution_count": 32,
      "outputs": [
        {
          "output_type": "stream",
          "text": [
            "<class 'pandas.core.frame.DataFrame'>\n",
            "RangeIndex: 39 entries, 1 to 39\n",
            "Data columns (total 4 columns):\n",
            " #   Column  Non-Null Count  Dtype \n",
            "---  ------  --------------  ----- \n",
            " 0           39 non-null     object\n",
            " 1           39 non-null     object\n",
            " 2   Static  39 non-null     object\n",
            " 3   Static  39 non-null     object\n",
            "dtypes: object(4)\n",
            "memory usage: 1.3+ KB\n"
          ],
          "name": "stdout"
        }
      ]
    },
    {
      "cell_type": "code",
      "metadata": {
        "id": "vQHDZW4z0Omi"
      },
      "source": [
        "sheet = wb.worksheet('Exposure limits for low-frequency fields (worker)')"
      ],
      "execution_count": 33,
      "outputs": []
    },
    {
      "cell_type": "code",
      "metadata": {
        "id": "czAkd1QJ0W7g"
      },
      "source": [
        "data = sheet.get_all_values()"
      ],
      "execution_count": 34,
      "outputs": []
    },
    {
      "cell_type": "code",
      "metadata": {
        "id": "1mEyfhPm0a5A"
      },
      "source": [
        "df = pd.DataFrame(data)\r\n",
        "df.columns = df.iloc[0]\r\n",
        "df = df.iloc[1:]"
      ],
      "execution_count": 35,
      "outputs": []
    },
    {
      "cell_type": "code",
      "metadata": {
        "colab": {
          "base_uri": "https://localhost:8080/",
          "height": 195
        },
        "id": "RImidQb50eIQ",
        "outputId": "f9aea920-1d6c-4de3-efcd-13cca17d2daf"
      },
      "source": [
        "df.head()"
      ],
      "execution_count": 36,
      "outputs": [
        {
          "output_type": "execute_result",
          "data": {
            "text/html": [
              "<div>\n",
              "<style scoped>\n",
              "    .dataframe tbody tr th:only-of-type {\n",
              "        vertical-align: middle;\n",
              "    }\n",
              "\n",
              "    .dataframe tbody tr th {\n",
              "        vertical-align: top;\n",
              "    }\n",
              "\n",
              "    .dataframe thead th {\n",
              "        text-align: right;\n",
              "    }\n",
              "</style>\n",
              "<table border=\"1\" class=\"dataframe\">\n",
              "  <thead>\n",
              "    <tr style=\"text-align: right;\">\n",
              "      <th></th>\n",
              "      <th></th>\n",
              "      <th></th>\n",
              "      <th>Low-frequency</th>\n",
              "      <th>Low-frequency</th>\n",
              "      <th>Low-frequency</th>\n",
              "    </tr>\n",
              "  </thead>\n",
              "  <tbody>\n",
              "    <tr>\n",
              "      <th>1</th>\n",
              "      <td>Country</td>\n",
              "      <td>Year</td>\n",
              "      <td>Electric field (kV/m)</td>\n",
              "      <td>Magnetic flux density (microT)</td>\n",
              "      <td>Power frequency (Hz)</td>\n",
              "    </tr>\n",
              "    <tr>\n",
              "      <th>2</th>\n",
              "      <td>Argentina</td>\n",
              "      <td>2017</td>\n",
              "      <td>25</td>\n",
              "      <td>1,2</td>\n",
              "      <td>50</td>\n",
              "    </tr>\n",
              "    <tr>\n",
              "      <th>3</th>\n",
              "      <td>Australia</td>\n",
              "      <td>2017</td>\n",
              "      <td>[10-30]</td>\n",
              "      <td>[500]/[5,000]/[25,000]</td>\n",
              "      <td>50</td>\n",
              "    </tr>\n",
              "    <tr>\n",
              "      <th>4</th>\n",
              "      <td>Austria</td>\n",
              "      <td>2017</td>\n",
              "      <td>10/20</td>\n",
              "      <td>1,000/6,000/18,000</td>\n",
              "      <td>50</td>\n",
              "    </tr>\n",
              "    <tr>\n",
              "      <th>5</th>\n",
              "      <td>Bahrain</td>\n",
              "      <td>2017</td>\n",
              "      <td>10</td>\n",
              "      <td>500</td>\n",
              "      <td>50</td>\n",
              "    </tr>\n",
              "  </tbody>\n",
              "</table>\n",
              "</div>"
            ],
            "text/plain": [
              "0                   ...                   Low-frequency         Low-frequency\n",
              "1    Country  Year  ...  Magnetic flux density (microT)  Power frequency (Hz)\n",
              "2  Argentina  2017  ...                             1,2                    50\n",
              "3  Australia  2017  ...          [500]/[5,000]/[25,000]                    50\n",
              "4    Austria  2017  ...              1,000/6,000/18,000                    50\n",
              "5    Bahrain  2017  ...                             500                    50\n",
              "\n",
              "[5 rows x 5 columns]"
            ]
          },
          "metadata": {
            "tags": []
          },
          "execution_count": 36
        }
      ]
    },
    {
      "cell_type": "code",
      "metadata": {
        "colab": {
          "base_uri": "https://localhost:8080/"
        },
        "id": "NY3pQMFamDlf",
        "outputId": "67e3aef8-ea74-4948-ecb4-f2fe55d4c8b8"
      },
      "source": [
        "df.info()"
      ],
      "execution_count": 37,
      "outputs": [
        {
          "output_type": "stream",
          "text": [
            "<class 'pandas.core.frame.DataFrame'>\n",
            "RangeIndex: 31 entries, 1 to 31\n",
            "Data columns (total 5 columns):\n",
            " #   Column         Non-Null Count  Dtype \n",
            "---  ------         --------------  ----- \n",
            " 0                  31 non-null     object\n",
            " 1                  31 non-null     object\n",
            " 2   Low-frequency  31 non-null     object\n",
            " 3   Low-frequency  31 non-null     object\n",
            " 4   Low-frequency  31 non-null     object\n",
            "dtypes: object(5)\n",
            "memory usage: 1.3+ KB\n"
          ],
          "name": "stdout"
        }
      ]
    },
    {
      "cell_type": "code",
      "metadata": {
        "id": "Mi3Tee8v0faY"
      },
      "source": [
        "sheet = wb.worksheet('Exposure limits for radio-frequency fields (worker)')\r\n"
      ],
      "execution_count": 38,
      "outputs": []
    },
    {
      "cell_type": "code",
      "metadata": {
        "id": "cH0cLz3A0ikg"
      },
      "source": [
        "data = sheet.get_all_values()"
      ],
      "execution_count": 39,
      "outputs": []
    },
    {
      "cell_type": "code",
      "metadata": {
        "id": "GyhJNVRC0ly4"
      },
      "source": [
        "df = pd.DataFrame(data)\r\n",
        "df.columns = df.iloc[0]\r\n",
        "df = df.iloc[1:]"
      ],
      "execution_count": null,
      "outputs": []
    },
    {
      "cell_type": "code",
      "metadata": {
        "colab": {
          "base_uri": "https://localhost:8080/",
          "height": 212
        },
        "id": "KqxLrMaM0mMQ",
        "outputId": "749eb114-215e-4e84-f960-7bd34b460e9c"
      },
      "source": [
        "df.head()"
      ],
      "execution_count": null,
      "outputs": [
        {
          "output_type": "execute_result",
          "data": {
            "text/html": [
              "<div>\n",
              "<style scoped>\n",
              "    .dataframe tbody tr th:only-of-type {\n",
              "        vertical-align: middle;\n",
              "    }\n",
              "\n",
              "    .dataframe tbody tr th {\n",
              "        vertical-align: top;\n",
              "    }\n",
              "\n",
              "    .dataframe thead th {\n",
              "        text-align: right;\n",
              "    }\n",
              "</style>\n",
              "<table border=\"1\" class=\"dataframe\">\n",
              "  <thead>\n",
              "    <tr style=\"text-align: right;\">\n",
              "      <th></th>\n",
              "      <th></th>\n",
              "      <th></th>\n",
              "      <th>Radiofrequency</th>\n",
              "      <th>Radiofrequency</th>\n",
              "      <th>Radiofrequency</th>\n",
              "      <th>Radiofrequency</th>\n",
              "      <th>Radiofrequency</th>\n",
              "      <th>Radiofrequency</th>\n",
              "      <th>Radiofrequency</th>\n",
              "    </tr>\n",
              "  </thead>\n",
              "  <tbody>\n",
              "    <tr>\n",
              "      <th>1</th>\n",
              "      <td></td>\n",
              "      <td></td>\n",
              "      <td>Electric field (V/m)</td>\n",
              "      <td>Electric field (V/m)</td>\n",
              "      <td>Power density (W/m^2)</td>\n",
              "      <td>Power density (W/m^2)</td>\n",
              "      <td>Specific absorption rate (SAR) (W/kg)</td>\n",
              "      <td>Specific absorption rate (SAR) (W/kg)</td>\n",
              "      <td>Specific absorption rate (SAR) (W/kg)</td>\n",
              "    </tr>\n",
              "    <tr>\n",
              "      <th>2</th>\n",
              "      <td></td>\n",
              "      <td></td>\n",
              "      <td>900 MHz</td>\n",
              "      <td>1800 MHz</td>\n",
              "      <td>900 MHz</td>\n",
              "      <td>1800 MHz</td>\n",
              "      <td></td>\n",
              "      <td></td>\n",
              "      <td></td>\n",
              "    </tr>\n",
              "    <tr>\n",
              "      <th>3</th>\n",
              "      <td>Country</td>\n",
              "      <td>Year</td>\n",
              "      <td></td>\n",
              "      <td></td>\n",
              "      <td></td>\n",
              "      <td></td>\n",
              "      <td>Whole body</td>\n",
              "      <td>Head and trunk</td>\n",
              "      <td>Limbs</td>\n",
              "    </tr>\n",
              "    <tr>\n",
              "      <th>4</th>\n",
              "      <td>Argentina</td>\n",
              "      <td>2017</td>\n",
              "      <td>106.35</td>\n",
              "      <td>150.4</td>\n",
              "      <td>30</td>\n",
              "      <td>60</td>\n",
              "      <td>0.4</td>\n",
              "      <td></td>\n",
              "      <td></td>\n",
              "    </tr>\n",
              "    <tr>\n",
              "      <th>5</th>\n",
              "      <td>Australia</td>\n",
              "      <td>2017</td>\n",
              "      <td>92.1</td>\n",
              "      <td>130</td>\n",
              "      <td>22.5</td>\n",
              "      <td>45</td>\n",
              "      <td>0.4</td>\n",
              "      <td>10</td>\n",
              "      <td>20</td>\n",
              "    </tr>\n",
              "  </tbody>\n",
              "</table>\n",
              "</div>"
            ],
            "text/plain": [
              "0             ...                         Radiofrequency\n",
              "1             ...  Specific absorption rate (SAR) (W/kg)\n",
              "2             ...                                       \n",
              "3    Country  ...                                  Limbs\n",
              "4  Argentina  ...                                       \n",
              "5  Australia  ...                                     20\n",
              "\n",
              "[5 rows x 9 columns]"
            ]
          },
          "metadata": {
            "tags": []
          },
          "execution_count": 143
        }
      ]
    },
    {
      "cell_type": "code",
      "metadata": {
        "colab": {
          "base_uri": "https://localhost:8080/"
        },
        "id": "PQitMIC6mHyv",
        "outputId": "66397bc4-58fd-49e3-d75c-3a280274ad78"
      },
      "source": [
        "df.info()"
      ],
      "execution_count": null,
      "outputs": [
        {
          "output_type": "stream",
          "text": [
            "<class 'pandas.core.frame.DataFrame'>\n",
            "RangeIndex: 34 entries, 1 to 34\n",
            "Data columns (total 9 columns):\n",
            " #   Column          Non-Null Count  Dtype \n",
            "---  ------          --------------  ----- \n",
            " 0                   34 non-null     object\n",
            " 1                   34 non-null     object\n",
            " 2   Radiofrequency  34 non-null     object\n",
            " 3   Radiofrequency  34 non-null     object\n",
            " 4   Radiofrequency  34 non-null     object\n",
            " 5   Radiofrequency  34 non-null     object\n",
            " 6   Radiofrequency  34 non-null     object\n",
            " 7   Radiofrequency  34 non-null     object\n",
            " 8   Radiofrequency  34 non-null     object\n",
            "dtypes: object(9)\n",
            "memory usage: 2.5+ KB\n"
          ],
          "name": "stdout"
        }
      ]
    },
    {
      "cell_type": "markdown",
      "metadata": {
        "id": "i_sF8VSccmGz"
      },
      "source": [
        "Manipulation de données: Accès indicé aux données d'un DataFrame\r\n",
        "\r\n"
      ]
    },
    {
      "cell_type": "code",
      "metadata": {
        "colab": {
          "base_uri": "https://localhost:8080/"
        },
        "id": "Kaq0FDAlhgR4",
        "outputId": "dde0a523-94e4-4a71-c2a7-ec2a6bec725f"
      },
      "source": [
        "##valeur située en dernière ligne, première colonne\n",
        "#utilisation de l'indiçage négatif\n",
        "\n",
        "print(df.iloc[-1,0])"
      ],
      "execution_count": null,
      "outputs": [
        {
          "output_type": "stream",
          "text": [
            "Zambia\n"
          ],
          "name": "stdout"
        }
      ]
    },
    {
      "cell_type": "code",
      "metadata": {
        "colab": {
          "base_uri": "https://localhost:8080/"
        },
        "id": "gA1fo9Uep52H",
        "outputId": "2a126f5b-f7a2-40b4-ebaf-8f5da2012626"
      },
      "source": [
        "#5 premières lignes et deux premières colonnes\n",
        "print(df.iloc[0:5,0:2])"
      ],
      "execution_count": null,
      "outputs": [
        {
          "output_type": "stream",
          "text": [
            "0                 \n",
            "1                 \n",
            "2                 \n",
            "3    Country  Year\n",
            "4  Argentina  2017\n",
            "5  Australia  2017\n"
          ],
          "name": "stdout"
        }
      ]
    },
    {
      "cell_type": "code",
      "metadata": {
        "id": "7nD9VUXNq2ne"
      },
      "source": [
        ""
      ],
      "execution_count": null,
      "outputs": []
    }
  ]
}